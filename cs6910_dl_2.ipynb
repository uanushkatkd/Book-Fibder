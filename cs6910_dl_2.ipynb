{
  "cells": [
    {
      "cell_type": "markdown",
      "metadata": {
        "id": "view-in-github",
        "colab_type": "text"
      },
      "source": [
        "<a href=\"https://colab.research.google.com/github/uanushkatkd/Book-Finder/blob/master/cs6910_dl_2.ipynb\" target=\"_parent\"><img src=\"https://colab.research.google.com/assets/colab-badge.svg\" alt=\"Open In Colab\"/></a>"
      ]
    },
    {
      "cell_type": "code",
      "execution_count": 1,
      "id": "d1706649",
      "metadata": {
        "execution": {
          "iopub.execute_input": "2023-04-07T11:18:55.180502Z",
          "iopub.status.busy": "2023-04-07T11:18:55.179687Z",
          "iopub.status.idle": "2023-04-07T11:18:58.147235Z",
          "shell.execute_reply": "2023-04-07T11:18:58.146104Z"
        },
        "papermill": {
          "duration": 2.974913,
          "end_time": "2023-04-07T11:18:58.150711",
          "exception": false,
          "start_time": "2023-04-07T11:18:55.175798",
          "status": "completed"
        },
        "tags": [],
        "colab": {
          "base_uri": "https://localhost:8080/"
        },
        "id": "d1706649",
        "outputId": "c09236fb-5dfa-41b2-a543-11523c218ebe"
      },
      "outputs": [
        {
          "output_type": "stream",
          "name": "stdout",
          "text": [
            "cuda:0\n",
            "2.0.0+cu118\n",
            "cuda\n"
          ]
        }
      ],
      "source": [
        "import torch\n",
        "import torch.nn as nn\n",
        "print(torch.device('cuda:0'))\n",
        "print(torch.__version__)\n",
        "\n",
        "device = torch.device(\"cuda\" if torch.cuda.is_available() else \"cpu\")\n",
        "print(device)"
      ]
    },
    {
      "cell_type": "code",
      "execution_count": 2,
      "id": "bfc3bb19",
      "metadata": {
        "execution": {
          "iopub.execute_input": "2023-04-07T11:18:58.158540Z",
          "iopub.status.busy": "2023-04-07T11:18:58.158066Z",
          "iopub.status.idle": "2023-04-07T11:19:45.932331Z",
          "shell.execute_reply": "2023-04-07T11:19:45.930839Z"
        },
        "papermill": {
          "duration": 47.781297,
          "end_time": "2023-04-07T11:19:45.935224",
          "exception": false,
          "start_time": "2023-04-07T11:18:58.153927",
          "status": "completed"
        },
        "tags": [],
        "colab": {
          "base_uri": "https://localhost:8080/"
        },
        "id": "bfc3bb19",
        "outputId": "0eaa2ab7-c277-4614-aec6-ec9e8b75cb7c"
      },
      "outputs": [
        {
          "output_type": "stream",
          "name": "stdout",
          "text": [
            "--2023-04-11 10:15:38--  https://storage.googleapis.com/wandb_datasets/nature_12K.zip\n",
            "Resolving storage.googleapis.com (storage.googleapis.com)... 74.125.200.128, 74.125.68.128, 74.125.24.128, ...\n",
            "Connecting to storage.googleapis.com (storage.googleapis.com)|74.125.200.128|:443... connected.\n",
            "HTTP request sent, awaiting response... 200 OK\n",
            "Length: 3816687935 (3.6G) [application/zip]\n",
            "Saving to: ‘nature_12K.zip’\n",
            "\n",
            "nature_12K.zip      100%[===================>]   3.55G  21.3MB/s    in 2m 53s  \n",
            "\n",
            "2023-04-11 10:18:32 (21.0 MB/s) - ‘nature_12K.zip’ saved [3816687935/3816687935]\n",
            "\n"
          ]
        }
      ],
      "source": [
        "!wget 'https://storage.googleapis.com/wandb_datasets/nature_12K.zip'\n",
        "!unzip -q nature_12K.zip"
      ]
    },
    {
      "cell_type": "code",
      "execution_count": 3,
      "id": "edd29c7e",
      "metadata": {
        "execution": {
          "iopub.execute_input": "2023-04-07T11:19:47.710012Z",
          "iopub.status.busy": "2023-04-07T11:19:47.701577Z",
          "iopub.status.idle": "2023-04-07T11:19:48.137919Z",
          "shell.execute_reply": "2023-04-07T11:19:48.136900Z"
        },
        "papermill": {
          "duration": 0.501656,
          "end_time": "2023-04-07T11:19:48.140529",
          "exception": false,
          "start_time": "2023-04-07T11:19:47.638873",
          "status": "completed"
        },
        "tags": [],
        "id": "edd29c7e"
      },
      "outputs": [],
      "source": [
        "# imports\n",
        "import math\n",
        "import torch\n",
        "import torch.nn.functional as F  # Parameterless functions, like (some) activation functions\n",
        "import torchvision.datasets as datasets  # Standard datasets\n",
        "import torchvision.transforms as transforms  # Transformations we can perform on our dataset for augmentation\n",
        "from torch import optim  # For optimizers like SGD, Adam, etc.\n",
        "from torch import nn  # All neural network modules\n",
        "from torch.utils.data import (\n",
        "    DataLoader, random_split\n",
        ")  # Gives easier dataset managment by creating mini batches etc.\n",
        "from tqdm import tqdm  # For nice progress bar!\n",
        "\n",
        "from torchvision.datasets import ImageFolder\n",
        "import os\n",
        "import random\n",
        "import matplotlib.pyplot as plt\n",
        "import numpy as np\n",
        "import pathlib\n",
        "torch.manual_seed(1) \n",
        "np.random.seed(1)\n",
        "device = torch.device(\"cuda\" if torch.cuda.is_available() else \"cpu\")\n",
        "\n",
        "\n",
        "# Dataset Augmentation \n",
        "def load_data(bs,augment_data=False):\n",
        "    # define the transforms to be applied to the training data\n",
        "    if augment_data:\n",
        "        train_transforms = transforms.Compose([\n",
        "          transforms.Resize((300,300)),\n",
        "          transforms.RandomHorizontalFlip(),\n",
        "          transforms.RandomRotation(10),\n",
        "          transforms.ToTensor(),\n",
        "          transforms.Normalize((0.5, 0.5, 0.5), (0.5, 0.5, 0.5))\n",
        "      ])\n",
        "    else:\n",
        "        train_transforms = transforms.Compose([\n",
        "          transforms.Resize((300,300)),\n",
        "          transforms.ToTensor(),\n",
        "          transforms.Normalize((0.5, 0.5, 0.5), (0.5, 0.5, 0.5))\n",
        "      ])\n",
        "    \n",
        "    test_transforms = transforms.Compose([\n",
        "      transforms.Resize((300,300)),\n",
        "      transforms.ToTensor(),\n",
        "      transforms.Normalize((0.5, 0.5, 0.5), (0.5, 0.5, 0.5))\n",
        "  ])\n",
        "\n",
        "\n",
        "    home_path = \"inaturalist_12K\"\n",
        "\n",
        "    train_path = os.path.join(home_path,'train')\n",
        "    test_path = os.path.join(home_path,'val')\n",
        "    # define the dataset and apply the transforms\n",
        "    train_dataset = ImageFolder(train_path, transform=train_transforms)\n",
        "    test_dataset = ImageFolder(test_path, transform=test_transforms)\n",
        "\n",
        "    # split training dataset into train and validation sets\n",
        "    train_size = int(0.8 * len(train_dataset))\n",
        "    print(train_size)\n",
        "    val_size = len(train_dataset) - train_size\n",
        "    print(val_size)\n",
        "\n",
        "    train_dataset, val_dataset = random_split(train_dataset, [train_size, val_size])\n",
        "\n",
        "    # create a data loader for the training data\n",
        "    train_loader = torch.utils.data.DataLoader(train_dataset,bs, shuffle=True)\n",
        "    val_loader = torch.utils.data.DataLoader(val_dataset, bs, shuffle=False)\n",
        "    test_loader = torch.utils.data.DataLoader(test_dataset, bs, shuffle=False)\n",
        "\n",
        "    #categories\n",
        "    root=pathlib.Path(train_path)\n",
        "\n",
        "    classes=sorted([j.name.split('/')[-1] for j in root.iterdir()])\n",
        "\n",
        "    return train_loader,val_loader,test_loader,classes\n",
        "\n",
        "\n",
        "\n"
      ]
    },
    {
      "cell_type": "code",
      "execution_count": 4,
      "id": "7c5f5f5b",
      "metadata": {
        "execution": {
          "iopub.execute_input": "2023-04-07T11:19:48.157834Z",
          "iopub.status.busy": "2023-04-07T11:19:48.157506Z",
          "iopub.status.idle": "2023-04-07T11:19:48.181396Z",
          "shell.execute_reply": "2023-04-07T11:19:48.180429Z"
        },
        "papermill": {
          "duration": 0.0347,
          "end_time": "2023-04-07T11:19:48.183608",
          "exception": false,
          "start_time": "2023-04-07T11:19:48.148908",
          "status": "completed"
        },
        "tags": [],
        "id": "7c5f5f5b"
      },
      "outputs": [],
      "source": [
        "#Simple CNN\n",
        "def flatten(k=[11,9,7,5,3],w=300, s=1, p=1):\n",
        "    r=w\n",
        "    for i in  range(len(k)):\n",
        "        print(\"r\",r)\n",
        "        r= (r+2*p-k[i])+1\n",
        "        r= int(r/2)+1\n",
        "    return r \n",
        "\n",
        "\n",
        "class CNN(nn.Module):\n",
        "    def __init__(self, in_channels=3, num_class=10,num_filters=4,kernel_sizes=[11,9,7,5,3],fc_neurons=64,batch_norm=True,dropout=0.3,filter_multiplier=2,activation='LeakyRelu'):\n",
        "\n",
        "        super(CNN, self).__init__()\n",
        "        self.in_channels=in_channels\n",
        "        self.num_class=num_class\n",
        "        self.num_filters=num_filters\n",
        "        self.kernel_sizes=kernel_sizes\n",
        "        self.fc_neurons=fc_neurons\n",
        "        self.activation=activation\n",
        "        self.batch_norm=batch_norm\n",
        "        self.dropout=dropout\n",
        "        self.filter_multiplier=filter_multiplier\n",
        "        \n",
        "        #print(\"in1\")\n",
        "        self.conv1 = nn.Conv2d(3, num_filters, kernel_size=kernel_sizes[0],stride=1, padding=1).to(device)\n",
        "        #print(\"in2\")\n",
        "        self.bn1=nn.BatchNorm2d(num_features=num_filters)\n",
        "        self.relu1 = nn.LeakyReLU()\n",
        "\n",
        "        self.pool1 = nn.MaxPool2d(kernel_size=2, stride=2, padding=1)\n",
        "\n",
        "        self.conv2 = nn.Conv2d(num_filters,filter_multiplier*num_filters,  kernel_size=kernel_sizes[1],stride=1, padding=1).to(device)\n",
        "        self.bn2=nn.BatchNorm2d(num_features=filter_multiplier*num_filters)\n",
        "        self.relu2 = nn.LeakyReLU()\n",
        "\n",
        "        self.pool2 = nn.MaxPool2d(kernel_size=2, stride=2, padding=1)\n",
        "\n",
        "        self.conv3 = nn.Conv2d(filter_multiplier*num_filters, int(math.pow(filter_multiplier, 2))*num_filters, kernel_size=kernel_sizes[2],stride=1, padding=1).to(device)\n",
        "        self.bn3=nn.BatchNorm2d(num_features=int(math.pow(filter_multiplier, 2))*num_filters)\n",
        "        self.relu3 = nn.LeakyReLU()\n",
        "\n",
        "\n",
        "        self.pool3 = nn.MaxPool2d(kernel_size=2, stride=2, padding=1)\n",
        "\n",
        "        self.conv4 = nn.Conv2d(int(math.pow(filter_multiplier, 2))*num_filters, int(math.pow(filter_multiplier, 3))*num_filters, kernel_size=kernel_sizes[3],stride=1, padding=1).to(device)\n",
        "        self.bn4=nn.BatchNorm2d(num_features=int(math.pow(filter_multiplier, 3))*num_filters)\n",
        "        self.relu4 = nn.LeakyReLU()\n",
        "\n",
        "        self.pool4 = nn.MaxPool2d(kernel_size=2, stride=2, padding=1)\n",
        "\n",
        "        self.conv5 = nn.Conv2d(int(math.pow(filter_multiplier, 3))*num_filters, int(math.pow(filter_multiplier, 4))*num_filters, kernel_size=kernel_sizes[4],stride=1, padding=1).to(device)\n",
        "        self.bn5=nn.BatchNorm2d(num_features=int(math.pow(filter_multiplier, 4))*num_filters)\n",
        "        self.relu5 = nn.LeakyReLU()\n",
        "\n",
        "\n",
        "        self.pool5 = nn.MaxPool2d(kernel_size=2, stride=2, padding=1)\n",
        "        print(\"ok pool5\")\n",
        "        self.r=flatten(kernel_sizes)\n",
        "        print(\"ok flatten\")\n",
        "        print(self.r)\n",
        "        self.fc1 = nn.Linear(in_features=int(math.pow(filter_multiplier, 4))*num_filters*self.r*self.r, out_features=fc_neurons)\n",
        "        self.relu6 = nn.LeakyReLU()\n",
        "\n",
        "        self.drop = nn.Dropout(dropout)\n",
        "        \n",
        "        self.fc2 = nn.Linear(in_features=fc_neurons, out_features=num_class)\n",
        "    \n",
        "    def forward(self, x):\n",
        "        x = self.conv1(x)\n",
        "        if self.batch_norm:\n",
        "            x = self.bn1(x)\n",
        "        x = self.relu1(x)\n",
        "        \n",
        "        x = self.pool1(x)\n",
        "        \n",
        "        x = self.conv2(x)\n",
        "        if self.batch_norm:\n",
        "            x = self.bn2(x)\n",
        "        x = self.relu2(x)\n",
        "\n",
        "        x = self.pool2(x)\n",
        "\n",
        "        x = self.conv3(x)\n",
        "        if self.batch_norm:\n",
        "            x = self.bn3(x)\n",
        "        x = self.relu3(x)\n",
        "        \n",
        "        x = self.pool3(x)\n",
        "        \n",
        "        x = self.conv4(x)\n",
        "        if self.batch_norm:\n",
        "            x = self.bn4(x)\n",
        "        x = self.relu4(x)\n",
        "       \n",
        "        x = self.pool4(x)\n",
        "     \n",
        "        x = self.conv5(x)\n",
        "        if self.batch_norm:\n",
        "            x = self.bn5(x)\n",
        "        x = self.relu5(x)\n",
        "\n",
        "        x = self.pool5(x)\n",
        "        x = x.view(x.size(0),-1)\n",
        "\n",
        "        x = self.fc1(x)\n",
        "        x = self.relu6(x)\n",
        "        x = self.drop(x)\n",
        "        \n",
        "        x = self.fc2(x)\n",
        "        \n",
        "        return x\n",
        "\n",
        "\n",
        "\n"
      ]
    },
    {
      "cell_type": "code",
      "execution_count": 8,
      "id": "173205f4",
      "metadata": {
        "execution": {
          "iopub.execute_input": "2023-04-07T11:19:48.200190Z",
          "iopub.status.busy": "2023-04-07T11:19:48.199914Z",
          "iopub.status.idle": "2023-04-07T11:50:32.615877Z",
          "shell.execute_reply": "2023-04-07T11:50:32.614873Z"
        },
        "papermill": {
          "duration": 1844.430252,
          "end_time": "2023-04-07T11:50:32.621794",
          "exception": false,
          "start_time": "2023-04-07T11:19:48.191542",
          "status": "completed"
        },
        "tags": [],
        "colab": {
          "base_uri": "https://localhost:8080/"
        },
        "id": "173205f4",
        "outputId": "d0d7458c-6f52-4922-95b0-d667b11de6a1"
      },
      "outputs": [
        {
          "output_type": "stream",
          "name": "stdout",
          "text": [
            "7999\n",
            "2000\n",
            "['.DS_Store', 'Amphibia', 'Animalia', 'Arachnida', 'Aves', 'Fungi', 'Insecta', 'Mammalia', 'Mollusca', 'Plantae', 'Reptilia']\n",
            "Feature Batch Shape: torch.Size([64, 3, 300, 300])\n",
            "Label Batch Shape: torch.Size([64])\n",
            "ok pool5\n",
            "r 300\n",
            "r 151\n",
            "r 76\n",
            "r 39\n",
            "r 20\n",
            "ok flatten\n",
            "11\n",
            "Epoch [1/15], Train Loss: 2.1334, Test Loss: 2.1505, Test Acc: 21.35%\n",
            "Epoch [2/15], Train Loss: 1.9480, Test Loss: 1.9612, Test Acc: 31.30%\n",
            "Epoch [3/15], Train Loss: 2.0581, Test Loss: 1.9284, Test Acc: 32.50%\n",
            "Epoch [4/15], Train Loss: 1.8285, Test Loss: 1.8730, Test Acc: 34.55%\n",
            "Epoch [5/15], Train Loss: 1.8385, Test Loss: 1.8725, Test Acc: 34.05%\n",
            "Epoch [6/15], Train Loss: 1.6753, Test Loss: 1.8064, Test Acc: 37.25%\n",
            "Epoch [7/15], Train Loss: 1.7379, Test Loss: 1.7734, Test Acc: 36.40%\n",
            "Epoch [8/15], Train Loss: 1.7229, Test Loss: 1.7558, Test Acc: 38.50%\n",
            "Epoch [9/15], Train Loss: 1.5215, Test Loss: 1.7803, Test Acc: 37.50%\n",
            "Epoch [10/15], Train Loss: 1.4917, Test Loss: 1.7439, Test Acc: 39.40%\n",
            "Epoch [11/15], Train Loss: 1.5123, Test Loss: 1.7671, Test Acc: 38.90%\n",
            "Epoch [12/15], Train Loss: 1.3941, Test Loss: 1.7890, Test Acc: 38.10%\n",
            "Epoch [13/15], Train Loss: 1.4545, Test Loss: 1.8436, Test Acc: 38.80%\n",
            "Epoch [14/15], Train Loss: 1.2845, Test Loss: 1.8135, Test Acc: 39.70%\n",
            "Epoch [15/15], Train Loss: 1.3934, Test Loss: 1.8889, Test Acc: 38.80%\n"
          ]
        }
      ],
      "source": [
        "# Set device\n",
        "device = torch.device(\"cuda\" if torch.cuda.is_available() else \"cpu\")\n",
        "\n",
        "# Hyperparameters\n",
        "in_channels = 3\n",
        "num_class = 10\n",
        "learning_rate = 0.0005\n",
        "batch_size = 64\n",
        "epochs = 15\n",
        "data_aug=True\n",
        "\n",
        "# Load data\n",
        "train_loader,val_loader,test_loader,classes=load_data(batch_size,data_aug)\n",
        "print(classes)\n",
        "trainfeature, trainlabel = next(iter(train_loader))\n",
        "print(f\"Feature Batch Shape: {trainfeature.size()}\")\n",
        "print(f\"Label Batch Shape: {trainlabel.size()}\")\n",
        "\n",
        "\n",
        "\n",
        "# Initialize network\n",
        "model = CNN(3,10,16,[3,3,3,3,3],128,False,0,2,'LeakyRelu').to(device)\n",
        "\n",
        "# Loss and optimizer\n",
        "criterion = nn.CrossEntropyLoss()\n",
        "optimizer=optim.NAdam(model.parameters(),lr=learning_rate,weight_decay=0.0001)\n",
        "\n",
        "# Train Network\n",
        "for epoch in range(epochs):\n",
        "    # Set the model to training mode\n",
        "    model.train()\n",
        "\n",
        "    for batch_idx, (data, targets) in enumerate(train_loader):\n",
        "        # Get data to cuda if possible\n",
        "        data = data.to(device=device)\n",
        "        targets = targets.to(device=device)\n",
        "        \n",
        "        optimizer.zero_grad()\n",
        "        # forward\n",
        "        scores = model(data)\n",
        "        loss = criterion(scores, targets)\n",
        "\n",
        "        # backward\n",
        "        \n",
        "        loss.backward()\n",
        "\n",
        "        # gradient descent or adam step\n",
        "        optimizer.step()\n",
        "        \n",
        "    # Set the model to evaluation mode\n",
        "    model.eval()\n",
        "\n",
        "    # Track the total loss and number of correct predictions\n",
        "    test_loss = 0\n",
        "    num_correct = 0\n",
        "    num_samples = 0\n",
        "\n",
        "    # Evaluate the model on the validation set\n",
        "    with torch.no_grad():\n",
        "        for data, targets in test_loader:\n",
        "            data = data.to(device=device)\n",
        "            targets = targets.to(device=device)\n",
        "\n",
        "            scores = model(data)\n",
        "            test_loss += criterion(scores, targets).item()\n",
        "\n",
        "            _, predictions = scores.max(1)\n",
        "            num_correct += (predictions == targets).sum()\n",
        "            num_samples += predictions.size(0)\n",
        "\n",
        "    # Calculate the average validation loss and accuracy\n",
        "    test_loss /= len(test_loader)\n",
        "    test_acc = float(num_correct) / num_samples\n",
        "\n",
        "    # Print the epoch number, loss, and accuracy\n",
        "    print('Epoch [{}/{}], Train Loss: {:.4f}, Test Loss: {:.4f}, Test Acc: {:.2f}%'\n",
        "          .format(epoch+1, epochs, loss.item(), test_loss, test_acc*100))\n",
        "\n",
        "# Check accuracy on training & test to see how good our model\n",
        "# Save best model\n",
        "best_model_path = 'best_model.pth'\n",
        "torch.save(model.state_dict(), best_model_path)\n",
        "print(f\"Best model saved to {best_model_path}\")"
      ]
    },
    {
      "cell_type": "code",
      "source": [
        "# Set device\n",
        "device = torch.device(\"cuda\" if torch.cuda.is_available() else \"cpu\")\n",
        "\n",
        "# Hyperparameters\n",
        "in_channels = 3\n",
        "num_class = 10\n",
        "learning_rate = 0.0001\n",
        "batch_size = 32\n",
        "epochs = 15\n",
        "data_aug=False\n",
        "\n",
        "# Load data\n",
        "train_loader,val_loader,test_loader,classes=load_data(batch_size,data_aug)\n",
        "print(classes)\n",
        "trainfeature, trainlabel = next(iter(train_loader))\n",
        "print(f\"Feature Batch Shape: {trainfeature.size()}\")\n",
        "print(f\"Label Batch Shape: {trainlabel.size()}\")\n",
        "\n",
        "\n",
        "\n",
        "# Initialize network\n",
        "model = CNN(3,10,16,[7,5,5,3,3],64,True,0.2,2,'Mish').to(device)\n",
        "\n",
        "# Loss and optimizer\n",
        "criterion = nn.CrossEntropyLoss()\n",
        "optimizer=optim.NAdam(model.parameters(),lr=learning_rate,weight_decay=0.0001)\n",
        "\n",
        "# Train Network\n",
        "for epoch in range(epochs):\n",
        "    # Set the model to training mode\n",
        "    model.train()\n",
        "\n",
        "    for batch_idx, (data, targets) in enumerate(train_loader):\n",
        "        # Get data to cuda if possible\n",
        "        data = data.to(device=device)\n",
        "        targets = targets.to(device=device)\n",
        "        \n",
        "        optimizer.zero_grad()\n",
        "        # forward\n",
        "        scores = model(data)\n",
        "        loss = criterion(scores, targets)\n",
        "\n",
        "        # backward\n",
        "        \n",
        "        loss.backward()\n",
        "\n",
        "        # gradient descent or adam step\n",
        "        optimizer.step()\n",
        "        \n",
        "    # Set the model to evaluation mode\n",
        "    model.eval()\n",
        "\n",
        "    # Track the total loss and number of correct predictions\n",
        "    test_loss = 0\n",
        "    num_correct = 0\n",
        "    num_samples = 0\n",
        "\n",
        "    # Evaluate the model on the validation set\n",
        "    with torch.no_grad():\n",
        "        for data, targets in test_loader:\n",
        "            data = data.to(device=device)\n",
        "            targets = targets.to(device=device)\n",
        "\n",
        "            scores = model(data)\n",
        "            test_loss += criterion(scores, targets).item()\n",
        "\n",
        "            _, predictions = scores.max(1)\n",
        "            num_correct += (predictions == targets).sum()\n",
        "            num_samples += predictions.size(0)\n",
        "\n",
        "    # Calculate the average validation loss and accuracy\n",
        "    test_loss /= len(test_loader)\n",
        "    test_acc = float(num_correct) / num_samples\n",
        "\n",
        "    # Print the epoch number, loss, and accuracy\n",
        "    print('Epoch [{}/{}], Train Loss: {:.4f}, Test Loss: {:.4f}, Test Acc: {:.2f}%'\n",
        "          .format(epoch+1, epochs, loss.item(), test_loss, test_acc*100))\n",
        "\n",
        "# Check accuracy on training & test to see how good our model\n",
        "# Save best model\n",
        "best_model_path = 'best_model.pth'\n",
        "torch.save(model.state_dict(), best_model_path)\n",
        "print(f\"Best model saved to {best_model_path}\")"
      ],
      "metadata": {
        "colab": {
          "base_uri": "https://localhost:8080/"
        },
        "id": "Uu9Xrbjq55Io",
        "outputId": "f474cc00-6cbe-4073-994c-c8dfee32e86b"
      },
      "id": "Uu9Xrbjq55Io",
      "execution_count": 5,
      "outputs": [
        {
          "output_type": "stream",
          "name": "stdout",
          "text": [
            "7999\n",
            "2000\n",
            "['.DS_Store', 'Amphibia', 'Animalia', 'Arachnida', 'Aves', 'Fungi', 'Insecta', 'Mammalia', 'Mollusca', 'Plantae', 'Reptilia']\n",
            "Feature Batch Shape: torch.Size([32, 3, 300, 300])\n",
            "Label Batch Shape: torch.Size([32])\n",
            "ok pool5\n",
            "r 300\n",
            "r 149\n",
            "r 74\n",
            "r 37\n",
            "r 19\n",
            "ok flatten\n",
            "10\n",
            "Epoch [1/15], Train Loss: 2.0479, Test Loss: 2.0485, Test Acc: 28.80%\n",
            "Epoch [2/15], Train Loss: 1.9781, Test Loss: 1.9840, Test Acc: 30.55%\n",
            "Epoch [3/15], Train Loss: 1.8830, Test Loss: 1.8953, Test Acc: 33.50%\n",
            "Epoch [4/15], Train Loss: 1.5873, Test Loss: 1.8801, Test Acc: 34.70%\n",
            "Epoch [5/15], Train Loss: 1.6135, Test Loss: 1.8147, Test Acc: 37.05%\n",
            "Epoch [6/15], Train Loss: 1.8353, Test Loss: 1.8832, Test Acc: 34.05%\n",
            "Epoch [7/15], Train Loss: 1.6605, Test Loss: 1.8454, Test Acc: 36.95%\n",
            "Epoch [8/15], Train Loss: 1.2188, Test Loss: 1.8422, Test Acc: 37.30%\n",
            "Epoch [9/15], Train Loss: 1.6026, Test Loss: 1.8820, Test Acc: 35.75%\n",
            "Epoch [10/15], Train Loss: 1.8103, Test Loss: 1.8908, Test Acc: 37.45%\n",
            "Epoch [11/15], Train Loss: 1.2272, Test Loss: 1.7735, Test Acc: 40.15%\n",
            "Epoch [12/15], Train Loss: 1.2077, Test Loss: 1.8376, Test Acc: 38.05%\n",
            "Epoch [13/15], Train Loss: 1.4188, Test Loss: 1.8078, Test Acc: 38.30%\n",
            "Epoch [14/15], Train Loss: 1.1272, Test Loss: 1.7984, Test Acc: 38.95%\n",
            "Epoch [15/15], Train Loss: 1.1612, Test Loss: 1.9012, Test Acc: 39.10%\n",
            "Best model saved to best_model.pth\n"
          ]
        }
      ]
    },
    {
      "cell_type": "code",
      "source": [
        "loaded_model = CNN(3,10,16,[7,5,5,3,3],64,True,0.2,2,'Mish').to(device)\n",
        "loaded_model.load_state_dict(torch.load(best_model_path)) # it takes the loaded dictionary, not the path file itself\n",
        "\n",
        "def calculate_accuracy(model, test_loader,criterion):\n",
        "    model.eval()\n",
        "    total = 0\n",
        "    correct = 0\n",
        "    cost=0\n",
        "    acc=0\n",
        "    with torch.no_grad():\n",
        "        for images, labels in test_loader:\n",
        "            images = images.to(device)\n",
        "            labels = labels.to(device)\n",
        "\n",
        "            outputs = model(images)\n",
        "            cost +=criterion(outputs,labels).item()\n",
        "            _, predicted = torch.max(outputs.data, 1)\n",
        "            total += labels.size(0)\n",
        "            correct += (predicted == labels).sum().item()\n",
        "            del images\n",
        "            del labels\n",
        "    acc=100 * correct / total\n",
        "    cost/=len(test_loader)\n",
        "        \n",
        "    return cost,acc\n",
        "loss,acc=calculate_accuracy(loaded_model,test_loader,nn.CrossEntropyLoss())\n",
        "print(loss,acc)\n",
        "\n",
        "print(loaded_model.state_dict())\n"
      ],
      "metadata": {
        "colab": {
          "base_uri": "https://localhost:8080/"
        },
        "id": "DlB9WFER0we3",
        "outputId": "b90c9920-b2d9-48b1-8192-2e0c0c71453d"
      },
      "id": "DlB9WFER0we3",
      "execution_count": 6,
      "outputs": [
        {
          "output_type": "stream",
          "name": "stdout",
          "text": [
            "ok pool5\n",
            "r 300\n",
            "r 149\n",
            "r 74\n",
            "r 37\n",
            "r 19\n",
            "ok flatten\n",
            "10\n",
            "1.9012000712137374 39.1\n",
            "OrderedDict([('conv1.weight', tensor([[[[ 2.0141e-02,  3.3061e-02, -4.1601e-02,  ..., -6.1484e-03,\n",
            "            3.4357e-03, -2.1520e-02],\n",
            "          [ 3.1791e-02, -4.9038e-02,  4.8313e-02,  ..., -7.9461e-02,\n",
            "           -3.1103e-02,  4.1372e-02],\n",
            "          [ 6.1798e-02, -7.7425e-02,  7.7568e-02,  ...,  5.8572e-02,\n",
            "           -1.7147e-02, -6.2355e-02],\n",
            "          ...,\n",
            "          [ 4.9660e-02,  1.5330e-02, -5.5032e-02,  ..., -3.8704e-02,\n",
            "            3.5708e-02,  7.8744e-02],\n",
            "          [ 4.8357e-03, -1.5454e-02,  2.8735e-02,  ...,  5.0012e-02,\n",
            "           -7.6072e-02, -5.7244e-02],\n",
            "          [-4.0769e-02, -1.0101e-02,  3.2230e-02,  ..., -8.5089e-02,\n",
            "            1.7046e-02, -7.2495e-02]],\n",
            "\n",
            "         [[ 1.0313e-02,  4.6445e-02,  2.7694e-02,  ..., -3.1812e-02,\n",
            "            3.3173e-02,  3.3953e-02],\n",
            "          [-5.8604e-02,  6.3702e-02, -3.7599e-02,  ...,  4.1538e-02,\n",
            "            6.6251e-02, -6.6446e-02],\n",
            "          [-6.9851e-02,  3.8179e-02, -7.3652e-03,  ..., -2.3294e-02,\n",
            "            2.7057e-02,  5.8513e-02],\n",
            "          ...,\n",
            "          [ 4.6086e-03,  1.2939e-02, -2.7738e-02,  ..., -7.9699e-02,\n",
            "           -5.9152e-02, -5.1177e-02],\n",
            "          [-8.8533e-02, -2.6200e-02,  3.8994e-02,  ...,  2.9848e-02,\n",
            "            6.6318e-03, -2.5491e-02],\n",
            "          [ 2.6650e-02, -2.1189e-02, -8.7109e-02,  ...,  6.3165e-02,\n",
            "            3.7918e-02,  1.9899e-02]],\n",
            "\n",
            "         [[-1.6470e-02,  7.0796e-02,  1.0123e-01,  ...,  8.9863e-02,\n",
            "            2.2221e-02,  5.2928e-02],\n",
            "          [-6.8730e-03, -1.7213e-02,  6.0593e-02,  ..., -4.6159e-02,\n",
            "           -4.3412e-05,  3.8567e-02],\n",
            "          [ 1.0958e-02,  9.9974e-02,  1.2494e-02,  ...,  7.9026e-02,\n",
            "            9.7757e-02,  5.7496e-03],\n",
            "          ...,\n",
            "          [-6.1893e-02, -6.3239e-02, -3.1798e-02,  ..., -5.3752e-02,\n",
            "            1.9023e-03, -2.9825e-03],\n",
            "          [ 3.1115e-02, -1.9086e-02, -9.4022e-03,  ...,  2.3009e-02,\n",
            "           -6.0675e-04,  2.4008e-02],\n",
            "          [ 4.9423e-02, -7.8818e-02,  6.3164e-02,  ...,  5.6747e-02,\n",
            "            2.8270e-02, -2.6609e-02]]],\n",
            "\n",
            "\n",
            "        [[[-7.0342e-02, -1.3775e-02,  7.0211e-02,  ...,  2.0024e-02,\n",
            "           -3.6829e-02,  5.3335e-03],\n",
            "          [-5.4464e-03, -4.3499e-02, -7.7337e-02,  ..., -2.2463e-03,\n",
            "            8.5934e-03,  2.1370e-02],\n",
            "          [ 7.2290e-02,  3.1976e-02, -7.5418e-02,  ..., -3.6572e-02,\n",
            "           -6.5852e-02,  2.7476e-02],\n",
            "          ...,\n",
            "          [ 6.2158e-02, -1.1707e-02, -4.8843e-02,  ..., -8.1454e-02,\n",
            "            3.4809e-02, -2.7921e-02],\n",
            "          [-1.4867e-02, -1.0571e-02, -2.5470e-02,  ...,  7.4112e-02,\n",
            "            2.5946e-02, -8.6717e-04],\n",
            "          [-4.7837e-02,  6.1421e-02, -2.6117e-02,  ...,  5.3532e-02,\n",
            "           -5.4970e-02, -8.5944e-04]],\n",
            "\n",
            "         [[-2.1987e-02,  3.5115e-02, -7.1181e-02,  ..., -8.9429e-02,\n",
            "           -2.0177e-02, -7.2308e-02],\n",
            "          [ 4.4263e-02,  4.2946e-02,  3.2972e-02,  ..., -5.8818e-02,\n",
            "           -3.4716e-03, -1.8202e-03],\n",
            "          [-4.2457e-02, -7.7766e-03, -1.7105e-02,  ...,  6.3784e-03,\n",
            "           -3.2740e-02, -3.4203e-03],\n",
            "          ...,\n",
            "          [ 3.4552e-02,  6.6967e-02,  6.4523e-02,  ...,  9.3462e-03,\n",
            "            2.4462e-02, -2.9041e-02],\n",
            "          [-4.2335e-02, -6.1643e-02, -3.7457e-02,  ..., -6.0092e-02,\n",
            "           -6.6031e-02,  4.3740e-02],\n",
            "          [ 3.7532e-02,  5.1270e-02, -5.7833e-02,  ..., -3.0198e-02,\n",
            "           -6.3940e-02,  3.8014e-02]],\n",
            "\n",
            "         [[-2.2203e-02, -4.8436e-02, -3.9517e-03,  ..., -6.4622e-03,\n",
            "            4.4863e-02,  3.2703e-02],\n",
            "          [-1.6454e-02,  5.9087e-02, -7.0902e-02,  ..., -9.7791e-03,\n",
            "            6.9208e-02,  1.5514e-02],\n",
            "          [-1.5113e-02,  9.8886e-03, -1.2794e-02,  ..., -7.0326e-02,\n",
            "            3.0798e-02, -8.3713e-02],\n",
            "          ...,\n",
            "          [-7.5559e-02,  7.7499e-02,  1.1748e-02,  ..., -3.7976e-02,\n",
            "           -4.1955e-02, -4.8085e-02],\n",
            "          [ 5.8356e-03,  4.8846e-03,  3.0130e-02,  ...,  1.3973e-02,\n",
            "           -1.0642e-03,  2.8312e-02],\n",
            "          [-3.5485e-02, -6.8629e-02, -8.0934e-02,  ..., -5.1257e-02,\n",
            "           -6.0792e-02, -5.2476e-02]]],\n",
            "\n",
            "\n",
            "        [[[ 1.1242e-02, -2.7173e-02,  2.2944e-02,  ..., -7.7491e-02,\n",
            "           -8.5508e-02,  3.0460e-02],\n",
            "          [ 2.6800e-02,  3.1327e-02, -6.1864e-02,  ..., -6.1745e-02,\n",
            "           -1.3344e-02, -8.3170e-02],\n",
            "          [-8.6176e-02, -8.5180e-02, -6.9068e-02,  ..., -5.2337e-02,\n",
            "            6.4280e-02, -9.3156e-03],\n",
            "          ...,\n",
            "          [-5.2941e-02, -6.2165e-02, -2.8679e-02,  ...,  7.5040e-02,\n",
            "            4.0500e-02, -4.9061e-02],\n",
            "          [-3.9756e-02, -7.6556e-02,  1.2737e-02,  ..., -1.0283e-02,\n",
            "            5.0314e-02,  3.9203e-02],\n",
            "          [-8.0979e-02,  6.7309e-02,  6.2828e-02,  ...,  6.8444e-02,\n",
            "           -1.7523e-02,  6.5609e-02]],\n",
            "\n",
            "         [[ 4.8562e-02,  3.1631e-02, -1.4334e-02,  ..., -2.0825e-02,\n",
            "            3.7337e-02, -5.3568e-02],\n",
            "          [ 3.9035e-02,  7.2791e-02,  7.2495e-02,  ..., -5.2695e-03,\n",
            "            4.1210e-02,  4.7223e-02],\n",
            "          [ 1.0657e-02, -5.1812e-02, -6.8729e-02,  ...,  7.9190e-02,\n",
            "           -2.0112e-02,  3.7826e-02],\n",
            "          ...,\n",
            "          [ 2.1623e-03,  5.3621e-02,  5.3429e-02,  ...,  6.3887e-02,\n",
            "           -4.2977e-02,  3.0315e-02],\n",
            "          [ 6.0253e-02, -1.2394e-04, -1.1303e-02,  ...,  7.2446e-02,\n",
            "           -2.9517e-02,  3.3823e-02],\n",
            "          [-2.7643e-02, -7.2875e-02,  1.3092e-02,  ..., -8.4608e-02,\n",
            "           -7.6508e-02, -7.6127e-02]],\n",
            "\n",
            "         [[-5.5921e-03, -6.9147e-02, -3.6710e-02,  ...,  2.2659e-02,\n",
            "            2.4674e-02, -4.9274e-02],\n",
            "          [ 5.1367e-02,  2.1070e-02, -7.2510e-02,  ...,  6.1407e-02,\n",
            "            6.4656e-03, -1.7998e-02],\n",
            "          [-8.0715e-02,  9.8355e-03,  7.4258e-02,  ..., -3.6679e-02,\n",
            "            5.2522e-03, -7.7759e-02],\n",
            "          ...,\n",
            "          [ 1.1283e-02,  6.9681e-02, -2.8941e-03,  ...,  7.7749e-02,\n",
            "           -6.4635e-02, -7.6915e-02],\n",
            "          [-4.6755e-02, -6.4832e-02, -1.7297e-02,  ..., -3.1911e-02,\n",
            "           -6.3303e-02,  4.8726e-02],\n",
            "          [-9.1565e-03,  4.8405e-02,  1.7274e-02,  ...,  1.1758e-02,\n",
            "           -8.8780e-03, -3.5552e-02]]],\n",
            "\n",
            "\n",
            "        ...,\n",
            "\n",
            "\n",
            "        [[[ 2.9577e-02, -4.0890e-02,  7.3045e-02,  ..., -5.2142e-02,\n",
            "           -3.9487e-02, -2.0298e-02],\n",
            "          [-7.0926e-02, -1.0991e-02, -4.6684e-02,  ...,  8.2862e-02,\n",
            "            3.6616e-02, -6.6393e-03],\n",
            "          [ 5.9957e-02, -7.6758e-02,  1.7344e-02,  ...,  2.5801e-02,\n",
            "           -2.8541e-03,  5.7586e-02],\n",
            "          ...,\n",
            "          [-6.9856e-02, -2.8953e-02, -1.0280e-03,  ..., -7.7935e-02,\n",
            "           -3.0215e-02,  4.4799e-02],\n",
            "          [ 3.3161e-02, -2.0168e-02, -7.7588e-02,  ..., -2.1267e-02,\n",
            "            4.2726e-02,  7.7695e-02],\n",
            "          [ 1.7636e-02,  3.6968e-02,  7.4993e-02,  ...,  2.2535e-02,\n",
            "           -7.2894e-05,  4.9280e-02]],\n",
            "\n",
            "         [[ 2.4065e-02, -5.2635e-03,  2.1893e-02,  ..., -4.9917e-02,\n",
            "            3.8416e-02, -6.6954e-02],\n",
            "          [ 6.9335e-02, -4.8972e-02, -5.0881e-03,  ...,  3.0604e-02,\n",
            "           -6.2984e-02,  2.6787e-02],\n",
            "          [ 3.7511e-02, -6.9451e-02, -3.1608e-02,  ...,  3.6181e-02,\n",
            "            5.9235e-02,  1.7427e-02],\n",
            "          ...,\n",
            "          [-5.6247e-02, -5.7526e-04,  2.0969e-02,  ...,  3.8508e-02,\n",
            "           -3.5485e-02, -7.0117e-03],\n",
            "          [-4.2762e-02,  6.6718e-02,  7.4027e-02,  ...,  2.0974e-02,\n",
            "            4.5038e-02,  8.0802e-02],\n",
            "          [ 6.6547e-02, -2.6135e-02, -7.2093e-02,  ...,  5.1627e-02,\n",
            "           -6.1796e-02,  1.7287e-02]],\n",
            "\n",
            "         [[ 5.8640e-02, -5.1908e-02, -5.9840e-02,  ...,  2.9433e-02,\n",
            "            3.7451e-03,  4.6037e-02],\n",
            "          [-7.8837e-02, -2.5831e-02, -1.4200e-02,  ..., -6.3587e-02,\n",
            "           -5.7344e-02,  5.7481e-02],\n",
            "          [-8.3048e-02, -2.2300e-02,  5.2648e-02,  ...,  8.5628e-03,\n",
            "           -1.6501e-02,  8.0957e-02],\n",
            "          ...,\n",
            "          [-5.3546e-02,  5.6030e-02, -2.3729e-02,  ...,  4.6553e-02,\n",
            "            8.3853e-02,  5.2895e-02],\n",
            "          [-7.3983e-02, -4.5775e-02,  2.0450e-02,  ...,  2.9075e-03,\n",
            "           -6.4914e-02, -5.0659e-02],\n",
            "          [-2.6349e-02,  1.5206e-02, -6.4371e-02,  ..., -6.4163e-02,\n",
            "           -5.3857e-02, -7.0171e-02]]],\n",
            "\n",
            "\n",
            "        [[[ 7.3406e-02, -5.9976e-02,  5.6615e-02,  ...,  2.2387e-02,\n",
            "           -4.1567e-02, -6.0784e-02],\n",
            "          [-7.6542e-02, -1.9787e-02,  7.1381e-02,  ...,  1.4570e-02,\n",
            "            3.0972e-02,  7.0609e-02],\n",
            "          [ 1.0464e-02, -1.2001e-02,  3.9884e-02,  ...,  3.9525e-02,\n",
            "            4.9010e-02, -7.0161e-03],\n",
            "          ...,\n",
            "          [-1.5967e-02, -1.0220e-02, -2.1251e-02,  ...,  1.6443e-02,\n",
            "            5.1046e-02, -2.1439e-02],\n",
            "          [ 4.8851e-02, -6.6030e-02, -7.4553e-02,  ..., -8.6512e-02,\n",
            "           -1.6881e-02,  2.9747e-03],\n",
            "          [-5.8081e-02, -4.8051e-02,  4.3523e-02,  ..., -2.8080e-02,\n",
            "           -6.1273e-02, -3.5003e-02]],\n",
            "\n",
            "         [[-7.2539e-02, -5.3741e-02,  3.9294e-02,  ...,  4.3287e-02,\n",
            "           -5.2379e-02,  6.3937e-02],\n",
            "          [ 4.6414e-02, -1.7127e-02, -1.9413e-02,  ...,  2.7272e-02,\n",
            "            2.2090e-02,  6.9314e-03],\n",
            "          [-4.1518e-03, -1.7066e-02,  1.5802e-02,  ...,  5.6310e-02,\n",
            "            8.5485e-02, -4.4571e-02],\n",
            "          ...,\n",
            "          [ 1.0223e-02,  1.0492e-02, -2.3792e-02,  ...,  5.3779e-02,\n",
            "           -1.6148e-02,  1.9245e-02],\n",
            "          [ 2.9873e-02, -3.0342e-03, -5.6159e-02,  ...,  2.6693e-02,\n",
            "           -2.5125e-02, -3.1928e-02],\n",
            "          [-4.1486e-02, -6.5824e-02, -4.2520e-02,  ..., -2.4548e-02,\n",
            "            2.3136e-02,  1.9980e-02]],\n",
            "\n",
            "         [[-1.7155e-03,  6.4115e-02, -7.5118e-02,  ...,  6.4401e-02,\n",
            "            1.5063e-02,  6.3469e-02],\n",
            "          [-5.2253e-03,  6.9189e-02, -9.9037e-03,  ..., -3.0853e-02,\n",
            "           -6.4061e-02, -6.1780e-02],\n",
            "          [ 4.6567e-02, -2.6943e-02, -6.7184e-02,  ..., -1.7073e-02,\n",
            "            6.0612e-02,  5.8525e-02],\n",
            "          ...,\n",
            "          [ 4.0922e-02,  7.1766e-03, -2.6725e-02,  ...,  1.7912e-02,\n",
            "            7.6219e-02, -5.5314e-02],\n",
            "          [ 3.1726e-02, -4.5422e-03, -8.2947e-02,  ..., -7.0146e-02,\n",
            "           -5.9782e-02,  7.6418e-02],\n",
            "          [-7.0090e-02, -8.3922e-02, -3.1136e-02,  ...,  4.3574e-02,\n",
            "           -4.1674e-02, -4.0870e-02]]],\n",
            "\n",
            "\n",
            "        [[[ 1.1958e-02,  4.2805e-02,  5.0126e-02,  ..., -6.9045e-02,\n",
            "            9.7108e-03,  2.7328e-02],\n",
            "          [ 7.1646e-02, -6.3994e-02,  1.4371e-02,  ...,  4.5718e-02,\n",
            "           -5.7148e-02,  2.4787e-02],\n",
            "          [ 3.3046e-04,  4.1220e-02, -1.2951e-02,  ...,  2.8725e-02,\n",
            "           -2.1186e-02, -4.8687e-02],\n",
            "          ...,\n",
            "          [-3.0959e-02,  4.8962e-02,  3.8489e-02,  ...,  1.3397e-02,\n",
            "           -4.4703e-02, -5.1943e-02],\n",
            "          [-1.8767e-02, -1.1213e-02, -8.2677e-03,  ..., -6.7670e-02,\n",
            "           -5.9432e-03, -5.3990e-02],\n",
            "          [-8.1371e-02,  3.1086e-02,  7.2824e-02,  ...,  1.6968e-02,\n",
            "           -5.1941e-02,  4.5272e-02]],\n",
            "\n",
            "         [[ 7.7383e-02, -4.9649e-03, -2.3485e-02,  ..., -7.4477e-02,\n",
            "            8.9134e-03, -3.9217e-02],\n",
            "          [-5.5315e-02,  5.5877e-02,  3.0102e-02,  ..., -4.3599e-02,\n",
            "            4.5986e-02,  3.3203e-02],\n",
            "          [ 8.1195e-02, -6.3896e-03,  2.1570e-02,  ..., -5.4936e-02,\n",
            "           -4.4460e-02, -1.3990e-02],\n",
            "          ...,\n",
            "          [-7.9924e-02, -1.8323e-02,  5.9652e-02,  ...,  1.3930e-03,\n",
            "           -1.6906e-02,  3.2233e-02],\n",
            "          [ 5.5257e-02,  2.1511e-02,  2.3386e-02,  ...,  1.4769e-02,\n",
            "           -3.2232e-02,  6.9864e-02],\n",
            "          [ 5.8123e-02,  4.0330e-02, -5.1095e-02,  ...,  5.8427e-02,\n",
            "            7.5025e-02,  6.9841e-02]],\n",
            "\n",
            "         [[ 1.5614e-02,  6.8375e-02,  2.6803e-02,  ...,  4.8984e-02,\n",
            "           -8.7004e-03, -4.8240e-02],\n",
            "          [-4.8768e-02, -5.6400e-02, -6.2784e-02,  ..., -3.3752e-02,\n",
            "           -7.6861e-02, -6.4894e-02],\n",
            "          [-2.4332e-03, -1.0789e-02, -4.3677e-02,  ..., -7.5215e-02,\n",
            "            2.5503e-02, -8.6724e-03],\n",
            "          ...,\n",
            "          [-5.8689e-02, -6.3251e-02, -6.3819e-02,  ...,  3.7948e-02,\n",
            "            3.8888e-02,  4.5853e-02],\n",
            "          [ 2.9866e-03,  6.6899e-02,  2.5209e-02,  ...,  8.0175e-02,\n",
            "           -5.9087e-02,  1.0434e-02],\n",
            "          [ 5.2912e-02,  1.8442e-02, -5.6932e-02,  ...,  3.7094e-04,\n",
            "           -8.9280e-03, -2.7909e-02]]]], device='cuda:0')), ('conv1.bias', tensor([-1.1380e-04,  2.8673e-04,  9.9522e-05,  7.1390e-05,  1.5519e-04,\n",
            "        -8.8907e-04, -4.8559e-04,  7.9497e-05,  1.1226e-03,  5.3810e-04,\n",
            "        -2.9982e-04,  1.1260e-03,  4.3294e-04,  5.0821e-04,  3.9111e-04,\n",
            "        -5.5591e-04], device='cuda:0')), ('bn1.weight', tensor([0.9912, 0.9832, 0.9951, 0.9878, 0.9788, 0.9957, 0.9990, 0.9860, 1.0107,\n",
            "        1.0093, 0.9984, 1.0037, 1.0141, 0.9976, 1.0099, 1.0015],\n",
            "       device='cuda:0')), ('bn1.bias', tensor([-0.0083, -0.0217, -0.0064, -0.0144, -0.0115, -0.0157,  0.0050, -0.0177,\n",
            "         0.0287,  0.0342,  0.0145, -0.0042,  0.0143, -0.0168, -0.0070,  0.0129],\n",
            "       device='cuda:0')), ('bn1.running_mean', tensor([-2.1671e-01,  2.0135e-01,  4.5186e-02, -3.0923e-03, -1.0358e-01,\n",
            "         9.2832e-02, -9.3242e-04,  4.9393e-02, -1.6840e-02,  2.1215e-04,\n",
            "         1.0819e-02,  1.8081e-02, -1.1069e-02,  3.7334e-02, -7.2538e-03,\n",
            "        -1.2862e-02], device='cuda:0')), ('bn1.running_var', tensor([0.1556, 0.3022, 0.0184, 0.0182, 0.0887, 0.0316, 0.0083, 0.0537, 0.0079,\n",
            "        0.0071, 0.0068, 0.0186, 0.0087, 0.0432, 0.0443, 0.0102],\n",
            "       device='cuda:0')), ('bn1.num_batches_tracked', tensor(3750, device='cuda:0')), ('conv2.weight', tensor([[[[-1.4588e-02, -1.5628e-02,  4.5402e-02,  4.2713e-02,  5.0481e-03],\n",
            "          [-4.3766e-02,  2.3660e-02,  9.4959e-03, -3.3256e-02, -3.3078e-03],\n",
            "          [-1.8771e-02,  2.2938e-02,  3.5551e-02,  4.5122e-03, -4.1888e-02],\n",
            "          [ 3.6221e-02, -4.7570e-03,  3.6749e-02,  5.6849e-03,  1.6513e-02],\n",
            "          [-4.4450e-02, -3.5569e-02,  1.3753e-02, -1.1969e-02,  1.8797e-02]],\n",
            "\n",
            "         [[-7.4257e-03, -3.7542e-02, -5.1636e-03, -1.8564e-02,  2.8203e-02],\n",
            "          [ 1.7551e-02, -1.1227e-02,  3.1635e-02, -1.6003e-03,  5.2735e-02],\n",
            "          [ 2.3011e-02,  1.7948e-02,  1.9931e-02,  2.8716e-02, -3.9258e-02],\n",
            "          [ 4.7801e-02,  3.1408e-02,  5.7778e-03,  1.3879e-02, -5.6273e-03],\n",
            "          [ 3.6134e-03, -3.8149e-03, -1.8662e-02, -1.5919e-03,  3.8979e-02]],\n",
            "\n",
            "         [[-2.5851e-02,  4.8602e-02, -3.1524e-02,  5.5405e-02, -1.6653e-02],\n",
            "          [ 1.2577e-02,  3.6420e-02,  6.1093e-02,  2.4895e-02, -2.2752e-02],\n",
            "          [-2.0740e-02,  2.2254e-02,  2.2881e-02, -4.1944e-02,  2.5036e-02],\n",
            "          [ 2.7134e-02,  1.1611e-03, -4.3739e-02, -5.6130e-02, -9.8308e-03],\n",
            "          [ 4.2384e-02,  4.7403e-02, -1.7999e-02, -1.4211e-02, -3.7068e-02]],\n",
            "\n",
            "         ...,\n",
            "\n",
            "         [[-3.0382e-02, -2.4917e-02,  1.8430e-02, -5.5375e-02, -3.6945e-02],\n",
            "          [ 3.2703e-02,  2.8670e-02,  9.6833e-03,  1.4292e-02, -3.3068e-02],\n",
            "          [ 4.8735e-02,  3.1262e-02, -1.7600e-02, -8.6079e-03,  9.7456e-03],\n",
            "          [ 1.8353e-02, -5.0439e-02, -5.8572e-02,  3.4848e-02, -4.4102e-02],\n",
            "          [-2.4777e-02,  3.8568e-02, -1.5810e-02,  3.7539e-02, -2.2876e-02]],\n",
            "\n",
            "         [[-1.2929e-02, -2.8866e-02,  2.2894e-02,  3.3045e-02, -3.8653e-02],\n",
            "          [-2.2917e-02, -1.8436e-02,  1.9332e-02, -4.9786e-02,  1.8409e-02],\n",
            "          [ 3.3501e-03, -6.2032e-03,  3.3760e-02,  1.4041e-02, -2.7066e-02],\n",
            "          [-1.8906e-02, -1.5691e-03,  1.0251e-02, -2.5796e-03, -5.6449e-02],\n",
            "          [-1.1361e-02, -1.8723e-02, -3.2239e-02, -5.1798e-02, -7.8645e-03]],\n",
            "\n",
            "         [[ 1.2482e-02, -5.3392e-02, -1.9788e-02, -2.5598e-02, -3.0601e-02],\n",
            "          [ 2.0793e-02,  2.3466e-02, -1.8490e-02, -9.5184e-03,  3.0093e-02],\n",
            "          [ 5.6095e-03, -1.3157e-02, -3.0316e-02, -3.5947e-02, -3.7067e-02],\n",
            "          [-1.5446e-02, -2.5738e-02,  3.6992e-02, -1.9149e-03,  9.2136e-03],\n",
            "          [-4.7726e-02,  1.1444e-02,  3.0567e-02, -2.3633e-02,  4.7985e-02]]],\n",
            "\n",
            "\n",
            "        [[[ 7.1790e-03, -5.1587e-02,  2.2665e-02,  4.6367e-02, -8.9455e-03],\n",
            "          [-3.4839e-02, -1.5064e-02, -4.2329e-02, -1.5119e-02, -3.5841e-02],\n",
            "          [-4.0871e-02,  4.2661e-02, -1.7053e-02,  1.9963e-02, -3.7965e-02],\n",
            "          [-2.5708e-02,  4.4688e-02, -1.1316e-02,  3.2778e-02, -4.7276e-02],\n",
            "          [-4.6310e-02, -4.3905e-02, -1.4352e-02,  3.2466e-02, -3.8834e-02]],\n",
            "\n",
            "         [[-4.1290e-02, -6.0703e-03,  1.7342e-02,  2.8018e-02, -1.4132e-02],\n",
            "          [-8.5498e-03,  3.0266e-02, -6.4424e-03, -4.2482e-02,  5.2541e-03],\n",
            "          [-7.7775e-03, -4.7634e-02, -1.5045e-02, -4.3318e-02,  1.9933e-02],\n",
            "          [ 1.1676e-02,  2.9442e-02,  2.0030e-02,  3.9895e-02,  2.9219e-02],\n",
            "          [ 2.8117e-03,  1.9755e-02, -4.7862e-02,  2.0146e-02,  1.7070e-02]],\n",
            "\n",
            "         [[ 3.7443e-02,  2.7051e-03, -2.5863e-02, -3.4563e-02,  1.8559e-02],\n",
            "          [-2.1444e-02,  3.2243e-02,  7.9809e-03,  2.9928e-03,  4.3448e-02],\n",
            "          [-1.8029e-02, -2.1487e-02,  3.3734e-02, -3.7570e-03, -2.9916e-02],\n",
            "          [-9.2976e-03, -5.6433e-02,  4.0539e-02,  9.6306e-03, -5.4966e-02],\n",
            "          [ 2.0266e-02, -7.0505e-03, -2.1296e-02, -3.5442e-02, -5.9800e-02]],\n",
            "\n",
            "         ...,\n",
            "\n",
            "         [[ 8.9312e-03, -5.1330e-02, -1.2162e-02, -5.8920e-02, -2.9954e-03],\n",
            "          [ 2.7759e-02,  3.3926e-02,  1.1470e-02, -3.0236e-02,  4.0649e-02],\n",
            "          [-5.8921e-02,  2.3047e-02, -3.1283e-02,  1.7605e-02,  2.1594e-03],\n",
            "          [-4.9013e-02,  2.6034e-02,  3.9805e-02, -1.2169e-02, -2.4391e-02],\n",
            "          [ 3.3776e-02,  3.2937e-02, -1.4352e-02, -3.4107e-02, -5.9360e-03]],\n",
            "\n",
            "         [[ 3.2459e-02, -3.3033e-02, -3.0088e-02,  2.4569e-02, -4.8722e-02],\n",
            "          [ 2.9778e-02, -2.8246e-02,  1.4531e-02, -1.7680e-02,  8.3944e-03],\n",
            "          [-1.5537e-02,  1.7490e-02,  3.1975e-02, -3.3925e-02,  4.4167e-02],\n",
            "          [ 2.1743e-03, -1.9416e-02,  1.8436e-02, -3.3355e-02, -4.6695e-03],\n",
            "          [ 3.8516e-02, -3.9960e-02,  4.3030e-02,  3.6937e-02,  1.0619e-02]],\n",
            "\n",
            "         [[ 2.6176e-02, -3.4830e-02,  4.7919e-02, -1.3866e-03, -5.4366e-03],\n",
            "          [ 2.8027e-02, -3.9567e-02, -3.1099e-02, -4.2460e-02, -1.6739e-02],\n",
            "          [-2.2842e-02,  6.0717e-03, -5.2299e-02, -2.5706e-02, -5.9313e-02],\n",
            "          [-5.3321e-03,  3.6936e-02,  2.1172e-02,  3.9226e-02,  1.6520e-02],\n",
            "          [ 5.2224e-02, -2.7518e-02, -2.5266e-02, -3.6451e-02,  3.7419e-02]]],\n",
            "\n",
            "\n",
            "        [[[-5.0038e-02, -2.0008e-04, -2.4971e-02,  2.1773e-02,  1.8547e-02],\n",
            "          [ 2.5227e-02, -1.5480e-03,  2.1970e-02, -4.5093e-02,  3.3506e-02],\n",
            "          [-1.6942e-02, -1.3566e-02,  8.2566e-03, -2.2471e-02, -2.4352e-02],\n",
            "          [-5.6623e-03, -7.3710e-03,  4.2249e-02,  2.4981e-02, -3.3492e-02],\n",
            "          [ 4.2393e-02, -2.7574e-02, -1.7025e-02,  4.2397e-02,  3.8639e-02]],\n",
            "\n",
            "         [[ 3.9224e-02,  2.3483e-02, -4.1974e-02, -2.9991e-02, -1.9842e-02],\n",
            "          [ 1.2001e-02,  4.4343e-02,  2.5988e-02,  1.0093e-02, -3.4432e-02],\n",
            "          [ 2.8060e-02, -2.7972e-03,  1.5313e-02, -2.4391e-02, -4.2960e-02],\n",
            "          [-4.8662e-02, -2.0466e-02, -4.0324e-02, -4.4267e-02,  4.7784e-02],\n",
            "          [ 1.3556e-02, -1.3826e-02, -4.8977e-02, -3.8372e-02, -4.8312e-02]],\n",
            "\n",
            "         [[-1.3005e-02,  3.5206e-02, -6.5463e-03,  1.0208e-02, -5.7005e-03],\n",
            "          [ 2.8838e-02,  4.6256e-02, -2.0017e-02, -3.6608e-02,  2.9415e-02],\n",
            "          [ 2.8900e-02,  3.5917e-03, -2.0364e-02, -1.5610e-02,  2.6057e-02],\n",
            "          [ 1.2060e-02, -1.6634e-02,  1.4809e-02,  1.3172e-02, -1.8321e-02],\n",
            "          [-3.4919e-02,  9.9099e-03,  8.4910e-03,  4.4533e-02, -1.1673e-02]],\n",
            "\n",
            "         ...,\n",
            "\n",
            "         [[-4.4579e-02, -6.0120e-03, -2.2117e-02,  3.8724e-02, -3.2842e-02],\n",
            "          [-1.7022e-02, -3.3244e-02, -2.8412e-02,  1.9851e-02,  2.6234e-02],\n",
            "          [-4.0654e-02,  4.3033e-02, -1.0245e-03,  2.0342e-02, -6.2281e-03],\n",
            "          [-7.9753e-03,  3.6789e-02, -2.1154e-02,  8.0927e-03,  2.4470e-02],\n",
            "          [-4.8921e-02, -1.1451e-03, -3.8375e-02, -5.0041e-02, -1.3256e-02]],\n",
            "\n",
            "         [[-6.9469e-03, -2.2131e-02, -1.5144e-02, -3.3941e-02,  2.8736e-02],\n",
            "          [-4.5314e-02, -1.1892e-02,  1.0679e-04,  1.9958e-02, -2.4471e-02],\n",
            "          [ 1.6741e-02, -4.9650e-02, -4.8688e-02, -1.8782e-02,  2.1303e-02],\n",
            "          [-2.0084e-02,  4.2795e-02,  2.5168e-03,  4.4856e-02,  3.2819e-02],\n",
            "          [ 1.0770e-02,  1.0086e-02, -4.4426e-02, -1.3178e-02,  2.1644e-02]],\n",
            "\n",
            "         [[-5.0133e-02, -2.0825e-02, -4.6807e-02,  2.8431e-02,  2.1536e-02],\n",
            "          [-2.3418e-02, -3.3861e-02, -3.8387e-02, -5.0202e-03,  8.3824e-03],\n",
            "          [ 2.7137e-02, -4.0664e-02,  1.0858e-03,  1.7984e-02, -4.2900e-02],\n",
            "          [-3.6085e-02,  2.1259e-02, -4.6902e-02, -8.9499e-03, -1.3349e-02],\n",
            "          [-3.1030e-03,  4.3368e-02, -6.2628e-03, -4.3285e-03, -2.9128e-02]]],\n",
            "\n",
            "\n",
            "        ...,\n",
            "\n",
            "\n",
            "        [[[-3.8508e-02, -5.7634e-03, -2.0679e-03, -1.6032e-05, -3.2422e-02],\n",
            "          [ 4.8883e-02,  2.4062e-02,  3.7771e-02,  3.2427e-02, -1.0026e-02],\n",
            "          [ 5.0228e-02, -2.1666e-02,  2.7505e-02, -3.8385e-02,  2.8369e-02],\n",
            "          [ 2.7071e-02,  5.0086e-02,  4.4582e-02, -3.0632e-02, -4.0578e-03],\n",
            "          [ 4.1533e-02, -1.1545e-02, -3.7684e-02, -1.7165e-02,  3.9522e-02]],\n",
            "\n",
            "         [[ 2.8806e-03,  1.0525e-02, -1.7768e-02,  1.6689e-02,  7.9220e-03],\n",
            "          [-4.9204e-02,  4.3403e-02,  8.7568e-03,  9.2650e-03, -1.4830e-02],\n",
            "          [-1.8836e-02, -2.9722e-03,  3.8585e-02, -3.8330e-02, -2.7682e-02],\n",
            "          [ 2.7137e-02, -3.7372e-02, -4.2995e-02, -1.6180e-02, -2.3486e-02],\n",
            "          [ 4.4957e-02,  7.7097e-04, -2.3602e-03,  1.5553e-02, -1.5764e-02]],\n",
            "\n",
            "         [[ 2.8893e-02,  4.2505e-02, -3.6753e-02, -2.4624e-02,  4.8511e-02],\n",
            "          [-3.4971e-03,  2.5902e-02, -5.1041e-02, -2.0397e-02,  2.4661e-02],\n",
            "          [ 2.8661e-02, -4.7715e-02,  1.0017e-02, -2.3814e-02, -2.4678e-02],\n",
            "          [-3.0374e-02, -4.8507e-02, -4.4036e-02, -3.7325e-03,  5.2365e-03],\n",
            "          [ 3.2105e-02,  3.8132e-02,  1.5142e-02,  3.5078e-02,  9.1680e-03]],\n",
            "\n",
            "         ...,\n",
            "\n",
            "         [[ 3.1513e-03,  3.3361e-02,  1.4419e-02, -4.3175e-02, -9.9957e-03],\n",
            "          [-4.6308e-02, -4.7449e-02, -5.0865e-02,  7.4869e-03,  2.5176e-02],\n",
            "          [ 2.8049e-02, -5.3826e-04,  7.4715e-04, -1.1021e-02,  2.1102e-02],\n",
            "          [-2.9943e-02, -3.9140e-02,  2.5024e-02, -2.3946e-02,  4.2962e-03],\n",
            "          [ 4.5327e-02, -4.3540e-02,  2.2565e-02,  1.2114e-02,  3.3486e-02]],\n",
            "\n",
            "         [[-2.4529e-02, -4.9721e-02,  2.7259e-02,  2.0142e-02, -2.5910e-02],\n",
            "          [-1.5808e-02, -2.9321e-02,  4.8372e-02, -3.5592e-03,  1.9669e-02],\n",
            "          [ 3.1241e-02,  4.1815e-02,  5.4832e-02,  2.9900e-02, -2.2996e-02],\n",
            "          [-4.4238e-02, -8.4261e-03,  8.7487e-03, -2.1125e-02, -7.5215e-03],\n",
            "          [ 4.3875e-02, -1.1022e-02,  4.5393e-02, -3.6575e-02,  2.2732e-04]],\n",
            "\n",
            "         [[-4.6805e-02,  1.1738e-02,  8.8839e-03, -3.3980e-02, -1.0035e-02],\n",
            "          [ 4.8177e-02,  1.7905e-02,  5.6369e-02, -2.9180e-03, -1.1126e-02],\n",
            "          [-9.9789e-03, -4.6756e-02, -2.9458e-02, -3.7915e-03, -3.3059e-02],\n",
            "          [-6.2132e-03,  2.6296e-02,  5.3428e-02, -2.2824e-02,  2.2892e-02],\n",
            "          [-9.7153e-03,  3.4074e-02,  1.0664e-02,  6.7771e-03,  5.0540e-02]]],\n",
            "\n",
            "\n",
            "        [[[-9.2534e-03,  1.7197e-02,  4.7781e-02,  3.1444e-02, -1.9871e-02],\n",
            "          [ 2.3484e-02, -1.8687e-02,  3.2031e-02, -1.0132e-02, -1.5941e-02],\n",
            "          [ 1.8459e-02, -1.6000e-02,  2.4095e-02,  3.3985e-02, -4.0292e-02],\n",
            "          [-4.2840e-02, -4.1126e-02, -2.2385e-02, -1.1163e-02,  1.5274e-02],\n",
            "          [-1.9489e-02,  1.8111e-03, -2.2010e-02, -1.6269e-02, -3.6967e-03]],\n",
            "\n",
            "         [[ 3.1333e-02, -6.5648e-03,  1.9344e-02,  4.0003e-02, -1.7003e-02],\n",
            "          [ 2.9470e-02,  4.3203e-02,  1.8927e-02, -2.7335e-02, -4.0912e-02],\n",
            "          [ 1.3651e-02, -5.7658e-03, -1.4062e-02,  2.7570e-02, -1.6649e-03],\n",
            "          [-2.8753e-02,  1.5980e-02,  1.9471e-02, -1.2572e-02, -2.5498e-02],\n",
            "          [ 2.7423e-02, -8.6451e-03,  3.1766e-02,  2.4557e-02, -3.6763e-02]],\n",
            "\n",
            "         [[-2.4404e-02, -1.9783e-02, -3.0899e-03,  1.7370e-02, -2.2855e-02],\n",
            "          [-3.8190e-02,  1.3852e-02, -2.5764e-02,  3.7108e-03, -3.2255e-02],\n",
            "          [ 2.3357e-02, -3.9370e-02,  1.2331e-02, -2.1536e-02, -3.1304e-02],\n",
            "          [-5.7487e-03, -6.4864e-03,  4.3186e-02,  7.0712e-03, -1.6009e-02],\n",
            "          [ 1.0830e-02,  1.8208e-02, -3.1429e-02, -1.8256e-02, -1.0607e-02]],\n",
            "\n",
            "         ...,\n",
            "\n",
            "         [[ 1.9605e-02,  1.7049e-02, -2.8621e-02, -3.9509e-02,  3.5698e-02],\n",
            "          [-2.2731e-02,  4.5157e-02,  1.1672e-02,  3.7651e-02,  3.4257e-02],\n",
            "          [-3.7342e-02, -2.5769e-02, -7.2606e-03,  1.4384e-02,  3.0835e-02],\n",
            "          [ 2.4949e-02,  2.7017e-02,  4.3926e-02,  3.3180e-02, -4.5758e-02],\n",
            "          [ 4.6489e-03,  4.7347e-02,  4.5573e-02, -2.6522e-02,  2.6804e-02]],\n",
            "\n",
            "         [[ 2.6153e-02, -1.5343e-02,  1.1906e-02, -1.0147e-02, -5.0824e-02],\n",
            "          [ 3.2997e-03,  4.9252e-04, -3.6317e-02, -2.5693e-02, -4.3066e-02],\n",
            "          [-1.1697e-02, -7.9010e-03, -4.3605e-02, -3.7883e-02,  4.4039e-02],\n",
            "          [ 6.0825e-04, -2.2412e-02,  4.3039e-03,  1.3677e-02,  4.8073e-02],\n",
            "          [-2.6059e-02, -1.0267e-02,  5.3090e-04,  2.7675e-02,  1.6125e-02]],\n",
            "\n",
            "         [[ 3.3996e-02,  3.7307e-02,  2.3103e-03,  2.8187e-02,  6.5506e-03],\n",
            "          [ 6.9933e-03, -1.6277e-02, -2.6478e-02,  1.2859e-02,  2.1563e-02],\n",
            "          [-1.4797e-02,  1.6955e-02,  2.6697e-02, -1.6001e-02, -5.6232e-02],\n",
            "          [-2.4731e-02,  5.1977e-02, -1.0632e-02, -2.0445e-02,  8.0550e-03],\n",
            "          [ 1.2694e-02, -2.5004e-02, -3.5419e-03, -4.0019e-02,  4.8033e-02]]],\n",
            "\n",
            "\n",
            "        [[[ 1.7749e-02,  2.5043e-02, -2.4625e-02, -3.4213e-02, -3.0495e-02],\n",
            "          [-2.2633e-02, -4.2048e-02,  4.0027e-02,  2.5361e-02,  6.5219e-03],\n",
            "          [-1.7869e-02, -2.0344e-02, -1.1930e-02, -4.4055e-02, -2.8860e-03],\n",
            "          [ 1.6794e-02, -2.2511e-02, -4.5828e-02, -5.1671e-02,  2.2623e-02],\n",
            "          [ 8.9229e-03, -2.6416e-02, -6.4041e-03, -3.3045e-02, -3.0276e-02]],\n",
            "\n",
            "         [[-1.7517e-02, -3.0316e-03,  2.4132e-02, -3.1881e-02, -6.7071e-03],\n",
            "          [ 4.1645e-02,  3.9676e-02,  1.9015e-02,  4.4759e-02, -1.4393e-02],\n",
            "          [-2.4055e-02,  3.9379e-02, -3.0614e-02, -2.6287e-02, -2.6257e-02],\n",
            "          [ 1.2664e-02, -1.2959e-02, -2.0823e-02,  1.4670e-02,  2.4389e-02],\n",
            "          [-8.0030e-03,  3.6616e-02,  1.1698e-02,  1.6943e-02,  4.8521e-02]],\n",
            "\n",
            "         [[ 3.5836e-02, -3.9500e-02,  4.3262e-03,  2.2168e-02,  1.2481e-03],\n",
            "          [ 3.2867e-02, -1.3086e-02,  3.9409e-02, -4.1207e-02, -2.9337e-03],\n",
            "          [ 2.0893e-03,  4.7878e-02,  1.4169e-02, -2.9535e-03, -7.3605e-03],\n",
            "          [ 4.2772e-02, -3.6867e-02, -2.0328e-02, -4.0554e-02,  1.3761e-02],\n",
            "          [ 4.3525e-02,  1.9927e-02,  3.2931e-02, -4.4169e-02,  5.4659e-02]],\n",
            "\n",
            "         ...,\n",
            "\n",
            "         [[-3.1711e-02,  4.3114e-02, -3.4426e-02,  5.2006e-02,  5.0060e-02],\n",
            "          [ 2.1808e-02,  4.1035e-02,  1.6777e-02, -2.0473e-02,  1.3280e-02],\n",
            "          [ 1.5943e-02, -2.9010e-02, -6.3576e-03,  3.4861e-02,  1.1604e-04],\n",
            "          [-3.8381e-02,  8.4984e-03, -1.9866e-02, -1.9200e-02, -2.2140e-02],\n",
            "          [-3.0132e-02, -1.1104e-02,  4.4947e-02,  3.6749e-02,  3.3065e-02]],\n",
            "\n",
            "         [[-3.0213e-02, -3.0342e-02,  2.7180e-02,  1.6260e-02, -1.9395e-02],\n",
            "          [ 8.0349e-04,  2.8718e-03, -8.9949e-03, -2.0510e-02, -3.8786e-02],\n",
            "          [ 5.6888e-03, -6.2678e-03, -1.1388e-02, -6.8750e-03, -2.1495e-03],\n",
            "          [-2.7028e-02, -2.3660e-02,  2.3364e-02, -4.1943e-02, -1.3292e-02],\n",
            "          [-2.4340e-02, -1.6291e-02, -5.0211e-02, -1.3908e-02, -3.2541e-02]],\n",
            "\n",
            "         [[-4.0743e-02,  2.7814e-02,  4.1526e-02,  2.5306e-02, -3.5872e-03],\n",
            "          [ 3.3074e-02,  5.6556e-02, -7.3869e-03, -2.4846e-02,  3.2695e-02],\n",
            "          [ 6.0444e-02,  1.1924e-02,  4.2086e-03, -1.0313e-02,  1.9481e-02],\n",
            "          [ 3.5755e-02,  2.4273e-02,  5.2814e-02,  1.0414e-02,  2.6133e-02],\n",
            "          [ 3.8618e-02,  2.5841e-02, -3.4035e-03,  2.0914e-02, -3.8934e-02]]]],\n",
            "       device='cuda:0')), ('conv2.bias', tensor([-1.3828e-05,  2.4613e-04, -1.4887e-06, -7.7522e-05,  8.3152e-05,\n",
            "         5.0911e-05, -1.6755e-05, -1.1918e-04,  7.6832e-06,  1.7177e-04,\n",
            "        -1.3815e-05, -1.8081e-04,  1.6448e-05,  1.3430e-04, -5.9449e-05,\n",
            "         1.7396e-04, -2.9623e-04,  8.6066e-05,  2.0493e-04,  2.8781e-05,\n",
            "         8.3509e-05,  3.6627e-04, -1.2193e-06,  5.8134e-05, -8.9500e-05,\n",
            "         6.4147e-05,  1.1334e-04, -8.6941e-05,  5.5027e-05,  3.4534e-04,\n",
            "        -7.3832e-05, -1.8145e-05], device='cuda:0')), ('bn2.weight', tensor([1.0055, 0.9933, 0.9989, 1.0089, 1.0033, 0.9981, 0.9927, 0.9947, 0.9875,\n",
            "        0.9986, 0.9896, 1.0004, 1.0026, 0.9894, 1.0120, 1.0093, 1.0049, 1.0021,\n",
            "        1.0044, 0.9925, 1.0030, 0.9905, 0.9963, 0.9809, 1.0002, 1.0028, 0.9853,\n",
            "        0.9954, 0.9919, 0.9911, 0.9872, 0.9862], device='cuda:0')), ('bn2.bias', tensor([ 0.0019, -0.0053,  0.0086,  0.0184, -0.0127, -0.0051, -0.0128, -0.0137,\n",
            "        -0.0191,  0.0049, -0.0116, -0.0172, -0.0023, -0.0127, -0.0038,  0.0234,\n",
            "        -0.0021,  0.0094, -0.0050, -0.0060,  0.0236, -0.0122,  0.0060, -0.0101,\n",
            "        -0.0013, -0.0198, -0.0037, -0.0145, -0.0057, -0.0027, -0.0134, -0.0237],\n",
            "       device='cuda:0')), ('bn2.running_mean', tensor([ 0.4625, -0.1602,  0.0315, -0.1334, -0.0157, -0.0107,  0.1232,  0.6180,\n",
            "         0.0337, -0.6401,  0.1537, -0.1204, -0.2400,  0.3237, -0.1259,  0.0054,\n",
            "        -0.6511, -0.3825, -0.4110, -0.3335, -0.1428, -0.3106, -0.0985, -0.2385,\n",
            "        -0.3153,  0.8314, -0.7286, -0.1995,  0.7385, -0.1723,  0.0581, -0.2184],\n",
            "       device='cuda:0')), ('bn2.running_var', tensor([0.1990, 0.1670, 0.2150, 0.0979, 0.2693, 0.1398, 0.2244, 0.2460, 0.4178,\n",
            "        0.3226, 0.4804, 0.1272, 0.1635, 0.2219, 0.2421, 0.0860, 0.3171, 0.1966,\n",
            "        0.3320, 0.1568, 0.0934, 0.3297, 0.1939, 0.1919, 0.2476, 0.3665, 0.2542,\n",
            "        0.2813, 0.2522, 0.1557, 0.2481, 0.2732], device='cuda:0')), ('bn2.num_batches_tracked', tensor(3750, device='cuda:0')), ('conv3.weight', tensor([[[[-1.4845e-02, -1.7301e-02, -1.1012e-02, -3.5246e-02, -1.6390e-02],\n",
            "          [-6.9095e-03, -3.4397e-02, -1.5972e-03,  2.8826e-02,  2.1913e-02],\n",
            "          [ 1.9380e-02,  6.3985e-04, -2.2562e-03, -1.6924e-02, -1.7776e-03],\n",
            "          [-2.0344e-02,  2.0909e-02, -9.5694e-03, -3.1315e-03,  2.7601e-02],\n",
            "          [-3.7568e-02,  6.0210e-03,  2.1044e-02, -2.8608e-02,  1.3296e-02]],\n",
            "\n",
            "         [[ 6.8359e-03, -3.2017e-03,  3.1122e-02,  2.4798e-02, -1.4973e-02],\n",
            "          [-8.8043e-03, -2.1231e-03, -1.4252e-02,  2.9217e-02,  2.3664e-02],\n",
            "          [ 3.1915e-02, -1.6490e-02,  7.2011e-03,  2.8647e-02,  1.7811e-03],\n",
            "          [-1.4383e-02,  7.9178e-03, -2.5368e-02,  4.4738e-02, -9.4706e-03],\n",
            "          [ 3.3767e-02, -5.3263e-03,  2.2499e-02,  2.2691e-02,  2.7479e-02]],\n",
            "\n",
            "         [[ 3.3105e-03, -3.1423e-02, -2.8122e-02,  8.6505e-03,  2.0083e-02],\n",
            "          [-2.9874e-02,  1.9458e-02, -1.1642e-02,  2.2450e-02,  2.4269e-02],\n",
            "          [ 1.2072e-02, -3.5780e-02, -2.1387e-02, -1.9948e-02, -2.2337e-03],\n",
            "          [-1.5816e-02,  9.5137e-05,  3.9673e-02,  5.1992e-03,  1.8214e-02],\n",
            "          [-3.6844e-02,  3.2907e-02,  1.4146e-02, -3.0944e-05,  2.1509e-02]],\n",
            "\n",
            "         ...,\n",
            "\n",
            "         [[ 2.9472e-02, -2.2349e-03, -4.3431e-03, -7.1532e-03, -2.3583e-02],\n",
            "          [ 3.5948e-02,  2.4158e-02, -1.0084e-02,  5.2589e-03,  3.1529e-02],\n",
            "          [ 2.5975e-02,  3.7516e-02, -1.7489e-02, -1.3220e-03,  1.0830e-02],\n",
            "          [ 3.0546e-02, -3.3252e-02, -2.2100e-02,  2.1328e-02, -1.1646e-02],\n",
            "          [-3.0423e-02, -1.5782e-02, -9.1167e-03,  1.6471e-02, -3.0371e-03]],\n",
            "\n",
            "         [[ 1.9822e-03, -3.0691e-02, -2.0372e-03, -2.5080e-02,  4.1686e-03],\n",
            "          [ 3.0106e-02,  8.0798e-03, -9.5871e-03,  3.7106e-03,  4.0595e-04],\n",
            "          [-2.6932e-02,  2.0113e-02, -3.6631e-04,  2.4859e-02, -1.1209e-02],\n",
            "          [-4.7559e-03, -2.9821e-02, -3.5840e-03, -1.9195e-02, -2.2338e-02],\n",
            "          [-3.0897e-03,  1.1082e-02, -9.6863e-03,  6.6298e-03,  4.6853e-03]],\n",
            "\n",
            "         [[ 2.2706e-02,  3.9827e-03,  2.0815e-02,  7.5908e-03, -2.9795e-03],\n",
            "          [-3.3365e-02, -1.9206e-02, -2.4265e-02, -3.2911e-02,  1.6968e-02],\n",
            "          [-1.5667e-02, -2.7002e-02,  2.8266e-02, -1.0976e-02,  1.1289e-02],\n",
            "          [ 2.3785e-02,  5.3663e-04, -1.3641e-02,  2.4920e-03, -6.7258e-03],\n",
            "          [-2.1134e-02, -2.0609e-02, -1.6340e-02,  2.9646e-02, -2.1540e-02]]],\n",
            "\n",
            "\n",
            "        [[[-2.3253e-02,  1.0812e-02,  2.0669e-02, -3.4844e-02, -3.3733e-02],\n",
            "          [-1.1794e-02, -1.8772e-02, -5.6683e-03, -2.4861e-02,  1.0042e-02],\n",
            "          [-4.6463e-03,  8.9637e-03, -5.2387e-03, -2.2998e-03, -1.8657e-03],\n",
            "          [-6.3558e-03, -2.2801e-02,  2.9437e-02,  3.2558e-02, -3.6287e-02],\n",
            "          [-9.6336e-03, -2.3045e-02, -3.1124e-02, -3.0523e-02,  2.2290e-02]],\n",
            "\n",
            "         [[ 3.5641e-02,  2.2847e-03,  1.4406e-02,  1.6001e-02,  1.7059e-02],\n",
            "          [ 2.3867e-02,  2.0772e-03, -3.3248e-02,  3.5545e-02,  1.3144e-03],\n",
            "          [ 5.9972e-03,  1.6184e-02, -8.7774e-03, -1.6357e-02, -2.0604e-02],\n",
            "          [-8.3458e-03,  7.7239e-03, -3.3418e-03,  1.0669e-02,  1.5721e-03],\n",
            "          [ 2.5520e-03, -3.0253e-02,  1.5614e-03, -1.5517e-02,  3.5478e-03]],\n",
            "\n",
            "         [[ 3.7192e-02, -2.7739e-02, -3.6456e-02, -2.3411e-02, -1.4093e-02],\n",
            "          [-2.3530e-02,  1.2564e-02,  8.5093e-03, -1.8663e-03, -1.1276e-02],\n",
            "          [ 3.3479e-02,  4.9387e-03,  1.7377e-02,  1.6401e-02,  2.5210e-02],\n",
            "          [-1.5334e-02,  3.5686e-02,  1.9291e-02, -1.0166e-02, -2.5463e-03],\n",
            "          [-2.6886e-02,  2.1663e-02,  2.3180e-02,  2.7272e-03, -4.9892e-02]],\n",
            "\n",
            "         ...,\n",
            "\n",
            "         [[-1.5967e-02,  2.7225e-02,  2.1403e-02, -2.7058e-02,  2.4334e-02],\n",
            "          [-6.4262e-03,  1.8328e-02, -2.2581e-02, -3.5330e-02,  2.8410e-02],\n",
            "          [-2.0624e-02,  8.9766e-03,  5.0969e-04, -1.4158e-02,  3.5155e-02],\n",
            "          [ 2.1200e-02,  4.9962e-03,  2.7060e-02, -1.5130e-02,  1.0152e-02],\n",
            "          [ 1.3060e-03, -1.3864e-02, -2.5493e-02, -2.1717e-02,  5.0018e-03]],\n",
            "\n",
            "         [[-3.9461e-03, -1.1545e-02,  1.8938e-02, -1.9087e-02,  2.9564e-02],\n",
            "          [ 3.0928e-02,  2.7758e-02, -3.4977e-02, -1.5708e-02, -1.5999e-02],\n",
            "          [-2.8700e-02, -1.3317e-02,  1.4090e-02,  1.6648e-02,  2.9696e-02],\n",
            "          [ 1.0208e-02, -2.7804e-02,  2.5943e-02, -9.5562e-03, -2.3423e-02],\n",
            "          [ 2.1279e-02, -1.7360e-02, -3.7581e-02, -2.7669e-03,  1.3642e-02]],\n",
            "\n",
            "         [[ 3.1641e-02, -1.9487e-03, -1.4653e-02, -7.5598e-03, -2.8920e-02],\n",
            "          [ 2.0104e-02, -1.7920e-02,  1.6390e-02, -3.0070e-02,  3.5295e-02],\n",
            "          [ 1.1834e-02,  4.7049e-03, -1.5991e-02, -1.3215e-02,  2.2041e-02],\n",
            "          [-1.6462e-02, -1.7436e-02, -1.7157e-02,  4.9037e-03, -5.5298e-03],\n",
            "          [-2.6927e-02, -3.9698e-02, -4.0853e-02, -1.0837e-02,  1.0492e-03]]],\n",
            "\n",
            "\n",
            "        [[[-3.3145e-02, -1.9015e-02, -2.2714e-02, -1.2529e-03,  1.6730e-02],\n",
            "          [-5.0799e-03,  2.7837e-02, -1.2291e-02, -1.2431e-02, -1.8958e-02],\n",
            "          [-8.2756e-04, -5.2432e-03, -3.0025e-02, -9.7011e-03, -2.7576e-02],\n",
            "          [-1.3196e-02,  2.4224e-03, -1.4314e-02, -2.1986e-02,  1.6767e-03],\n",
            "          [-3.0107e-02,  4.0909e-03,  4.1382e-02,  5.1680e-02,  1.8761e-02]],\n",
            "\n",
            "         [[-1.2659e-02, -1.1467e-02,  3.0053e-02, -2.6827e-02, -2.0133e-02],\n",
            "          [-2.2507e-02, -1.6854e-02,  9.1736e-03, -3.0228e-02, -1.3743e-02],\n",
            "          [ 1.1462e-02,  2.8775e-02, -1.5290e-02, -7.0122e-05, -3.3000e-02],\n",
            "          [ 3.1359e-02, -3.0882e-02, -2.0495e-02,  8.5177e-03, -1.6359e-03],\n",
            "          [-2.2420e-02,  1.6870e-02, -2.5871e-03, -3.4974e-03, -2.9315e-02]],\n",
            "\n",
            "         [[-3.5919e-02,  3.3909e-02, -3.2564e-02,  1.7822e-02,  1.6773e-02],\n",
            "          [-1.0177e-03,  3.3742e-02,  1.2493e-02, -2.4268e-02,  1.3150e-02],\n",
            "          [-9.8652e-03, -1.2528e-02,  2.1886e-02, -2.7577e-02, -7.1978e-03],\n",
            "          [ 2.0163e-02,  1.5613e-03, -2.0291e-02, -3.3830e-02, -8.9638e-03],\n",
            "          [ 1.3032e-02,  4.0618e-02,  4.4198e-03, -2.0979e-02, -1.3522e-02]],\n",
            "\n",
            "         ...,\n",
            "\n",
            "         [[-1.2039e-02, -2.6443e-02,  1.7697e-02,  2.4751e-02,  3.5959e-02],\n",
            "          [ 1.8220e-02,  3.1354e-02,  3.7668e-02,  3.2748e-02, -1.0190e-02],\n",
            "          [ 3.3795e-02,  5.2289e-03,  2.7143e-02, -8.9904e-03, -3.5863e-03],\n",
            "          [ 1.9977e-02,  6.8980e-03,  8.8282e-03, -2.8684e-02, -3.0506e-02],\n",
            "          [ 1.8514e-02,  2.5698e-03, -1.2883e-02, -2.7046e-03, -9.4667e-03]],\n",
            "\n",
            "         [[-1.5131e-02,  1.2041e-02,  2.4968e-02,  1.3128e-02,  2.0437e-02],\n",
            "          [-1.7866e-02,  2.0793e-02,  1.9365e-02, -7.9873e-03, -4.7272e-03],\n",
            "          [-2.7856e-02, -1.0158e-02, -6.6248e-03, -8.1801e-03,  1.8515e-02],\n",
            "          [-2.3960e-02, -3.0401e-02, -1.8868e-02, -1.1833e-03, -2.1043e-02],\n",
            "          [ 5.8132e-03, -3.5750e-02,  1.9392e-02, -4.9645e-04,  1.4677e-02]],\n",
            "\n",
            "         [[-3.3392e-02,  2.0503e-02,  4.7564e-03, -7.1316e-03,  1.3003e-03],\n",
            "          [ 3.0203e-02,  6.0533e-03,  2.8240e-02, -1.6668e-02, -1.5167e-02],\n",
            "          [-1.5453e-02, -3.1321e-02, -2.6575e-02, -2.8812e-02, -1.5390e-02],\n",
            "          [ 3.3892e-02,  3.0816e-03, -3.4569e-02,  2.7953e-03,  5.8533e-03],\n",
            "          [ 2.9574e-02, -1.2397e-02, -3.9750e-02, -2.1153e-03,  2.2605e-02]]],\n",
            "\n",
            "\n",
            "        ...,\n",
            "\n",
            "\n",
            "        [[[ 3.0139e-02, -2.6982e-02, -1.2149e-02,  2.7337e-02,  5.9776e-03],\n",
            "          [ 2.9534e-03, -2.0608e-02,  2.0167e-02,  3.6729e-02, -2.0772e-02],\n",
            "          [ 2.6372e-02,  3.4024e-02,  4.0822e-02, -1.9064e-02, -6.1577e-04],\n",
            "          [-1.3387e-02,  3.4173e-02,  3.0733e-02,  3.7047e-02, -1.8638e-02],\n",
            "          [-2.4360e-02, -3.1213e-02,  2.7339e-02,  1.0972e-02, -1.5725e-02]],\n",
            "\n",
            "         [[ 2.0371e-02,  3.5692e-02, -3.4661e-02, -2.7579e-02, -1.9387e-02],\n",
            "          [-4.5043e-03,  1.7515e-05,  2.9122e-02,  9.5727e-03, -2.1942e-02],\n",
            "          [-2.3082e-02,  1.3110e-02, -1.6239e-02,  2.1694e-02,  3.4364e-02],\n",
            "          [ 2.6483e-02, -1.7301e-02,  1.2525e-02, -1.7016e-02,  6.2480e-03],\n",
            "          [ 2.5218e-02,  1.4332e-03, -2.6676e-02, -2.4967e-02, -3.6477e-02]],\n",
            "\n",
            "         [[-2.4827e-02,  3.0500e-02, -3.0109e-02, -5.9377e-03,  3.4922e-02],\n",
            "          [-8.0306e-03,  1.6366e-02,  1.1659e-02, -1.9929e-03,  5.9856e-03],\n",
            "          [ 1.8186e-02,  1.4680e-02,  2.9004e-02, -1.1726e-02,  4.6185e-03],\n",
            "          [ 4.0605e-02,  2.8391e-02, -7.7621e-03, -3.0581e-02, -8.1788e-03],\n",
            "          [-3.4196e-02, -3.2399e-02,  2.1969e-02, -1.4405e-02,  1.9358e-02]],\n",
            "\n",
            "         ...,\n",
            "\n",
            "         [[-2.8415e-02, -8.7530e-03,  7.8060e-03, -3.8962e-02, -3.3114e-02],\n",
            "          [-1.3449e-02, -1.3836e-02,  2.2619e-02, -4.1309e-02, -4.0439e-02],\n",
            "          [-3.2163e-02, -1.6764e-02, -1.1102e-02,  2.3749e-02, -1.5154e-03],\n",
            "          [-1.2381e-02,  2.6354e-02, -1.0745e-02, -9.3195e-03,  7.6874e-03],\n",
            "          [-1.8785e-03, -2.0417e-02,  2.1618e-02,  2.4642e-02, -1.7035e-02]],\n",
            "\n",
            "         [[-1.7298e-02,  1.6374e-02,  2.9374e-02, -5.9654e-03,  1.9479e-02],\n",
            "          [-7.9888e-03,  2.1735e-02, -3.3792e-02,  3.0567e-02, -2.6398e-02],\n",
            "          [ 5.5501e-03,  4.1308e-03,  4.2514e-03,  6.2121e-03,  3.0267e-02],\n",
            "          [-8.1467e-03, -2.5549e-02, -1.5068e-02, -1.9522e-02,  4.1338e-04],\n",
            "          [-4.3645e-03,  1.0911e-02,  1.3288e-02, -2.0353e-02,  4.8658e-04]],\n",
            "\n",
            "         [[ 1.3758e-02,  1.2563e-02,  4.9341e-03,  2.1600e-02,  2.0545e-02],\n",
            "          [-1.1355e-02, -1.1665e-02, -3.6060e-02, -3.8986e-02, -2.6463e-03],\n",
            "          [ 3.6708e-02, -5.0519e-03,  3.2962e-02, -3.7385e-03,  1.8520e-02],\n",
            "          [ 2.3558e-03,  3.5282e-02,  7.8100e-03,  3.0663e-02, -1.5366e-02],\n",
            "          [-8.9742e-03,  2.5563e-02, -2.1250e-02, -2.0152e-02, -3.2681e-02]]],\n",
            "\n",
            "\n",
            "        [[[-2.3320e-02, -1.4985e-02,  7.2994e-03, -4.0020e-02,  1.4378e-02],\n",
            "          [-1.3729e-02,  2.9538e-03,  6.3830e-03,  1.1541e-02, -2.8165e-02],\n",
            "          [-3.0140e-02,  1.6907e-02, -4.6959e-02,  1.9246e-02, -2.3689e-02],\n",
            "          [-1.4092e-02, -1.1028e-03, -4.0947e-03, -2.2261e-02, -2.6167e-02],\n",
            "          [ 1.6963e-02, -1.9442e-02, -4.0615e-02,  1.8220e-02,  2.2766e-02]],\n",
            "\n",
            "         [[ 1.3464e-02,  1.1406e-02,  2.6125e-02, -1.8617e-02, -1.8122e-02],\n",
            "          [-4.1364e-03, -2.6751e-02,  5.5814e-03, -2.2182e-02, -1.8178e-03],\n",
            "          [ 2.7411e-02,  1.7554e-02,  1.6154e-02,  1.9843e-02,  1.8966e-03],\n",
            "          [-2.1130e-02, -5.9450e-03,  1.9988e-02, -2.7909e-02, -2.8976e-02],\n",
            "          [-2.0170e-02, -5.3010e-03, -9.6678e-03, -3.8049e-02, -2.2892e-03]],\n",
            "\n",
            "         [[-1.9418e-03,  3.4779e-02,  2.7865e-02, -1.1566e-02, -3.3106e-02],\n",
            "          [ 3.9365e-02, -2.1001e-02,  3.2439e-02,  2.3109e-02,  1.5648e-02],\n",
            "          [ 7.6649e-03,  1.4468e-02, -2.2099e-02,  1.6574e-03, -4.5607e-04],\n",
            "          [ 4.1986e-02, -2.2849e-02, -2.2941e-02,  2.8582e-02,  1.7351e-02],\n",
            "          [-2.3887e-02,  2.5823e-02, -1.8780e-02, -2.4009e-02,  2.4727e-02]],\n",
            "\n",
            "         ...,\n",
            "\n",
            "         [[-7.2337e-03, -1.8314e-02, -6.0450e-03,  1.8403e-02, -1.7247e-02],\n",
            "          [ 2.3260e-02,  1.7288e-02, -1.2316e-02, -6.4392e-03,  2.5754e-02],\n",
            "          [ 1.2758e-02, -2.7594e-02, -8.6562e-03, -2.3054e-02,  3.0998e-03],\n",
            "          [ 2.7153e-03, -2.8223e-02,  1.8301e-02, -9.6870e-03, -3.6721e-03],\n",
            "          [-3.0042e-02,  2.9990e-03,  4.9543e-03,  1.3703e-02, -2.4345e-02]],\n",
            "\n",
            "         [[ 1.2563e-02, -3.3578e-02,  4.3256e-03,  8.3116e-03, -1.4925e-02],\n",
            "          [-1.4032e-02,  2.5016e-02, -1.6175e-02, -2.8678e-02,  3.2201e-03],\n",
            "          [-1.8491e-02,  8.8544e-03,  6.5578e-03,  1.2880e-02,  4.5911e-03],\n",
            "          [ 1.0525e-02,  2.5037e-02,  8.9531e-04, -7.9949e-03,  2.6151e-02],\n",
            "          [-1.6142e-02, -1.2937e-02,  2.7722e-02, -8.5448e-03, -7.3071e-03]],\n",
            "\n",
            "         [[-3.0658e-02,  3.2083e-02, -2.7388e-02, -1.4030e-02,  1.4871e-02],\n",
            "          [ 2.8118e-02, -2.6626e-02,  2.7006e-02, -2.2907e-02, -3.3775e-02],\n",
            "          [ 3.6234e-02,  3.5854e-02,  7.2724e-03,  3.2134e-04,  2.9462e-02],\n",
            "          [ 2.3603e-02,  4.0662e-03,  1.1631e-02,  1.9177e-02,  1.3468e-02],\n",
            "          [ 1.2216e-02,  3.1750e-02,  2.5972e-02, -2.7378e-02, -1.1659e-02]]],\n",
            "\n",
            "\n",
            "        [[[ 3.6844e-02, -5.7015e-03, -1.9223e-02, -2.4112e-02, -2.3493e-02],\n",
            "          [ 3.3133e-02, -1.4370e-02, -3.4508e-02, -1.0582e-02, -1.9676e-02],\n",
            "          [ 1.5809e-02,  2.7404e-02, -1.4775e-02,  2.3084e-02, -1.1387e-02],\n",
            "          [-3.2668e-03, -3.3491e-02,  2.9223e-02, -1.0231e-02, -2.3340e-02],\n",
            "          [-6.7309e-03,  1.1269e-02, -3.9004e-03, -1.9649e-02, -2.4461e-02]],\n",
            "\n",
            "         [[ 8.1368e-03, -3.2304e-02,  2.7468e-02,  1.8921e-03, -3.9601e-02],\n",
            "          [ 7.4961e-03, -7.6364e-03,  1.6011e-03, -2.8451e-02,  3.8423e-04],\n",
            "          [ 1.7832e-02,  3.7153e-02, -2.9218e-02,  3.0308e-02, -4.8889e-03],\n",
            "          [-5.2464e-03,  2.1434e-02, -1.5716e-02,  7.6636e-03, -1.3348e-02],\n",
            "          [-2.4507e-02,  2.7095e-03,  1.1620e-02,  5.8545e-03, -2.0379e-02]],\n",
            "\n",
            "         [[-1.7388e-02,  2.2056e-02,  2.9187e-02, -2.4724e-02,  4.7347e-03],\n",
            "          [ 2.9763e-02,  2.7629e-02, -4.7054e-03,  9.4864e-03, -2.4476e-02],\n",
            "          [-2.7880e-02,  1.3103e-02, -2.0159e-02, -8.3443e-03, -2.6324e-02],\n",
            "          [-2.0501e-02,  2.1642e-02,  8.9154e-03,  4.1491e-04,  1.3002e-02],\n",
            "          [-7.8004e-03, -2.3927e-02,  9.3580e-03, -1.5432e-02, -3.2440e-02]],\n",
            "\n",
            "         ...,\n",
            "\n",
            "         [[ 1.4284e-02, -1.2705e-02,  1.8150e-03,  6.6871e-03, -3.0962e-02],\n",
            "          [-4.3233e-03,  3.3333e-02,  1.5894e-02, -2.7169e-02, -2.8234e-02],\n",
            "          [ 1.2902e-02,  2.8123e-02, -2.0982e-02, -3.0768e-02, -3.2526e-02],\n",
            "          [-1.5123e-02, -1.1081e-02, -1.6525e-02,  2.4840e-02,  2.3660e-03],\n",
            "          [ 5.3933e-03,  1.0396e-02,  1.9686e-02, -2.2669e-02,  2.3205e-02]],\n",
            "\n",
            "         [[ 3.7599e-02, -9.1589e-03, -1.7129e-02,  1.9527e-02, -2.2149e-03],\n",
            "          [ 2.3917e-02,  1.3762e-02, -2.1277e-02,  7.3215e-03, -1.8875e-02],\n",
            "          [ 5.8477e-03,  4.5832e-05,  2.9685e-02, -2.5691e-02, -1.6603e-02],\n",
            "          [-1.0037e-02, -1.2012e-02, -7.2792e-04, -2.0705e-02,  1.3747e-02],\n",
            "          [ 7.5752e-03,  1.0401e-02, -1.1299e-02, -2.7651e-02, -2.2765e-02]],\n",
            "\n",
            "         [[-1.1141e-04,  1.8537e-02, -1.1705e-03,  2.1891e-02,  2.1744e-03],\n",
            "          [-2.2267e-02, -3.7754e-02, -2.6993e-02,  1.7530e-02, -1.6208e-02],\n",
            "          [ 1.7130e-02, -2.8246e-02, -3.6030e-03, -2.7192e-02, -3.4242e-02],\n",
            "          [ 4.1273e-04, -1.1829e-03,  1.0561e-02,  1.0463e-02,  1.9890e-03],\n",
            "          [ 1.6955e-02, -2.1527e-02, -3.4089e-03,  4.9060e-04,  4.5729e-03]]]],\n",
            "       device='cuda:0')), ('conv3.bias', tensor([ 8.7782e-05, -2.3585e-05, -4.8096e-05, -1.7087e-05,  7.1965e-05,\n",
            "        -2.6934e-05,  2.4691e-05,  5.1427e-06, -3.2980e-05, -1.3152e-05,\n",
            "        -2.3997e-05, -3.0930e-06,  6.5800e-06, -2.8235e-05, -4.1110e-05,\n",
            "         2.5188e-05, -4.6757e-05, -4.6973e-05,  6.9684e-05, -5.7844e-05,\n",
            "        -3.7863e-05, -6.2762e-06, -2.1671e-05,  1.9165e-05,  5.4154e-05,\n",
            "         5.7267e-05,  7.8262e-05, -2.8941e-05,  1.6766e-06, -2.4449e-05,\n",
            "        -8.6908e-06, -1.2215e-04,  4.0623e-05, -4.1387e-05, -8.8796e-06,\n",
            "         4.0305e-05, -1.7928e-05,  6.9520e-05, -2.6934e-06,  1.1941e-05,\n",
            "        -1.5190e-05, -3.1278e-05,  5.1129e-06, -1.0491e-05, -2.4162e-05,\n",
            "         1.9757e-05, -3.6498e-06,  2.3137e-06, -2.7525e-07,  1.4778e-05,\n",
            "         4.9559e-06, -5.3278e-05,  3.6229e-05, -9.9848e-07, -2.0785e-05,\n",
            "        -9.8863e-06,  1.2719e-07,  4.7084e-06,  2.9408e-05,  1.1175e-05,\n",
            "        -7.0335e-06, -1.8496e-05,  2.3741e-06, -1.1012e-05], device='cuda:0')), ('bn3.weight', tensor([1.0000, 0.9943, 0.9853, 0.9988, 1.0008, 0.9895, 1.0029, 1.0034, 0.9797,\n",
            "        0.9914, 0.9951, 1.0001, 0.9892, 0.9914, 0.9871, 0.9974, 0.9967, 0.9885,\n",
            "        0.9887, 1.0163, 0.9906, 1.0013, 0.9961, 1.0110, 0.9926, 0.9951, 0.9921,\n",
            "        0.9946, 0.9771, 0.9973, 0.9884, 0.9982, 0.9901, 1.0080, 0.9896, 0.9919,\n",
            "        0.9900, 0.9973, 0.9875, 0.9866, 0.9889, 0.9938, 0.9922, 1.0078, 0.9918,\n",
            "        0.9832, 0.9982, 0.9984, 0.9873, 0.9987, 0.9867, 0.9909, 0.9896, 1.0070,\n",
            "        0.9898, 0.9862, 0.9971, 0.9988, 0.9942, 1.0020, 1.0088, 0.9924, 0.9894,\n",
            "        0.9944], device='cuda:0')), ('bn3.bias', tensor([ 0.0042, -0.0044, -0.0062, -0.0152, -0.0228, -0.0167, -0.0046, -0.0118,\n",
            "        -0.0120, -0.0351, -0.0016, -0.0083, -0.0198, -0.0196, -0.0073, -0.0208,\n",
            "        -0.0112, -0.0282, -0.0127, -0.0009, -0.0065, -0.0197, -0.0073, -0.0123,\n",
            "        -0.0084, -0.0115, -0.0271, -0.0210, -0.0208, -0.0086, -0.0270,  0.0010,\n",
            "        -0.0082, -0.0067, -0.0179, -0.0177, -0.0279, -0.0186, -0.0094, -0.0288,\n",
            "        -0.0138, -0.0129, -0.0112, -0.0029, -0.0214, -0.0166, -0.0146, -0.0144,\n",
            "        -0.0105,  0.0037, -0.0151, -0.0157, -0.0102,  0.0071, -0.0093, -0.0209,\n",
            "        -0.0185, -0.0088, -0.0208, -0.0122, -0.0056, -0.0065, -0.0222, -0.0092],\n",
            "       device='cuda:0')), ('bn3.running_mean', tensor([-0.1378,  0.1112, -0.3006, -0.1524, -0.6416,  0.2038, -0.0621,  0.0975,\n",
            "        -0.4170,  0.4375, -0.0562, -0.2992,  0.3272,  0.2382, -0.2778, -0.3986,\n",
            "         0.1721, -0.4489,  0.4684,  0.0824, -0.2877,  0.0365, -0.4937, -0.8772,\n",
            "         0.7743,  0.5274, -0.0368, -0.2471,  0.3190,  0.1673,  0.8734, -0.5492,\n",
            "         0.2466, -1.2090,  0.0626, -0.0349,  0.8564,  0.2906,  0.5507,  1.1985,\n",
            "         0.3041, -0.8075,  0.1672, -0.6621,  0.1319, -0.6632,  0.0809,  0.5703,\n",
            "        -0.8083,  0.0403, -0.8170, -0.3662,  0.7008, -0.4610,  0.1812,  0.1352,\n",
            "         0.1593, -1.2940, -0.9327, -0.1475,  0.1432,  0.1125,  0.2208, -0.8959],\n",
            "       device='cuda:0')), ('bn3.running_var', tensor([0.2151, 0.3951, 0.3874, 0.4675, 0.3178, 0.3449, 0.2537, 0.2334, 0.3771,\n",
            "        0.2476, 0.1902, 0.1996, 0.4064, 0.2309, 0.5639, 0.4855, 0.2280, 0.3367,\n",
            "        0.2940, 0.2105, 0.2459, 0.2739, 0.2865, 0.2917, 0.4851, 0.2106, 0.2958,\n",
            "        0.2533, 0.3869, 0.4342, 0.7923, 0.3582, 0.3090, 0.8103, 0.3208, 0.2636,\n",
            "        0.5915, 0.2186, 0.3137, 0.4376, 0.3279, 0.4597, 0.2891, 0.5403, 0.3200,\n",
            "        0.4465, 0.2737, 0.4461, 0.5889, 0.2223, 0.9606, 0.3300, 0.7496, 0.3305,\n",
            "        0.4694, 0.3431, 0.3455, 0.7539, 0.4101, 0.2395, 0.3326, 0.3326, 0.3633,\n",
            "        0.4766], device='cuda:0')), ('bn3.num_batches_tracked', tensor(3750, device='cuda:0')), ('conv4.weight', tensor([[[[-1.8195e-02, -4.5385e-02, -7.8870e-03],\n",
            "          [ 1.3593e-02,  2.0400e-02,  2.5711e-02],\n",
            "          [ 1.8924e-02, -1.3757e-02,  3.1253e-02]],\n",
            "\n",
            "         [[ 2.1679e-02,  2.2219e-02, -1.5741e-02],\n",
            "          [ 2.5196e-02, -1.3572e-02, -1.2840e-02],\n",
            "          [ 3.3312e-02,  7.3709e-04,  9.6730e-03]],\n",
            "\n",
            "         [[ 3.0660e-03, -2.5100e-02, -3.6864e-02],\n",
            "          [ 5.2802e-03, -1.3749e-02, -2.0240e-02],\n",
            "          [ 3.0643e-02, -2.5753e-03, -8.6840e-03]],\n",
            "\n",
            "         ...,\n",
            "\n",
            "         [[-3.0876e-02, -2.0309e-02, -2.4580e-02],\n",
            "          [ 2.2263e-02, -3.1089e-02, -2.6028e-03],\n",
            "          [-3.8165e-02, -4.7572e-02, -3.4837e-02]],\n",
            "\n",
            "         [[-9.6269e-03,  3.8532e-02,  5.5837e-03],\n",
            "          [-6.0895e-03, -3.2082e-03, -2.6539e-03],\n",
            "          [-7.6906e-03,  2.8322e-03, -1.0357e-02]],\n",
            "\n",
            "         [[-2.8685e-02,  3.0032e-02, -1.1329e-02],\n",
            "          [-2.7860e-02,  2.4604e-02, -8.2838e-04],\n",
            "          [ 2.6079e-02, -7.1409e-03,  3.1568e-02]]],\n",
            "\n",
            "\n",
            "        [[[ 2.7443e-02,  1.8491e-02, -1.7067e-02],\n",
            "          [ 1.5985e-02, -4.0526e-03, -3.6942e-02],\n",
            "          [-3.0123e-02, -6.8109e-03, -3.5480e-02]],\n",
            "\n",
            "         [[ 2.8660e-02,  5.0386e-03,  1.3723e-02],\n",
            "          [-1.0437e-02,  3.5409e-02,  3.9025e-02],\n",
            "          [-4.3312e-02, -2.6593e-02, -1.8737e-02]],\n",
            "\n",
            "         [[-1.4034e-02,  2.2794e-02, -3.7670e-02],\n",
            "          [ 2.9090e-02, -3.5923e-02, -1.9607e-02],\n",
            "          [-7.1297e-03,  1.0038e-02,  1.1819e-02]],\n",
            "\n",
            "         ...,\n",
            "\n",
            "         [[ 1.9806e-03,  1.5121e-02,  1.4539e-02],\n",
            "          [ 5.2482e-02,  3.7919e-02, -1.0047e-02],\n",
            "          [ 8.5930e-03,  2.4594e-05, -2.2196e-02]],\n",
            "\n",
            "         [[ 9.0383e-03,  2.3148e-02, -5.6563e-03],\n",
            "          [-3.3126e-02, -3.5346e-02, -3.4506e-02],\n",
            "          [ 1.9123e-02, -9.8063e-03,  9.8026e-03]],\n",
            "\n",
            "         [[-2.6777e-02,  3.8698e-02, -2.7566e-03],\n",
            "          [ 2.5925e-02, -4.1582e-02, -4.1345e-02],\n",
            "          [-3.6113e-02,  2.2120e-02,  6.8966e-03]]],\n",
            "\n",
            "\n",
            "        [[[ 1.2442e-02, -1.5553e-02,  1.2630e-02],\n",
            "          [-2.5343e-02,  1.1242e-02, -1.4616e-02],\n",
            "          [ 3.6751e-02, -4.3834e-03,  7.8960e-03]],\n",
            "\n",
            "         [[-3.8830e-02,  2.9872e-02, -7.9721e-03],\n",
            "          [-3.5093e-02, -9.6958e-03,  1.7886e-02],\n",
            "          [-2.5296e-02,  3.8754e-02,  3.1558e-03]],\n",
            "\n",
            "         [[ 3.4336e-02, -1.4119e-02, -4.0917e-02],\n",
            "          [ 1.4813e-02,  2.3973e-02, -2.5245e-02],\n",
            "          [-1.0970e-02,  3.0454e-02, -4.5039e-02]],\n",
            "\n",
            "         ...,\n",
            "\n",
            "         [[ 4.3217e-02, -3.4080e-03, -2.5288e-03],\n",
            "          [ 1.1694e-02,  1.8789e-03, -3.8477e-02],\n",
            "          [ 6.7813e-03,  1.0889e-02, -9.2147e-03]],\n",
            "\n",
            "         [[ 4.4626e-02,  2.1886e-02, -2.6613e-02],\n",
            "          [ 2.9512e-03,  1.9123e-02,  3.1832e-02],\n",
            "          [ 3.8570e-02, -3.6013e-02, -2.6995e-02]],\n",
            "\n",
            "         [[ 3.0785e-02, -4.0490e-02,  4.4652e-02],\n",
            "          [-4.1811e-02,  1.9878e-02,  4.9036e-03],\n",
            "          [ 3.7460e-02,  3.0236e-02,  1.3409e-02]]],\n",
            "\n",
            "\n",
            "        ...,\n",
            "\n",
            "\n",
            "        [[[-2.4348e-03, -1.9513e-02,  2.5956e-02],\n",
            "          [ 1.9394e-02,  3.8281e-02, -3.0617e-02],\n",
            "          [-2.2412e-02, -3.4674e-02,  6.9612e-03]],\n",
            "\n",
            "         [[ 1.6813e-02, -2.5490e-02,  1.3281e-02],\n",
            "          [-2.6843e-02,  3.9585e-02,  2.9745e-02],\n",
            "          [-4.9486e-03, -1.0020e-02, -4.7190e-03]],\n",
            "\n",
            "         [[ 3.0972e-02,  3.1926e-02, -4.0531e-03],\n",
            "          [-1.8708e-02,  3.9641e-02, -2.4948e-02],\n",
            "          [-3.1467e-02, -1.5012e-02, -3.1889e-02]],\n",
            "\n",
            "         ...,\n",
            "\n",
            "         [[ 1.5184e-02,  1.2618e-02,  2.5808e-02],\n",
            "          [ 5.4406e-03,  2.9282e-02,  3.1662e-02],\n",
            "          [ 4.0926e-02, -1.9045e-02, -3.1080e-02]],\n",
            "\n",
            "         [[-1.0827e-02, -1.4720e-02, -1.8677e-02],\n",
            "          [-1.8078e-02,  2.3119e-02,  3.5052e-02],\n",
            "          [ 1.4088e-02, -2.3898e-02,  2.7649e-02]],\n",
            "\n",
            "         [[-2.5798e-02,  3.1610e-02, -2.2054e-03],\n",
            "          [-2.0796e-02, -4.2275e-02,  1.4811e-02],\n",
            "          [ 2.8762e-02, -4.2700e-02,  3.1685e-02]]],\n",
            "\n",
            "\n",
            "        [[[-1.5380e-02, -2.7399e-02,  2.4524e-02],\n",
            "          [-1.6855e-02, -2.3272e-02, -1.7898e-02],\n",
            "          [ 3.7791e-02, -1.4020e-02,  2.7949e-02]],\n",
            "\n",
            "         [[-3.5646e-03, -3.4368e-02, -3.9451e-02],\n",
            "          [-1.0631e-02,  1.7767e-02,  2.0745e-02],\n",
            "          [ 3.4912e-02, -2.9515e-02,  9.6825e-03]],\n",
            "\n",
            "         [[-8.2974e-03,  2.5291e-02,  3.5464e-02],\n",
            "          [-7.5568e-03, -3.4616e-02, -1.5020e-02],\n",
            "          [-1.5468e-02, -3.3755e-02,  3.9920e-04]],\n",
            "\n",
            "         ...,\n",
            "\n",
            "         [[ 1.1158e-02,  2.5422e-02,  1.0515e-02],\n",
            "          [-1.6250e-02, -2.0624e-02,  1.0148e-02],\n",
            "          [-1.3481e-02,  3.2546e-02,  3.0551e-03]],\n",
            "\n",
            "         [[-3.1336e-03, -2.5710e-02, -2.2499e-02],\n",
            "          [ 4.5371e-02,  2.1902e-02, -3.0627e-02],\n",
            "          [ 3.9692e-03, -2.5321e-02, -2.8931e-02]],\n",
            "\n",
            "         [[ 4.3422e-02,  2.1991e-02,  9.1264e-03],\n",
            "          [ 3.5025e-02, -3.9302e-02,  2.7244e-02],\n",
            "          [-4.5987e-02,  4.7405e-03, -4.1312e-02]]],\n",
            "\n",
            "\n",
            "        [[[ 2.1007e-02,  9.5168e-03,  3.4113e-02],\n",
            "          [-3.3583e-02, -3.7879e-02,  3.3896e-02],\n",
            "          [-2.8961e-02,  2.9446e-02,  1.2746e-02]],\n",
            "\n",
            "         [[ 2.5138e-02,  2.3950e-02,  1.9162e-04],\n",
            "          [ 3.3705e-02,  4.6971e-02,  2.2975e-02],\n",
            "          [ 1.8092e-02, -3.1800e-03,  4.3009e-02]],\n",
            "\n",
            "         [[-1.9993e-03, -6.2868e-03,  1.0908e-02],\n",
            "          [-4.0122e-04, -3.6860e-02, -1.9602e-02],\n",
            "          [-4.4865e-03, -5.0271e-03,  2.1871e-02]],\n",
            "\n",
            "         ...,\n",
            "\n",
            "         [[ 3.5336e-02,  1.3269e-02, -2.7847e-02],\n",
            "          [-6.9051e-03,  1.7040e-03,  3.0636e-02],\n",
            "          [ 2.1835e-02,  1.4322e-02, -9.5030e-03]],\n",
            "\n",
            "         [[ 3.0011e-02, -2.0567e-02,  2.6710e-02],\n",
            "          [-9.0867e-03, -2.7641e-02,  2.4298e-02],\n",
            "          [-3.8166e-03,  7.6364e-03,  3.0935e-02]],\n",
            "\n",
            "         [[-3.4634e-02, -3.5701e-02, -4.0006e-02],\n",
            "          [-4.6238e-02, -6.6728e-03, -4.2204e-02],\n",
            "          [ 7.7121e-03,  3.2735e-03,  1.6506e-02]]]], device='cuda:0')), ('conv4.bias', tensor([-8.9507e-06,  5.3105e-05, -7.2087e-06,  4.3571e-07,  1.9840e-05,\n",
            "         8.6783e-06, -1.5221e-07,  8.8247e-06, -1.0982e-05,  5.9446e-07,\n",
            "         1.9116e-05,  3.5370e-05, -7.2043e-06,  3.3935e-05, -9.5296e-06,\n",
            "         1.9453e-05,  1.4802e-05,  5.9554e-06,  5.6514e-05, -6.3457e-06,\n",
            "         8.5473e-06,  1.1417e-05,  1.3572e-06, -1.3755e-05,  2.0211e-06,\n",
            "         8.9173e-06,  1.9443e-05, -9.7056e-06, -7.9508e-06,  9.0235e-06,\n",
            "        -9.6705e-06,  6.5603e-06, -1.5405e-05,  3.1997e-05,  6.1698e-06,\n",
            "         1.2062e-06,  7.7394e-06,  6.7069e-06, -9.1816e-06,  9.5388e-06,\n",
            "        -1.0882e-06,  9.2724e-07, -4.5097e-06,  1.7239e-06, -1.1384e-05,\n",
            "        -2.1767e-06,  3.3577e-05,  4.5141e-06,  3.3557e-06, -1.2346e-05,\n",
            "         4.4236e-07,  1.7179e-06,  3.8454e-06,  6.9335e-06, -6.3142e-06,\n",
            "         4.6410e-06, -8.6182e-06,  1.9523e-05, -5.6533e-06, -2.6358e-06,\n",
            "         5.1350e-06,  3.6453e-06,  3.5412e-05, -2.2966e-05,  3.3124e-06,\n",
            "         9.6248e-06, -1.5829e-05, -8.0943e-06, -3.8270e-06, -1.1626e-05,\n",
            "         5.4577e-06, -3.8863e-06, -4.4582e-06, -1.4542e-05,  2.9848e-05,\n",
            "         1.4033e-05,  1.0710e-05, -1.5875e-05, -6.3598e-07,  7.2303e-06,\n",
            "        -1.4758e-05, -2.1133e-05,  7.7960e-05, -2.2939e-06, -4.8038e-08,\n",
            "        -5.9842e-06,  2.0877e-05,  4.9504e-06,  2.5252e-05, -8.3394e-06,\n",
            "        -2.2901e-05,  1.7130e-05,  6.2518e-06,  1.8312e-05,  3.2685e-07,\n",
            "         7.1358e-06, -3.6180e-05,  2.0527e-05,  2.9184e-05, -2.7116e-05,\n",
            "        -7.8673e-06,  1.3940e-05,  4.5898e-05,  9.8397e-06, -2.5194e-05,\n",
            "         1.3284e-05,  1.6379e-05,  2.2321e-05, -2.0832e-06,  2.8801e-05,\n",
            "         4.7013e-06,  3.5380e-06,  1.1062e-06, -2.3906e-05, -1.8089e-05,\n",
            "         2.6796e-05, -4.3565e-06,  9.3669e-06,  3.7356e-07,  5.7536e-07,\n",
            "        -3.4316e-06,  1.4476e-06, -2.9145e-05, -1.5345e-05,  1.0219e-05,\n",
            "         5.0224e-06, -6.3379e-06, -2.9220e-05], device='cuda:0')), ('bn4.weight', tensor([0.9980, 1.0000, 1.0134, 0.9935, 0.9789, 0.9951, 0.9921, 1.0014, 0.9924,\n",
            "        0.9942, 0.9966, 0.9945, 0.9834, 0.9952, 0.9913, 0.9875, 0.9929, 0.9937,\n",
            "        0.9877, 0.9966, 0.9868, 0.9900, 0.9851, 0.9942, 0.9964, 0.9839, 0.9836,\n",
            "        0.9745, 0.9773, 1.0061, 0.9887, 0.9911, 0.9855, 0.9917, 0.9791, 0.9845,\n",
            "        0.9708, 0.9881, 0.9803, 1.0052, 0.9767, 0.9834, 0.9943, 0.9996, 0.9915,\n",
            "        0.9825, 0.9846, 0.9761, 0.9834, 0.9768, 0.9928, 0.9862, 0.9900, 0.9858,\n",
            "        0.9839, 0.9979, 0.9792, 1.0043, 0.9992, 1.0079, 0.9909, 1.0112, 1.0036,\n",
            "        0.9699, 0.9770, 0.9818, 0.9899, 1.0042, 0.9809, 0.9873, 0.9812, 0.9955,\n",
            "        0.9757, 0.9839, 1.0063, 0.9834, 0.9907, 0.9928, 0.9849, 0.9886, 0.9999,\n",
            "        1.0123, 1.0146, 0.9778, 0.9865, 0.9927, 0.9854, 0.9981, 0.9847, 0.9822,\n",
            "        1.0080, 1.0017, 0.9794, 0.9809, 0.9917, 1.0019, 0.9932, 0.9929, 0.9784,\n",
            "        1.0038, 0.9921, 0.9851, 0.9930, 0.9950, 0.9841, 0.9960, 0.9834, 1.0018,\n",
            "        0.9839, 1.0066, 1.0002, 0.9849, 0.9847, 0.9731, 0.9871, 0.9986, 1.0074,\n",
            "        0.9754, 0.9837, 0.9794, 0.9889, 0.9760, 0.9943, 1.0021, 0.9854, 0.9981,\n",
            "        1.0109, 0.9787], device='cuda:0')), ('bn4.bias', tensor([-0.0245, -0.0125, -0.0292, -0.0441, -0.0257, -0.0162, -0.0181, -0.0035,\n",
            "        -0.0304, -0.0246, -0.0233, -0.0236, -0.0268, -0.0275, -0.0381, -0.0257,\n",
            "        -0.0129, -0.0266, -0.0148, -0.0247, -0.0299, -0.0238, -0.0231, -0.0193,\n",
            "        -0.0224, -0.0255, -0.0367, -0.0357, -0.0384, -0.0379, -0.0087, -0.0212,\n",
            "        -0.0161, -0.0291, -0.0346, -0.0352, -0.0360, -0.0210, -0.0212, -0.0162,\n",
            "        -0.0412, -0.0312, -0.0301, -0.0352, -0.0227, -0.0185, -0.0378, -0.0407,\n",
            "        -0.0205, -0.0400, -0.0209, -0.0289, -0.0198, -0.0309, -0.0315, -0.0146,\n",
            "        -0.0248, -0.0227, -0.0441, -0.0233, -0.0209, -0.0290, -0.0263, -0.0378,\n",
            "        -0.0276, -0.0297, -0.0367, -0.0303, -0.0434, -0.0335, -0.0403, -0.0300,\n",
            "        -0.0286, -0.0334, -0.0364, -0.0302, -0.0173, -0.0350, -0.0312, -0.0136,\n",
            "        -0.0105, -0.0252, -0.0220, -0.0355, -0.0255, -0.0226, -0.0231, -0.0135,\n",
            "        -0.0226, -0.0494, -0.0150, -0.0314, -0.0408, -0.0306, -0.0294, -0.0203,\n",
            "        -0.0320, -0.0403, -0.0321, -0.0321, -0.0350, -0.0234, -0.0391, -0.0457,\n",
            "        -0.0339, -0.0346, -0.0321, -0.0146, -0.0411, -0.0203, -0.0194, -0.0123,\n",
            "        -0.0160, -0.0526, -0.0238, -0.0236, -0.0181, -0.0350, -0.0192, -0.0320,\n",
            "        -0.0213, -0.0465, -0.0061, -0.0151, -0.0249, -0.0234, -0.0178, -0.0343],\n",
            "       device='cuda:0')), ('bn4.running_mean', tensor([ 0.2058, -0.2569, -0.4288,  0.1194,  0.1129,  0.1386, -0.2406, -0.3521,\n",
            "         0.0354, -0.0532, -0.3614, -0.0463, -0.0562, -0.0726,  0.3001,  0.2385,\n",
            "        -0.1652,  0.0527, -0.1843, -0.0676,  0.3141, -0.2096, -0.5172,  0.2184,\n",
            "         0.1771,  0.0556,  0.4952,  0.4622,  1.0816,  0.2801, -1.0756,  0.1032,\n",
            "        -0.1916,  0.5693,  0.1114,  0.7974, -0.4201, -0.5107, -0.9422, -0.0382,\n",
            "         0.0146, -0.0373, -0.0270,  0.1920, -0.5417,  0.0775,  0.3411,  0.2859,\n",
            "        -0.2245,  0.3215, -0.4495, -0.0919, -0.3250,  0.3213, -0.9351, -0.3159,\n",
            "         0.3242,  0.0979, -0.3499,  0.1250,  0.2328,  0.0386,  0.7280, -0.2166,\n",
            "        -0.1981, -0.1503,  1.0174,  0.1145, -0.0241,  0.4689,  0.1720, -0.4604,\n",
            "         0.1903,  0.2556,  0.2656,  0.0056, -0.1690,  0.1458, -0.2721, -0.9284,\n",
            "        -0.3038, -0.4538, -0.2389, -0.8149, -0.6786, -0.3643,  0.2047, -0.0175,\n",
            "        -0.4050,  0.3467, -0.4138,  0.5954,  0.0578, -0.4395,  0.0036, -0.3502,\n",
            "         0.4705,  0.6465,  0.3964, -0.2772,  0.4886, -0.0981, -0.1674,  0.0066,\n",
            "         0.0351,  0.1565,  0.7436, -0.1746, -0.0508, -0.5897,  0.1369, -0.3178,\n",
            "        -0.5524, -0.2234, -0.5238, -0.2424, -0.0920, -0.0170, -0.2958, -0.0195,\n",
            "         0.0085,  0.9542, -0.5423, -0.3952, -0.3604, -0.6231,  0.0875, -0.5253],\n",
            "       device='cuda:0')), ('bn4.running_var', tensor([0.1884, 0.1635, 0.1992, 0.2117, 0.2623, 0.1542, 0.3476, 0.1832, 0.2097,\n",
            "        0.2870, 0.2938, 0.2717, 0.3734, 0.1765, 0.2073, 0.2479, 0.2037, 0.1664,\n",
            "        0.1987, 0.2522, 0.2566, 0.2855, 0.4144, 0.1698, 0.1835, 0.4130, 0.2320,\n",
            "        0.4832, 0.3730, 0.1361, 0.3200, 0.3391, 0.2140, 0.3776, 0.1440, 0.1508,\n",
            "        0.4065, 0.2277, 0.3847, 0.2452, 0.1326, 0.3944, 0.2051, 0.3170, 0.1727,\n",
            "        0.3031, 0.2443, 0.3117, 0.2439, 0.1535, 0.3459, 0.2094, 0.1435, 0.2951,\n",
            "        0.2917, 0.1656, 0.3533, 0.1690, 0.1789, 0.1563, 0.1758, 0.2019, 0.3013,\n",
            "        0.3432, 0.4383, 0.2389, 0.3831, 0.1625, 0.2596, 0.2202, 0.2004, 0.2344,\n",
            "        0.1748, 0.2648, 0.2241, 0.1100, 0.2362, 0.1377, 0.2554, 0.2650, 0.1987,\n",
            "        0.3146, 0.1602, 0.4259, 0.4488, 0.2545, 0.1778, 0.2827, 0.2718, 0.2466,\n",
            "        0.3470, 0.1383, 0.2495, 0.4167, 0.3522, 0.2729, 0.2153, 0.2276, 0.1445,\n",
            "        0.2160, 0.1335, 0.1709, 0.1636, 0.1457, 0.2142, 0.2748, 0.2574, 0.1407,\n",
            "        0.1639, 0.2243, 0.2617, 0.3170, 0.2741, 0.1573, 0.2756, 0.1850, 0.2201,\n",
            "        0.3436, 0.2970, 0.5247, 0.2335, 0.2432, 0.1580, 0.1520, 0.7389, 0.3549,\n",
            "        0.1781, 0.3479], device='cuda:0')), ('bn4.num_batches_tracked', tensor(3750, device='cuda:0')), ('conv5.weight', tensor([[[[ 0.0072, -0.0037, -0.0270],\n",
            "          [ 0.0309,  0.0287,  0.0238],\n",
            "          [-0.0251, -0.0166,  0.0227]],\n",
            "\n",
            "         [[ 0.0034, -0.0118,  0.0295],\n",
            "          [ 0.0101, -0.0160, -0.0072],\n",
            "          [-0.0182, -0.0099,  0.0237]],\n",
            "\n",
            "         [[-0.0262,  0.0052,  0.0124],\n",
            "          [ 0.0377,  0.0367, -0.0116],\n",
            "          [-0.0179, -0.0029, -0.0062]],\n",
            "\n",
            "         ...,\n",
            "\n",
            "         [[ 0.0308, -0.0051,  0.0168],\n",
            "          [ 0.0011,  0.0040,  0.0194],\n",
            "          [ 0.0294,  0.0028, -0.0013]],\n",
            "\n",
            "         [[-0.0026,  0.0026, -0.0040],\n",
            "          [ 0.0100, -0.0162,  0.0137],\n",
            "          [ 0.0137, -0.0012, -0.0140]],\n",
            "\n",
            "         [[ 0.0001, -0.0136, -0.0135],\n",
            "          [ 0.0018, -0.0003, -0.0086],\n",
            "          [-0.0008,  0.0235,  0.0069]]],\n",
            "\n",
            "\n",
            "        [[[ 0.0341, -0.0168,  0.0064],\n",
            "          [ 0.0188, -0.0016,  0.0307],\n",
            "          [-0.0128, -0.0129, -0.0163]],\n",
            "\n",
            "         [[-0.0070, -0.0174,  0.0082],\n",
            "          [-0.0326,  0.0179,  0.0166],\n",
            "          [ 0.0036,  0.0107, -0.0026]],\n",
            "\n",
            "         [[ 0.0222, -0.0118, -0.0211],\n",
            "          [ 0.0313,  0.0314,  0.0252],\n",
            "          [-0.0090,  0.0274, -0.0224]],\n",
            "\n",
            "         ...,\n",
            "\n",
            "         [[ 0.0137,  0.0263,  0.0026],\n",
            "          [-0.0048, -0.0026, -0.0222],\n",
            "          [-0.0115,  0.0224, -0.0332]],\n",
            "\n",
            "         [[-0.0203, -0.0304, -0.0135],\n",
            "          [-0.0039, -0.0188, -0.0069],\n",
            "          [ 0.0253,  0.0104,  0.0083]],\n",
            "\n",
            "         [[-0.0053, -0.0102,  0.0167],\n",
            "          [ 0.0105,  0.0223,  0.0014],\n",
            "          [ 0.0163, -0.0177, -0.0076]]],\n",
            "\n",
            "\n",
            "        [[[ 0.0049,  0.0078, -0.0268],\n",
            "          [-0.0148,  0.0020, -0.0202],\n",
            "          [-0.0282, -0.0241,  0.0103]],\n",
            "\n",
            "         [[-0.0002, -0.0237, -0.0255],\n",
            "          [-0.0235, -0.0056,  0.0258],\n",
            "          [ 0.0218, -0.0004,  0.0099]],\n",
            "\n",
            "         [[-0.0331,  0.0086, -0.0149],\n",
            "          [ 0.0292, -0.0160,  0.0145],\n",
            "          [-0.0372, -0.0133,  0.0175]],\n",
            "\n",
            "         ...,\n",
            "\n",
            "         [[ 0.0301,  0.0147,  0.0031],\n",
            "          [ 0.0019, -0.0267, -0.0174],\n",
            "          [ 0.0055, -0.0209, -0.0097]],\n",
            "\n",
            "         [[ 0.0100,  0.0249, -0.0092],\n",
            "          [ 0.0027,  0.0082, -0.0145],\n",
            "          [-0.0072,  0.0185, -0.0151]],\n",
            "\n",
            "         [[-0.0215, -0.0138,  0.0123],\n",
            "          [-0.0225,  0.0151, -0.0094],\n",
            "          [-0.0068, -0.0148,  0.0166]]],\n",
            "\n",
            "\n",
            "        ...,\n",
            "\n",
            "\n",
            "        [[[-0.0049, -0.0251,  0.0006],\n",
            "          [-0.0127,  0.0227,  0.0229],\n",
            "          [ 0.0036, -0.0310,  0.0121]],\n",
            "\n",
            "         [[ 0.0221, -0.0123, -0.0053],\n",
            "          [ 0.0019, -0.0061, -0.0118],\n",
            "          [ 0.0127, -0.0154, -0.0293]],\n",
            "\n",
            "         [[-0.0198,  0.0056,  0.0010],\n",
            "          [ 0.0149, -0.0298,  0.0078],\n",
            "          [-0.0195,  0.0042, -0.0228]],\n",
            "\n",
            "         ...,\n",
            "\n",
            "         [[ 0.0194, -0.0187, -0.0252],\n",
            "          [-0.0103, -0.0256,  0.0043],\n",
            "          [ 0.0262,  0.0047,  0.0287]],\n",
            "\n",
            "         [[-0.0207,  0.0065, -0.0295],\n",
            "          [ 0.0076, -0.0153, -0.0303],\n",
            "          [-0.0101, -0.0146,  0.0304]],\n",
            "\n",
            "         [[-0.0206,  0.0159, -0.0122],\n",
            "          [ 0.0091, -0.0149,  0.0212],\n",
            "          [ 0.0080, -0.0030, -0.0199]]],\n",
            "\n",
            "\n",
            "        [[[-0.0129,  0.0012,  0.0203],\n",
            "          [-0.0212,  0.0003, -0.0230],\n",
            "          [ 0.0182, -0.0027, -0.0227]],\n",
            "\n",
            "         [[-0.0018,  0.0020, -0.0113],\n",
            "          [ 0.0009, -0.0061,  0.0128],\n",
            "          [-0.0045,  0.0276,  0.0035]],\n",
            "\n",
            "         [[ 0.0039,  0.0024, -0.0056],\n",
            "          [-0.0082, -0.0234,  0.0185],\n",
            "          [-0.0265,  0.0035, -0.0311]],\n",
            "\n",
            "         ...,\n",
            "\n",
            "         [[ 0.0021,  0.0065,  0.0007],\n",
            "          [ 0.0136,  0.0272,  0.0067],\n",
            "          [ 0.0110,  0.0234, -0.0352]],\n",
            "\n",
            "         [[-0.0257,  0.0205, -0.0155],\n",
            "          [-0.0140, -0.0240,  0.0172],\n",
            "          [ 0.0267, -0.0078, -0.0201]],\n",
            "\n",
            "         [[ 0.0236, -0.0086,  0.0205],\n",
            "          [ 0.0069,  0.0148,  0.0101],\n",
            "          [ 0.0190, -0.0133, -0.0287]]],\n",
            "\n",
            "\n",
            "        [[[ 0.0319, -0.0175, -0.0013],\n",
            "          [ 0.0040, -0.0133, -0.0299],\n",
            "          [-0.0242,  0.0271, -0.0122]],\n",
            "\n",
            "         [[-0.0302, -0.0188,  0.0239],\n",
            "          [-0.0132, -0.0143, -0.0065],\n",
            "          [-0.0152,  0.0035,  0.0046]],\n",
            "\n",
            "         [[ 0.0197, -0.0289, -0.0250],\n",
            "          [ 0.0473, -0.0222, -0.0108],\n",
            "          [ 0.0315,  0.0004, -0.0188]],\n",
            "\n",
            "         ...,\n",
            "\n",
            "         [[ 0.0125,  0.0103, -0.0019],\n",
            "          [-0.0069, -0.0077,  0.0116],\n",
            "          [ 0.0049,  0.0157,  0.0231]],\n",
            "\n",
            "         [[ 0.0261, -0.0065,  0.0009],\n",
            "          [-0.0073,  0.0160,  0.0230],\n",
            "          [-0.0309,  0.0047, -0.0025]],\n",
            "\n",
            "         [[ 0.0008, -0.0011,  0.0004],\n",
            "          [-0.0179, -0.0022,  0.0007],\n",
            "          [-0.0313,  0.0014,  0.0072]]]], device='cuda:0')), ('conv5.bias', tensor([ 8.2436e-06,  1.3158e-06,  3.2970e-06,  1.2354e-05, -9.9705e-06,\n",
            "         3.0704e-07, -3.1608e-06, -1.7832e-06, -7.1338e-06, -3.5482e-06,\n",
            "        -1.1092e-06,  4.1087e-06,  4.1475e-06, -6.2041e-06,  3.2684e-06,\n",
            "         5.0494e-06,  1.1323e-06,  1.3232e-05,  1.6849e-05,  3.6309e-06,\n",
            "         7.1458e-06, -6.3806e-06,  6.5306e-07, -8.8428e-06,  2.1049e-05,\n",
            "         5.5384e-06, -3.6980e-06,  9.2356e-06, -1.1986e-05,  8.1087e-06,\n",
            "        -1.7495e-05, -1.7254e-06,  5.2459e-06,  3.5401e-06, -2.2878e-05,\n",
            "        -1.7389e-06,  4.9181e-06,  1.0159e-06, -1.7006e-06, -2.9800e-06,\n",
            "        -9.8488e-07, -1.6255e-06, -3.5773e-06, -1.1088e-05, -1.8722e-05,\n",
            "         9.2021e-06, -1.6257e-06,  3.3745e-06,  1.7810e-06,  3.7759e-06,\n",
            "         1.2582e-06, -5.2808e-06,  1.8341e-06, -2.4912e-07,  1.3855e-05,\n",
            "         9.6893e-07, -1.0295e-05,  8.9410e-08, -2.8247e-06,  1.6906e-06,\n",
            "        -2.3680e-06, -7.1623e-06,  4.9523e-06, -3.5803e-08, -1.7114e-06,\n",
            "         6.2600e-06, -9.1876e-06, -1.6713e-06,  2.3800e-06, -1.4522e-05,\n",
            "         1.7407e-06, -1.2788e-05,  2.1390e-06, -5.0344e-06, -1.1422e-06,\n",
            "         2.5121e-06,  4.0574e-06, -6.0953e-08,  3.2310e-06,  3.0833e-06,\n",
            "         7.6497e-06,  8.3927e-06, -3.1905e-06,  9.4614e-06, -9.0847e-06,\n",
            "        -1.1102e-07,  4.2834e-06,  2.6385e-06, -3.0183e-06, -3.0643e-06,\n",
            "        -7.2722e-07,  7.3205e-06, -4.0425e-06, -6.6519e-07,  6.0583e-06,\n",
            "        -3.8036e-06, -1.7602e-05, -1.0440e-06,  1.3411e-06, -8.2808e-06,\n",
            "         1.8900e-05, -5.5126e-06,  1.0633e-05,  1.1999e-05, -8.1708e-06,\n",
            "        -3.9555e-06,  2.9426e-06,  9.8467e-07, -3.2274e-06, -1.5152e-06,\n",
            "        -1.4244e-05, -5.6006e-06,  1.8662e-06, -6.9455e-06, -5.7667e-06,\n",
            "        -5.1803e-06,  3.3371e-06, -9.6289e-06,  3.9759e-06, -4.9430e-06,\n",
            "        -1.3046e-06, -5.6156e-06,  6.1224e-06, -2.3424e-06, -1.7760e-06,\n",
            "        -7.7016e-07,  6.4507e-06,  2.5541e-07, -7.7618e-06, -1.3573e-07,\n",
            "         1.6443e-06, -1.2748e-06,  5.1981e-06, -2.3789e-06, -1.1981e-05,\n",
            "        -2.7672e-06,  5.5462e-06,  1.3478e-06,  2.9059e-06,  1.5480e-06,\n",
            "         4.9021e-07, -3.6867e-06, -1.3470e-05,  8.5951e-07,  2.4975e-06,\n",
            "         6.4639e-06,  2.3771e-07,  1.1884e-06,  2.1517e-06, -3.3335e-06,\n",
            "        -5.1866e-06, -9.8858e-07,  5.0220e-06, -2.3872e-06,  3.6287e-06,\n",
            "         1.5876e-05,  1.1700e-05,  3.9851e-06, -6.0854e-06,  4.6110e-06,\n",
            "        -5.0456e-06,  2.1466e-06,  6.8957e-06, -7.6836e-06, -1.0239e-06,\n",
            "        -2.8339e-05,  6.6726e-06, -8.8236e-06,  3.3075e-05, -5.5694e-06,\n",
            "        -6.3271e-06, -5.9394e-07, -1.3602e-05, -1.6475e-06,  9.7133e-06,\n",
            "         1.5715e-06, -5.2543e-06,  9.6768e-06,  1.6801e-05,  3.9723e-05,\n",
            "        -4.2234e-06,  1.8063e-06,  4.9473e-06,  6.8097e-06, -1.1870e-05,\n",
            "        -2.4360e-06, -3.1712e-06, -3.1840e-06, -1.2664e-05, -9.3217e-06,\n",
            "         6.1176e-07,  1.2817e-06, -8.4561e-06,  1.0205e-06,  2.1990e-06,\n",
            "         1.6511e-06, -2.9109e-06,  5.1877e-06, -4.3787e-06,  7.7606e-07,\n",
            "         6.0540e-06,  8.4499e-06, -8.1015e-06, -7.1163e-07, -3.0791e-08,\n",
            "        -8.5675e-06, -1.7476e-05, -3.0177e-08, -5.8899e-07,  6.9213e-06,\n",
            "         5.9874e-06,  1.9694e-05,  9.1374e-06,  3.6860e-06,  4.9309e-06,\n",
            "        -7.6221e-07, -1.9846e-07,  2.7607e-06, -8.4960e-06,  2.8633e-06,\n",
            "        -2.1500e-06, -1.1102e-05, -8.7782e-06, -3.9410e-06, -7.3068e-06,\n",
            "        -5.1151e-06, -7.2518e-06,  3.6664e-06, -7.5989e-06, -1.1775e-05,\n",
            "         6.2001e-06, -7.3788e-07, -9.4325e-07,  4.1239e-06,  1.0536e-05,\n",
            "         1.7006e-06, -1.8818e-06,  8.8417e-06, -1.0142e-07,  4.5245e-07,\n",
            "        -1.5176e-05,  5.2112e-07,  2.8931e-06,  3.0706e-06,  7.9305e-06,\n",
            "        -7.0761e-06, -1.0501e-06, -4.0250e-06, -1.4460e-06,  3.1874e-05,\n",
            "        -8.3850e-06,  1.6723e-05, -3.4873e-06,  2.0826e-06, -4.3107e-06,\n",
            "        -4.0813e-06], device='cuda:0')), ('bn5.weight', tensor([1.0159, 1.0206, 1.0160, 1.0080, 1.0271, 0.9929, 1.0337, 1.0040, 1.0231,\n",
            "        1.0173, 1.0210, 0.9920, 1.0134, 0.9945, 1.0424, 1.0027, 1.0207, 1.0445,\n",
            "        1.0220, 1.0012, 1.0064, 1.0045, 1.0101, 1.0020, 0.9897, 1.0638, 1.0174,\n",
            "        1.0331, 0.9997, 0.9980, 1.0089, 1.0170, 1.0159, 1.0381, 1.0300, 1.0080,\n",
            "        1.0241, 0.9654, 0.9961, 1.0075, 1.0312, 1.0191, 1.0596, 1.0212, 1.0350,\n",
            "        1.0054, 1.0121, 1.0083, 1.0323, 1.0048, 1.0194, 1.0210, 0.9825, 1.0061,\n",
            "        0.9974, 1.0333, 1.0316, 0.9978, 1.0307, 1.0085, 1.0361, 1.0066, 0.9935,\n",
            "        1.0057, 0.9982, 1.0004, 1.0304, 1.0136, 1.0267, 1.0394, 1.0147, 1.0372,\n",
            "        0.9976, 1.0034, 1.0281, 1.0105, 1.0305, 1.0201, 1.0267, 1.0266, 1.0056,\n",
            "        1.0153, 1.0349, 1.0447, 1.0188, 1.0034, 1.0189, 1.0433, 1.0088, 1.0533,\n",
            "        1.0141, 1.0079, 1.0122, 1.0056, 1.0095, 1.0233, 1.0241, 1.0072, 1.0198,\n",
            "        1.0201, 1.0309, 1.0299, 1.0156, 1.0191, 1.0008, 1.0045, 1.0209, 1.0065,\n",
            "        1.0201, 1.0274, 1.0137, 1.0036, 1.0400, 1.0030, 1.0187, 0.9922, 0.9950,\n",
            "        1.0286, 1.0332, 1.0174, 0.9972, 1.0262, 1.0224, 1.0307, 1.0093, 1.0055,\n",
            "        1.0207, 1.0262, 1.0239, 1.0502, 1.0103, 1.0152, 1.0104, 0.9717, 1.0096,\n",
            "        1.0036, 0.9987, 1.0027, 1.0149, 0.9860, 1.0150, 1.0108, 1.0142, 0.9913,\n",
            "        1.0227, 1.0360, 1.0069, 1.0504, 1.0015, 1.0210, 1.0160, 1.0214, 1.0135,\n",
            "        1.0095, 1.0045, 1.0234, 1.0352, 1.0022, 1.0387, 0.9933, 1.0018, 1.0201,\n",
            "        0.9917, 0.9925, 1.0013, 1.0384, 1.0120, 0.9991, 1.0126, 1.0162, 1.0016,\n",
            "        1.0097, 1.0526, 1.0398, 1.0382, 1.0170, 1.0133, 1.0062, 1.0167, 1.0070,\n",
            "        1.0035, 1.0401, 1.0166, 0.9993, 1.0126, 1.0178, 1.0344, 1.0210, 1.0190,\n",
            "        1.0321, 1.0490, 0.9792, 1.0234, 1.0178, 1.0146, 1.0152, 1.0331, 1.0139,\n",
            "        1.0169, 1.0308, 1.0000, 1.0084, 1.0484, 1.0105, 1.0024, 1.0600, 1.0126,\n",
            "        1.0080, 0.9984, 1.0276, 1.0086, 1.0246, 1.0167, 1.0129, 1.0195, 1.0520,\n",
            "        1.0270, 0.9968, 1.0209, 1.0052, 1.0176, 1.0074, 1.0275, 1.0288, 1.0267,\n",
            "        1.0183, 1.0108, 0.9892, 1.0115, 1.0205, 1.0294, 1.0093, 1.0199, 0.9916,\n",
            "        1.0356, 1.0100, 0.9954, 1.0308, 1.0019, 1.0217, 1.0128, 1.0050, 1.0008,\n",
            "        1.0115, 1.0027, 1.0189, 1.0146, 1.0033, 1.0198, 1.0326, 1.0273, 1.0212,\n",
            "        0.9983, 0.9895, 0.9986, 1.0232], device='cuda:0')), ('bn5.bias', tensor([-0.0267, -0.0271, -0.0256, -0.0216, -0.0361, -0.0330, -0.0216, -0.0368,\n",
            "        -0.0310, -0.0177, -0.0273, -0.0251, -0.0307, -0.0182, -0.0145, -0.0221,\n",
            "        -0.0342, -0.0200, -0.0339, -0.0331, -0.0295, -0.0206, -0.0253, -0.0235,\n",
            "        -0.0158, -0.0196, -0.0213, -0.0272, -0.0251, -0.0227, -0.0421, -0.0340,\n",
            "        -0.0262, -0.0290, -0.0229, -0.0269, -0.0135, -0.0343, -0.0260, -0.0224,\n",
            "        -0.0368, -0.0268, -0.0209, -0.0245, -0.0264, -0.0208, -0.0277, -0.0156,\n",
            "        -0.0224, -0.0358, -0.0324, -0.0320, -0.0313, -0.0193, -0.0244, -0.0229,\n",
            "        -0.0297, -0.0322, -0.0213, -0.0195, -0.0245, -0.0283, -0.0172, -0.0278,\n",
            "        -0.0178, -0.0168, -0.0250, -0.0190, -0.0196, -0.0215, -0.0190, -0.0242,\n",
            "        -0.0238, -0.0318, -0.0304, -0.0333, -0.0262, -0.0234, -0.0227, -0.0259,\n",
            "        -0.0229, -0.0343, -0.0207, -0.0150, -0.0375, -0.0343, -0.0224, -0.0263,\n",
            "        -0.0161, -0.0209, -0.0201, -0.0386, -0.0273, -0.0192, -0.0309, -0.0291,\n",
            "        -0.0348, -0.0385, -0.0247, -0.0245, -0.0230, -0.0229, -0.0139, -0.0298,\n",
            "        -0.0350, -0.0349, -0.0276, -0.0399, -0.0171, -0.0332, -0.0170, -0.0246,\n",
            "        -0.0212, -0.0271, -0.0207, -0.0199, -0.0317, -0.0351, -0.0287, -0.0245,\n",
            "        -0.0268, -0.0340, -0.0203, -0.0181, -0.0233, -0.0201, -0.0254, -0.0248,\n",
            "        -0.0314, -0.0202, -0.0337, -0.0252, -0.0290, -0.0297, -0.0237, -0.0181,\n",
            "        -0.0200, -0.0258, -0.0284, -0.0249, -0.0264, -0.0256, -0.0270, -0.0278,\n",
            "        -0.0180, -0.0205, -0.0349, -0.0248, -0.0218, -0.0285, -0.0249, -0.0308,\n",
            "        -0.0179, -0.0180, -0.0252, -0.0231, -0.0139, -0.0228, -0.0245, -0.0159,\n",
            "        -0.0152, -0.0182, -0.0364, -0.0192, -0.0259, -0.0314, -0.0300, -0.0309,\n",
            "        -0.0273, -0.0259, -0.0208, -0.0246, -0.0304, -0.0261, -0.0323, -0.0266,\n",
            "        -0.0204, -0.0204, -0.0216, -0.0321, -0.0233, -0.0228, -0.0315, -0.0224,\n",
            "        -0.0218, -0.0164, -0.0346, -0.0233, -0.0261, -0.0154, -0.0324, -0.0233,\n",
            "        -0.0326, -0.0264, -0.0267, -0.0268, -0.0245, -0.0267, -0.0260, -0.0174,\n",
            "        -0.0401, -0.0273, -0.0152, -0.0292, -0.0194, -0.0308, -0.0382, -0.0215,\n",
            "        -0.0264, -0.0201, -0.0256, -0.0321, -0.0175, -0.0314, -0.0210, -0.0407,\n",
            "        -0.0250, -0.0373, -0.0425, -0.0202, -0.0137, -0.0228, -0.0298, -0.0187,\n",
            "        -0.0224, -0.0191, -0.0396, -0.0198, -0.0300, -0.0248, -0.0429, -0.0294,\n",
            "        -0.0251, -0.0368, -0.0222, -0.0263, -0.0325, -0.0206, -0.0196, -0.0260,\n",
            "        -0.0166, -0.0249, -0.0261, -0.0227, -0.0283, -0.0281, -0.0174, -0.0283,\n",
            "        -0.0252, -0.0282, -0.0252, -0.0267, -0.0272, -0.0251, -0.0177, -0.0242],\n",
            "       device='cuda:0')), ('bn5.running_mean', tensor([-0.2245,  0.2385,  0.0689, -0.0608,  0.0178,  0.1006,  0.1328,  0.6077,\n",
            "         0.4204,  0.1594,  0.5013, -0.1251,  0.0772, -0.1208,  0.6044,  0.4362,\n",
            "         0.5326,  0.2783,  0.5670,  0.3374,  0.2775,  0.2284,  0.1162,  0.6885,\n",
            "        -1.1558,  0.5662,  0.4228,  0.1073,  0.1829, -0.0408,  0.3379,  0.5606,\n",
            "         0.1281, -0.0481,  0.1221,  0.2653,  0.3687, -0.4053, -0.3954,  0.5051,\n",
            "         0.0706,  0.3202,  0.4155,  0.2485,  0.1301,  0.4526, -0.0765, -0.0494,\n",
            "         0.4326,  0.0308,  0.0735, -0.3491,  0.3010,  0.3146, -0.2961,  0.2087,\n",
            "        -0.0229, -0.0632, -0.2741, -0.0313,  0.2101,  0.0466, -0.5578, -0.6096,\n",
            "        -0.2663, -0.1236,  0.3355,  0.3714,  0.3754,  0.3231, -0.3304,  0.1901,\n",
            "        -0.1327, -0.1181,  0.1631,  0.3790,  0.1208,  0.0914,  0.1448,  0.0287,\n",
            "         0.5026,  0.5011,  0.0459,  0.3273,  0.0387,  0.2031,  0.7921,  0.2655,\n",
            "         0.3317,  0.0914,  0.2714,  0.5627,  0.7186, -0.0686, -0.3061,  0.2648,\n",
            "         0.1709,  0.2359,  0.4297,  0.0667,  0.2912,  0.0727,  0.2825,  0.2823,\n",
            "        -0.2515,  0.1874,  0.1449,  0.2385, -0.1886,  0.3093,  0.9416,  0.2685,\n",
            "         0.5701, -0.1910,  0.2899,  0.3180, -0.1898, -0.0585,  0.2725,  0.4601,\n",
            "         0.0072,  0.3129,  0.1637,  0.1227,  0.7776,  0.3165,  0.1205,  0.2344,\n",
            "         0.3081,  0.1467,  0.3135,  0.2236, -0.0471, -0.7508,  0.1748, -0.2558,\n",
            "        -0.3352,  0.2156, -0.1459,  0.1111,  0.2184,  0.1938,  0.8907,  0.0901,\n",
            "        -0.1361, -0.1844,  0.2450,  0.2143,  0.2243, -0.0983,  0.5184,  0.3084,\n",
            "        -0.2453,  0.6254,  0.2974,  0.4435,  0.7184, -0.3670,  0.2516, -0.9241,\n",
            "         0.0779,  0.1722,  0.0894,  0.1467,  0.4685,  0.3544,  0.3507,  0.4735,\n",
            "         0.3432,  0.0106, -0.2297,  0.0500,  0.2260,  0.4885,  0.0968,  0.4490,\n",
            "         0.4680,  0.1019, -0.0357,  0.6938, -0.0061,  0.2963, -0.2519,  0.2987,\n",
            "         0.7713,  0.2931,  0.3984,  0.0803,  0.4742,  0.5673,  0.1870, -0.7431,\n",
            "        -0.1012, -0.0324, -0.0697, -0.0094,  0.3376,  0.3692,  0.2829,  0.5846,\n",
            "         0.3369, -0.2379,  0.4214,  0.0305,  0.0646, -0.0194, -0.1144, -0.0037,\n",
            "        -0.3555,  0.3995,  0.2745,  0.1873,  0.1202,  0.1069,  0.0274,  0.3797,\n",
            "        -0.0480,  0.3552,  0.2295,  0.0537, -0.1697,  0.3085, -0.2816, -0.0353,\n",
            "         0.4178,  0.0452,  0.3582, -0.3891,  0.1073,  0.4039,  0.6634,  0.1197,\n",
            "         0.4035,  0.7291, -0.0389,  0.3379,  0.3350,  0.8501, -0.4793,  0.1406,\n",
            "         0.1392, -0.2155, -0.1427,  0.2705,  0.4420,  0.1475, -0.3867, -0.3339,\n",
            "         0.6171,  0.2806,  0.1281,  0.4545,  0.1599, -0.5057,  0.1701,  0.3228],\n",
            "       device='cuda:0')), ('bn5.running_var', tensor([0.2722, 0.1785, 0.1951, 0.2710, 0.2382, 0.2154, 0.1858, 0.2586, 0.2315,\n",
            "        0.1989, 0.2147, 0.2826, 0.2834, 0.4321, 0.1897, 0.3308, 0.1820, 0.1998,\n",
            "        0.1781, 0.2843, 0.2009, 0.2670, 0.2578, 0.2795, 0.6258, 0.1805, 0.1912,\n",
            "        0.1642, 0.3376, 0.2676, 0.2070, 0.1876, 0.2239, 0.1495, 0.1795, 0.3058,\n",
            "        0.3171, 0.5620, 0.2649, 0.2468, 0.1659, 0.2174, 0.1669, 0.2224, 0.2141,\n",
            "        0.3019, 0.3134, 0.3841, 0.1589, 0.2373, 0.1828, 0.1873, 0.3333, 0.1875,\n",
            "        0.3880, 0.1782, 0.1526, 0.2223, 0.2267, 0.2690, 0.1892, 0.3203, 0.4953,\n",
            "        0.2356, 0.2343, 0.3857, 0.2177, 0.2433, 0.2018, 0.1454, 0.3208, 0.2176,\n",
            "        0.4259, 0.2214, 0.2328, 0.2684, 0.1961, 0.3362, 0.2453, 0.2396, 0.2953,\n",
            "        0.2322, 0.1449, 0.2187, 0.1909, 0.3017, 0.1899, 0.1877, 0.2650, 0.1558,\n",
            "        0.2714, 0.2398, 0.3110, 0.2331, 0.2290, 0.1794, 0.1674, 0.2061, 0.1986,\n",
            "        0.2768, 0.1643, 0.1789, 0.1858, 0.2006, 0.2965, 0.1866, 0.2108, 0.2189,\n",
            "        0.2529, 0.1885, 0.2767, 0.2025, 0.1930, 0.2244, 0.1892, 0.3526, 0.3942,\n",
            "        0.1798, 0.1901, 0.2107, 0.2393, 0.2307, 0.2025, 0.2119, 0.3336, 0.2746,\n",
            "        0.2235, 0.2443, 0.2408, 0.1926, 0.2741, 0.2007, 0.2068, 0.7389, 0.2524,\n",
            "        0.3755, 0.5712, 0.3616, 0.2530, 0.4621, 0.2454, 0.2187, 0.2746, 0.3242,\n",
            "        0.1910, 0.1767, 0.3156, 0.1742, 0.3861, 0.1650, 0.2545, 0.2139, 0.2161,\n",
            "        0.3407, 0.2470, 0.2241, 0.2046, 0.2102, 0.2146, 0.4671, 0.2724, 0.1859,\n",
            "        0.3827, 0.3838, 0.2484, 0.1524, 0.1872, 0.2037, 0.2202, 0.2513, 0.2795,\n",
            "        0.2332, 0.2223, 0.2034, 0.1768, 0.2133, 0.3104, 0.3189, 0.2439, 0.2242,\n",
            "        0.2166, 0.2038, 0.2328, 0.2900, 0.2148, 0.2787, 0.1657, 0.1954, 0.2030,\n",
            "        0.1949, 0.1809, 0.4713, 0.1834, 0.2112, 0.2020, 0.1928, 0.2001, 0.1979,\n",
            "        0.2755, 0.1700, 0.2314, 0.2739, 0.2289, 0.1801, 0.3438, 0.1587, 0.1948,\n",
            "        0.2262, 0.3476, 0.1714, 0.2100, 0.2225, 0.1852, 0.2990, 0.1725, 0.2075,\n",
            "        0.2643, 0.2411, 0.2379, 0.2568, 0.2313, 0.2460, 0.1589, 0.2308, 0.1997,\n",
            "        0.1788, 0.2596, 0.4196, 0.3315, 0.2168, 0.1698, 0.2406, 0.2062, 0.2865,\n",
            "        0.1397, 0.2551, 0.3436, 0.1930, 0.2773, 0.1962, 0.2256, 0.2332, 0.2715,\n",
            "        0.2795, 0.1849, 0.2467, 0.2454, 0.3597, 0.2375, 0.1699, 0.1764, 0.1974,\n",
            "        0.2072, 0.3271, 0.3021, 0.2141], device='cuda:0')), ('bn5.num_batches_tracked', tensor(3750, device='cuda:0')), ('fc1.weight', tensor([[-0.0032, -0.0065, -0.0005,  ..., -0.0163, -0.0033, -0.0094],\n",
            "        [ 0.0043, -0.0031,  0.0021,  ..., -0.0075, -0.0081, -0.0038],\n",
            "        [ 0.0022,  0.0080, -0.0060,  ..., -0.0057, -0.0075, -0.0100],\n",
            "        ...,\n",
            "        [-0.0067, -0.0077, -0.0035,  ...,  0.0004,  0.0050, -0.0034],\n",
            "        [ 0.0027, -0.0023, -0.0122,  ..., -0.0059,  0.0152, -0.0118],\n",
            "        [ 0.0090,  0.0040,  0.0054,  ...,  0.0017, -0.0064,  0.0076]],\n",
            "       device='cuda:0')), ('fc1.bias', tensor([ 2.6466e-03,  2.6317e-04, -5.2202e-03, -1.8369e-03, -8.9993e-03,\n",
            "         8.3203e-04, -8.9958e-03,  8.2927e-04, -4.4737e-03, -1.3267e-04,\n",
            "        -2.8738e-04, -5.5771e-03,  4.8628e-04,  1.5996e-03, -1.4689e-03,\n",
            "        -6.8894e-03,  2.2055e-03,  3.6704e-03, -3.6407e-03,  3.1301e-03,\n",
            "        -6.9829e-03,  1.2250e-03, -3.0727e-03,  3.5633e-03, -6.5997e-03,\n",
            "        -3.4099e-03, -4.0568e-03, -1.9300e-03, -1.0886e-03, -1.3383e-04,\n",
            "         3.5987e-03,  3.4212e-03, -2.4799e-03, -6.2564e-03,  7.2120e-03,\n",
            "         1.4190e-03,  1.6235e-04,  3.7766e-04,  1.3854e-03, -7.5472e-04,\n",
            "         1.5131e-03, -2.1504e-03, -7.0621e-04, -1.2152e-03,  1.7832e-03,\n",
            "         3.4089e-04,  7.2173e-04,  3.8362e-04, -3.7089e-03, -9.5569e-05,\n",
            "         3.5195e-03, -9.4440e-03, -3.5974e-03,  3.4044e-03, -4.0024e-03,\n",
            "         2.6316e-03,  1.4516e-03, -4.7490e-03, -4.9509e-03, -5.2464e-03,\n",
            "        -1.2762e-03, -5.4841e-03, -5.9055e-04,  8.6522e-03], device='cuda:0')), ('fc2.weight', tensor([[-0.0511, -0.0698,  0.1049,  0.0721,  0.0290, -0.1393,  0.0152, -0.1274,\n",
            "         -0.0939,  0.0553, -0.0652,  0.0120,  0.0828, -0.1120,  0.1012, -0.0675,\n",
            "          0.0903,  0.0113, -0.1419, -0.1274, -0.1120, -0.0742,  0.1101, -0.0704,\n",
            "         -0.0076, -0.0710,  0.0860, -0.1372, -0.0073,  0.0444,  0.0031, -0.0834,\n",
            "          0.1402, -0.0957,  0.0082, -0.1418, -0.0380, -0.0887,  0.1068, -0.1242,\n",
            "         -0.0957, -0.0328,  0.0803, -0.0037, -0.0748, -0.0302, -0.0323, -0.1104,\n",
            "          0.0939, -0.1057,  0.1167, -0.0828,  0.1139, -0.0551, -0.0953,  0.0872,\n",
            "          0.0559, -0.0134, -0.0915, -0.0286, -0.0364, -0.1070,  0.0160, -0.0263],\n",
            "        [-0.1164, -0.0266, -0.0569, -0.0665, -0.1425,  0.0558,  0.0750, -0.1274,\n",
            "         -0.0574,  0.0454,  0.0027, -0.1040, -0.0673,  0.0095,  0.0097, -0.0041,\n",
            "          0.0738, -0.0818, -0.0775, -0.1273,  0.0610,  0.0210, -0.0998, -0.1216,\n",
            "         -0.0608,  0.1279, -0.1076, -0.0917, -0.0781,  0.0019, -0.1514,  0.0565,\n",
            "         -0.1396,  0.0150,  0.1165,  0.0827, -0.0419, -0.0195, -0.0304,  0.0688,\n",
            "          0.1132,  0.0911,  0.1292,  0.0432,  0.0384, -0.0287, -0.0442,  0.0478,\n",
            "         -0.0853,  0.0856,  0.0042,  0.0189, -0.0939,  0.1024, -0.0149, -0.0985,\n",
            "          0.0202, -0.0763,  0.0695,  0.0412,  0.0093, -0.0766, -0.0903,  0.0624],\n",
            "        [-0.0596, -0.0228,  0.1449,  0.0554,  0.0786, -0.1596,  0.1357, -0.1049,\n",
            "         -0.0808,  0.0003,  0.0016,  0.0334, -0.0041,  0.0154,  0.1133,  0.0178,\n",
            "         -0.0025, -0.1137,  0.0414,  0.0587,  0.0730, -0.0623,  0.1158,  0.0935,\n",
            "         -0.0889, -0.0797, -0.0007,  0.0020,  0.0825,  0.0041, -0.0826,  0.0616,\n",
            "         -0.0379,  0.1065, -0.1235, -0.0843,  0.1006, -0.0611, -0.0039, -0.0830,\n",
            "          0.1151, -0.0499,  0.0499,  0.0830,  0.0217,  0.0391,  0.0591, -0.0681,\n",
            "         -0.1198,  0.0234, -0.0667,  0.1031,  0.0812,  0.1478,  0.0918, -0.0244,\n",
            "         -0.0190,  0.0545,  0.0986, -0.0359, -0.0948, -0.0711,  0.0853, -0.0304],\n",
            "        [ 0.1316, -0.0972, -0.0769, -0.0261,  0.0463,  0.0410, -0.0337, -0.0609,\n",
            "          0.0298,  0.0897, -0.1209, -0.0714,  0.0279, -0.0255, -0.0833, -0.0063,\n",
            "          0.1312,  0.0995,  0.0620,  0.0584, -0.0484,  0.1161, -0.0100, -0.0551,\n",
            "          0.0237,  0.1013,  0.1249, -0.0537,  0.0846, -0.0036,  0.0741, -0.1168,\n",
            "         -0.0854, -0.1094, -0.0758,  0.1218, -0.0576, -0.0847, -0.0414,  0.0973,\n",
            "          0.0022, -0.0633, -0.0071,  0.0704,  0.0588,  0.1416,  0.0024,  0.0370,\n",
            "          0.1187,  0.0416, -0.0524, -0.0983, -0.0701,  0.0802,  0.1199,  0.1148,\n",
            "          0.1124, -0.0307,  0.0910, -0.0150, -0.1111,  0.1230, -0.0662, -0.0231],\n",
            "        [-0.0225,  0.0514,  0.0764,  0.0915,  0.1128,  0.0104,  0.0030,  0.0636,\n",
            "          0.0657, -0.0989, -0.0322, -0.0028,  0.0550, -0.1643, -0.0768,  0.0836,\n",
            "          0.0203,  0.0275,  0.0660, -0.0303,  0.0201,  0.0207,  0.1147, -0.0328,\n",
            "         -0.0338, -0.1143, -0.0980,  0.1297, -0.1164, -0.1470,  0.0646, -0.1238,\n",
            "         -0.0608, -0.0473,  0.0481,  0.0195, -0.0117, -0.0077, -0.0026, -0.0330,\n",
            "         -0.0131,  0.0229,  0.1051, -0.0632, -0.0211,  0.0843, -0.0233, -0.0279,\n",
            "          0.0764,  0.0044,  0.0706,  0.1069,  0.0990, -0.0946,  0.0738, -0.0580,\n",
            "         -0.1165, -0.0422, -0.1307, -0.0468,  0.0598,  0.0790, -0.1078, -0.0412],\n",
            "        [-0.0199, -0.0277,  0.0532, -0.0735, -0.0804, -0.1543, -0.1142, -0.0233,\n",
            "         -0.0336, -0.0465,  0.1025, -0.1231,  0.0087,  0.0552,  0.1165,  0.0135,\n",
            "          0.0414, -0.1253,  0.0141,  0.0875, -0.0763, -0.0398,  0.1191,  0.1383,\n",
            "          0.0106,  0.0848, -0.0400,  0.1146, -0.0917,  0.0388,  0.0019, -0.0493,\n",
            "          0.0886,  0.0653,  0.0791, -0.0467, -0.0346,  0.0095, -0.0403, -0.1152,\n",
            "          0.1142, -0.0239, -0.0838, -0.0616, -0.1038,  0.0834, -0.0733,  0.1145,\n",
            "          0.0841, -0.1195, -0.1274,  0.0558, -0.0185,  0.0014, -0.0635, -0.0732,\n",
            "          0.0434, -0.0114, -0.0485,  0.0129, -0.1412,  0.1355,  0.0239, -0.0942],\n",
            "        [-0.0055, -0.0566, -0.1375, -0.1120,  0.0801, -0.0579,  0.0257, -0.0415,\n",
            "         -0.0889,  0.0854, -0.0779,  0.1098, -0.1087, -0.0551,  0.0226, -0.0752,\n",
            "          0.1192,  0.1210, -0.0520,  0.0683, -0.0851,  0.0918, -0.0664,  0.0711,\n",
            "          0.0706, -0.1013,  0.1338,  0.0035,  0.0404,  0.0423, -0.1336, -0.0864,\n",
            "         -0.1292,  0.0293,  0.0289, -0.0313,  0.0122,  0.0693,  0.0622,  0.0284,\n",
            "         -0.1047,  0.0155, -0.1331, -0.1223, -0.0334,  0.0362, -0.0472,  0.0239,\n",
            "         -0.0797,  0.0350,  0.0675, -0.1065, -0.0680, -0.0444,  0.1191,  0.0604,\n",
            "          0.1372,  0.0714, -0.0998, -0.1073,  0.0490,  0.0374, -0.1190,  0.1136],\n",
            "        [ 0.0408,  0.1204,  0.1190,  0.0071,  0.0560,  0.0330, -0.0959, -0.0377,\n",
            "         -0.1127,  0.0074,  0.0151, -0.0506,  0.0895,  0.0706, -0.1082, -0.0602,\n",
            "         -0.0386, -0.0967, -0.1494, -0.1481, -0.0974, -0.1135, -0.0191,  0.1084,\n",
            "          0.0853,  0.0375,  0.0433,  0.1201, -0.0128,  0.0214, -0.1135, -0.0832,\n",
            "         -0.1115, -0.0733,  0.0639, -0.0064,  0.0086, -0.0137, -0.1079,  0.0530,\n",
            "         -0.0487, -0.0373,  0.0964, -0.1022,  0.1079,  0.1222, -0.0837,  0.0095,\n",
            "          0.0692,  0.1100,  0.1209, -0.0070,  0.1220,  0.1010,  0.0575,  0.0407,\n",
            "          0.0944, -0.0510,  0.0435, -0.1037, -0.0188, -0.0034, -0.1632, -0.0398],\n",
            "        [-0.1222,  0.1256, -0.1233,  0.0076,  0.0415,  0.1587,  0.0957, -0.0474,\n",
            "         -0.0730, -0.1630,  0.0405, -0.0544, -0.0018, -0.0250, -0.0548, -0.0153,\n",
            "         -0.1084, -0.1413, -0.1400,  0.0975,  0.0612, -0.0468, -0.1345,  0.0134,\n",
            "          0.0861, -0.1016, -0.0473, -0.0806, -0.0417, -0.0576,  0.0063, -0.0574,\n",
            "         -0.0225,  0.0998, -0.0687,  0.0531, -0.0164,  0.0741,  0.0906, -0.1047,\n",
            "         -0.1254,  0.0999, -0.0493, -0.0724, -0.1133, -0.0007, -0.0477,  0.1146,\n",
            "         -0.0481, -0.1138,  0.0061,  0.1060, -0.0755, -0.0504,  0.1200,  0.1008,\n",
            "          0.0771,  0.0034, -0.0638,  0.0014, -0.0179,  0.0587,  0.1261,  0.0262],\n",
            "        [ 0.0621, -0.1529, -0.0963,  0.0300,  0.0374, -0.0437,  0.0039, -0.0756,\n",
            "          0.0589, -0.0292,  0.0729, -0.0924, -0.0573, -0.0707, -0.1044, -0.0655,\n",
            "         -0.1275, -0.0040,  0.0150, -0.0052, -0.0338, -0.0607, -0.1626, -0.0192,\n",
            "         -0.1064, -0.0279, -0.0848,  0.0168, -0.0872,  0.0486, -0.0660,  0.0357,\n",
            "          0.0167, -0.0884, -0.0812, -0.1416, -0.0487,  0.0346,  0.0353, -0.0850,\n",
            "          0.0693, -0.0337,  0.0111, -0.1104,  0.0399, -0.1416, -0.0751, -0.0039,\n",
            "         -0.1150, -0.0741, -0.0855,  0.0137,  0.1135, -0.0258, -0.1593,  0.1001,\n",
            "         -0.0677,  0.0874,  0.0372, -0.0803,  0.0957,  0.0289, -0.0643,  0.0765]],\n",
            "       device='cuda:0')), ('fc2.bias', tensor([-0.0150,  0.0492,  0.0753,  0.0055,  0.0742, -0.0627, -0.0673, -0.0961,\n",
            "        -0.0347,  0.1136], device='cuda:0'))])\n"
          ]
        }
      ]
    },
    {
      "cell_type": "code",
      "execution_count": null,
      "id": "703c4d76",
      "metadata": {
        "execution": {
          "iopub.execute_input": "2023-04-07T11:50:32.649484Z",
          "iopub.status.busy": "2023-04-07T11:50:32.649023Z",
          "iopub.status.idle": "2023-04-07T11:50:52.669256Z",
          "shell.execute_reply": "2023-04-07T11:50:52.667908Z"
        },
        "papermill": {
          "duration": 20.037041,
          "end_time": "2023-04-07T11:50:52.672195",
          "exception": false,
          "start_time": "2023-04-07T11:50:32.635154",
          "status": "completed"
        },
        "tags": [],
        "id": "703c4d76",
        "outputId": "591c13b8-4a6d-4ede-fb72-f2f5352edfd9"
      },
      "outputs": [
        {
          "name": "stdout",
          "output_type": "stream",
          "text": [
            "\u001b[34m\u001b[1mwandb\u001b[0m: Appending key for api.wandb.ai to your netrc file: /home/vplab/.netrc\r\n"
          ]
        }
      ],
      "source": [
        "from signal import signal,SIGPIPE, SIG_DFL\n",
        "signal(SIGPIPE,SIG_DFL)\n",
        "!pip install wandb -qU\n",
        "import wandb\n",
        "!wandb login --relogin da816d14625ef44d200ee4acaa517646962e6f9a"
      ]
    },
    {
      "cell_type": "code",
      "execution_count": null,
      "id": "be445fb4",
      "metadata": {
        "execution": {
          "iopub.execute_input": "2023-04-07T11:50:52.695381Z",
          "iopub.status.busy": "2023-04-07T11:50:52.695007Z",
          "iopub.status.idle": "2023-04-07T11:50:52.715754Z",
          "shell.execute_reply": "2023-04-07T11:50:52.714604Z"
        },
        "papermill": {
          "duration": 0.033186,
          "end_time": "2023-04-07T11:50:52.717717",
          "exception": false,
          "start_time": "2023-04-07T11:50:52.684531",
          "status": "completed"
        },
        "tags": [],
        "id": "be445fb4"
      },
      "outputs": [],
      "source": [
        "\n",
        "sweep_config = {\n",
        "    \"name\" : \"CS6910_Assignment_2_Q2\",\n",
        "    \"method\" : \"bayes\",\n",
        "    'metric': {\n",
        "        'name': 'val_acc',\n",
        "        'goal': 'maximize'\n",
        "    },\n",
        "    \"parameters\" : {\n",
        "        \"optimizer\" : {\n",
        "            \"values\" : ['adam','nadam','sgd']\n",
        "        },\n",
        "        \"activation\" : {\n",
        "            \"values\" : ['LeakyRelu','Selu','Gelu','Mish']\n",
        "        },\n",
        "        \"batch_size\": {\n",
        "            \"values\": [32, 64, 128]\n",
        "        },\n",
        "        'learning_rate':{\n",
        "            \"values\": [0.001,0.0001,0.0003,0.0005]\n",
        "        },\n",
        "        \"dropout\": {\n",
        "            \"values\": [0,0.2,0.3]\n",
        "        },\n",
        "        \"batch_norm\": {\n",
        "              \"values\": [True,False]\n",
        "        },\n",
        "        \"data_aug\": {\n",
        "              \"values\": [True,False]\n",
        "        },\n",
        "        'kernel_sizes':{\n",
        "            'values': [[3,3,3,3,3],[5,5,5,5,5],[7,5,5,3,3], [11,9,7,5,3]]\n",
        "        },\n",
        "        'filter_multiplier': {\n",
        "            'values': [1, 2, 0.5]\n",
        "        },\n",
        "        'num_filters': {\n",
        "            'values': [4,8,16]\n",
        "        },\n",
        "        \"fc_neurons\": {\n",
        "              \"values\": [32, 64, 128]\n",
        "          }        \n",
        "    }\n",
        "}\n",
        "def opti(model,opt='adam',lr=0.0005):\n",
        "    print(\"in opti\")\n",
        "    if opt == \"sgd\":\n",
        "        opt= optim.SGD(model.parameters(), lr=lr, momentum=0.9)\n",
        "    elif opt == \"adam\":\n",
        "        opt = optim.Adam(model.parameters(),lr=lr,weight_decay=0.0001)\n",
        "    elif opt == \"nadam\":\n",
        "        opt = optim.NAdam(model.parameters(),lr=lr,weight_decay=0.0001)\n",
        "    print('exit opti')    \n",
        "    return opt\n",
        "\n",
        "def calculate_accuracy(model, test_loader,criterion):\n",
        "    model.eval()\n",
        "    total = 0\n",
        "    correct = 0\n",
        "    cost=0\n",
        "    acc=0\n",
        "    with torch.no_grad():\n",
        "        for images, labels in test_loader:\n",
        "            images = images.to(device)\n",
        "            labels = labels.to(device)\n",
        "\n",
        "            outputs = model(images)\n",
        "            cost +=criterion(outputs,labels).item()\n",
        "            _, predicted = torch.max(outputs.data, 1)\n",
        "            total += labels.size(0)\n",
        "            correct += (predicted == labels).sum().item()\n",
        "            del images\n",
        "            del labels\n",
        "    acc=100 * correct / total\n",
        "    cost/=len(test_loader)\n",
        "        \n",
        "    return cost,acc\n",
        "def train():\n",
        "    config_default={\n",
        "      'epochs':15,\n",
        "      'batch_size':32,\n",
        "      'learning_rate':0.001,\n",
        "      'dropout':0.3,\n",
        "      'batch_norm':True,\n",
        "      'data_aug':True,\n",
        "      'kernel_sizes':[5,5,5,5,5],\n",
        "      'filter_multiplier': 2,\n",
        "      'num_filters': 16,\n",
        "      \"fc_neurons\": 64\n",
        "  }\n",
        "    wandb.init(config=config_default)\n",
        "    c= wandb.config\n",
        "    name = \"nfliter_\"+str(c.num_filters)+\"op_\"+str(c.optimizer)+\"_ac_\"+str(c.activation)+\"_n_\"+str(c.learning_rate)+\"_bs_\"+str(c.batch_size)+\"_dp_\"+str(c.dropout)+\"_bn_\"+str(c.batch_norm)\n",
        "\n",
        "    wandb.init(name=name)\n",
        "\n",
        "    # Retrieve the hyperparameters from the config\n",
        "    lr = c.learning_rate\n",
        "    bs = c.batch_size\n",
        "    epochs = 15\n",
        "    act= c.activation\n",
        "    opt= c.optimizer\n",
        "\n",
        "    dp = c.dropout\n",
        "    bn = c.batch_norm\n",
        "    da=c.data_aug\n",
        "    ks=c.kernel_sizes\n",
        "    fm=c.filter_multiplier\n",
        "    nf=c.num_filters\n",
        "    fc=c.fc_neurons\n",
        "\n",
        "\n",
        "    # Load the dataset\n",
        "    train_loader,val_loader,test_loader,classes=load_data(bs,da)\n",
        "    \n",
        "    print(\"data loaded ====================================================\")\n",
        "\n",
        "    # Initialize network\n",
        "    model= CNN(in_channels=3, num_class=10,num_filters=nf,kernel_sizes=ks,fc_neurons=fc,batch_norm=bn,dropout=dp,filter_multiplier=fm,activation=act).to(device)\n",
        "    print(\"model ini==============================================================\")\n",
        "    # Loss and optimizer\n",
        "    criterion = nn.CrossEntropyLoss()\n",
        "    optimizer=opti(model,opt,lr)\n",
        "    print(\"done\")\n",
        "    # Train Network\n",
        "    for epoch in range(epochs):\n",
        "        print('epoch enter')\n",
        "        # Set the model to training mode\n",
        "        model.train()\n",
        "\n",
        "        for batch_idx, (data, targets) in enumerate(train_loader):\n",
        "            # Get data to cuda if possible\n",
        "            data = data.to(device)\n",
        "            targets = targets.to(device)\n",
        "\n",
        "            optimizer.zero_grad()\n",
        "            # forward\n",
        "            scores = model(data)\n",
        "            loss = criterion(scores, targets)\n",
        "\n",
        "            # backward\n",
        "\n",
        "            loss.backward()\n",
        "\n",
        "            # gradient descent or adam step\n",
        "            optimizer.step()  \n",
        "            del data\n",
        "            del targets\n",
        "            \n",
        "        # Calculate the test accuracy\n",
        "        train_loss,train_acc = calculate_accuracy(model, train_loader,criterion)\n",
        "        val_loss,val_acc = calculate_accuracy(model, val_loader,criterion)\n",
        "        test_loss,test_acc = calculate_accuracy(model, test_loader,criterion)\n",
        "\n",
        "        torch.cuda.empty_cache()\n",
        "        # Log the metrics to WandB\n",
        "        wandb.log({'epoch': epoch+1,'loss':loss.item(), 'train_loss': loss.item(),'test_loss':test_loss,'val_loss':val_loss,'test_acc': test_acc,'train_acc': train_acc,'val_acc': val_acc})\n",
        "\n",
        "\n",
        "    # Save the best model\n",
        "    wandb.save('model.h5')\n",
        "    return\n"
      ]
    },
    {
      "cell_type": "code",
      "execution_count": null,
      "id": "47928aa2",
      "metadata": {
        "execution": {
          "iopub.execute_input": "2023-04-07T11:50:52.735356Z",
          "iopub.status.busy": "2023-04-07T11:50:52.735029Z",
          "iopub.status.idle": "2023-04-07T17:11:27.821419Z",
          "shell.execute_reply": "2023-04-07T17:11:27.820420Z"
        },
        "papermill": {
          "duration": 19235.097974,
          "end_time": "2023-04-07T17:11:27.823909",
          "exception": false,
          "start_time": "2023-04-07T11:50:52.725935",
          "status": "completed"
        },
        "tags": [],
        "colab": {
          "referenced_widgets": [
            "c7bd137947b644aa803179b594889af0",
            "a575e8b87072431a8726e36709cdc5f7",
            "88588f4456cd415280de27a04a8854ea",
            "2b093995e24f47f5bca1f4116afa317b",
            "d4743985d3cf4512bfb86b303a142b65",
            "59c470379ac84be7b223b8983b561761",
            "7b153c8a7ac74953a8fab6502e3a7d9a",
            "316b2a9d048649a19e886c1943632389"
          ]
        },
        "id": "47928aa2",
        "outputId": "1d1214d6-151a-42b6-e5fe-145cc3f6d323"
      },
      "outputs": [
        {
          "name": "stdout",
          "output_type": "stream",
          "text": [
            "Create sweep with ID: 9y3gr37b\n",
            "Sweep URL: https://wandb.ai/cs22s015/CS6910_Assignment_2_Q2/sweeps/9y3gr37b\n"
          ]
        },
        {
          "name": "stderr",
          "output_type": "stream",
          "text": [
            "\u001b[34m\u001b[1mwandb\u001b[0m: Agent Starting Run: ek21vk8h with config:\n",
            "\u001b[34m\u001b[1mwandb\u001b[0m: \tactivation: LeakyRelu\n",
            "\u001b[34m\u001b[1mwandb\u001b[0m: \tbatch_norm: True\n",
            "\u001b[34m\u001b[1mwandb\u001b[0m: \tbatch_size: 128\n",
            "\u001b[34m\u001b[1mwandb\u001b[0m: \tdata_aug: True\n",
            "\u001b[34m\u001b[1mwandb\u001b[0m: \tdropout: 0\n",
            "\u001b[34m\u001b[1mwandb\u001b[0m: \tfc_neurons: 64\n",
            "\u001b[34m\u001b[1mwandb\u001b[0m: \tfilter_multiplier: 1\n",
            "\u001b[34m\u001b[1mwandb\u001b[0m: \tkernel_sizes: [3, 3, 3, 3, 3]\n",
            "\u001b[34m\u001b[1mwandb\u001b[0m: \tlearning_rate: 0.0001\n",
            "\u001b[34m\u001b[1mwandb\u001b[0m: \tnum_filters: 16\n",
            "\u001b[34m\u001b[1mwandb\u001b[0m: \toptimizer: nadam\n"
          ]
        },
        {
          "data": {
            "text/html": [
              "Tracking run with wandb version 0.14.2"
            ],
            "text/plain": [
              "<IPython.core.display.HTML object>"
            ]
          },
          "metadata": {},
          "output_type": "display_data"
        },
        {
          "data": {
            "text/html": [
              "Run data is saved locally in <code>/home/vplab/Anushka/Dl/wandb/run-20230410_172357-ek21vk8h</code>"
            ],
            "text/plain": [
              "<IPython.core.display.HTML object>"
            ]
          },
          "metadata": {},
          "output_type": "display_data"
        },
        {
          "data": {
            "text/html": [
              "Syncing run <strong><a href='https://wandb.ai/cs22s015/CS6910_Assignment_2_Q2/runs/ek21vk8h' target=\"_blank\">electric-sweep-1</a></strong> to <a href='https://wandb.ai/cs22s015/CS6910_Assignment_2_Q2' target=\"_blank\">Weights & Biases</a> (<a href='https://wandb.me/run' target=\"_blank\">docs</a>)<br/>Sweep page: <a href='https://wandb.ai/cs22s015/CS6910_Assignment_2_Q2/sweeps/9y3gr37b' target=\"_blank\">https://wandb.ai/cs22s015/CS6910_Assignment_2_Q2/sweeps/9y3gr37b</a>"
            ],
            "text/plain": [
              "<IPython.core.display.HTML object>"
            ]
          },
          "metadata": {},
          "output_type": "display_data"
        },
        {
          "data": {
            "text/html": [
              " View project at <a href='https://wandb.ai/cs22s015/CS6910_Assignment_2_Q2' target=\"_blank\">https://wandb.ai/cs22s015/CS6910_Assignment_2_Q2</a>"
            ],
            "text/plain": [
              "<IPython.core.display.HTML object>"
            ]
          },
          "metadata": {},
          "output_type": "display_data"
        },
        {
          "data": {
            "text/html": [
              " View sweep at <a href='https://wandb.ai/cs22s015/CS6910_Assignment_2_Q2/sweeps/9y3gr37b' target=\"_blank\">https://wandb.ai/cs22s015/CS6910_Assignment_2_Q2/sweeps/9y3gr37b</a>"
            ],
            "text/plain": [
              "<IPython.core.display.HTML object>"
            ]
          },
          "metadata": {},
          "output_type": "display_data"
        },
        {
          "data": {
            "text/html": [
              " View run at <a href='https://wandb.ai/cs22s015/CS6910_Assignment_2_Q2/runs/ek21vk8h' target=\"_blank\">https://wandb.ai/cs22s015/CS6910_Assignment_2_Q2/runs/ek21vk8h</a>"
            ],
            "text/plain": [
              "<IPython.core.display.HTML object>"
            ]
          },
          "metadata": {},
          "output_type": "display_data"
        },
        {
          "data": {
            "text/html": [
              "Finishing last run (ID:ek21vk8h) before initializing another..."
            ],
            "text/plain": [
              "<IPython.core.display.HTML object>"
            ]
          },
          "metadata": {},
          "output_type": "display_data"
        },
        {
          "data": {
            "text/html": [
              "Waiting for W&B process to finish... <strong style=\"color:green\">(success).</strong>"
            ],
            "text/plain": [
              "<IPython.core.display.HTML object>"
            ]
          },
          "metadata": {},
          "output_type": "display_data"
        },
        {
          "data": {
            "application/vnd.jupyter.widget-view+json": {
              "model_id": "c7bd137947b644aa803179b594889af0",
              "version_major": 2,
              "version_minor": 0
            },
            "text/plain": [
              "VBox(children=(Label(value='0.002 MB of 0.005 MB uploaded (0.000 MB deduped)\\r'), FloatProgress(value=0.372850…"
            ]
          },
          "metadata": {},
          "output_type": "display_data"
        },
        {
          "data": {
            "text/html": [
              " View run <strong style=\"color:#cdcd00\">electric-sweep-1</strong> at: <a href='https://wandb.ai/cs22s015/CS6910_Assignment_2_Q2/runs/ek21vk8h' target=\"_blank\">https://wandb.ai/cs22s015/CS6910_Assignment_2_Q2/runs/ek21vk8h</a><br/>Synced 4 W&B file(s), 0 media file(s), 0 artifact file(s) and 0 other file(s)"
            ],
            "text/plain": [
              "<IPython.core.display.HTML object>"
            ]
          },
          "metadata": {},
          "output_type": "display_data"
        },
        {
          "data": {
            "text/html": [
              "Find logs at: <code>./wandb/run-20230410_172357-ek21vk8h/logs</code>"
            ],
            "text/plain": [
              "<IPython.core.display.HTML object>"
            ]
          },
          "metadata": {},
          "output_type": "display_data"
        },
        {
          "data": {
            "text/html": [
              "Successfully finished last run (ID:ek21vk8h). Initializing new run:<br/>"
            ],
            "text/plain": [
              "<IPython.core.display.HTML object>"
            ]
          },
          "metadata": {},
          "output_type": "display_data"
        },
        {
          "data": {
            "text/html": [
              "Tracking run with wandb version 0.14.2"
            ],
            "text/plain": [
              "<IPython.core.display.HTML object>"
            ]
          },
          "metadata": {},
          "output_type": "display_data"
        },
        {
          "data": {
            "text/html": [
              "Run data is saved locally in <code>/home/vplab/Anushka/Dl/wandb/run-20230410_172358-ek21vk8h</code>"
            ],
            "text/plain": [
              "<IPython.core.display.HTML object>"
            ]
          },
          "metadata": {},
          "output_type": "display_data"
        },
        {
          "data": {
            "text/html": [
              "Syncing run <strong><a href='https://wandb.ai/cs22s015/CS6910_Assignment_2_Q2/runs/ek21vk8h' target=\"_blank\">nfliter_16op_nadam_ac_LeakyRelu_n_0.0001_bs_128_dp_0_bn_True</a></strong> to <a href='https://wandb.ai/cs22s015/CS6910_Assignment_2_Q2' target=\"_blank\">Weights & Biases</a> (<a href='https://wandb.me/run' target=\"_blank\">docs</a>)<br/>Sweep page: <a href='https://wandb.ai/cs22s015/CS6910_Assignment_2_Q2/sweeps/9y3gr37b' target=\"_blank\">https://wandb.ai/cs22s015/CS6910_Assignment_2_Q2/sweeps/9y3gr37b</a>"
            ],
            "text/plain": [
              "<IPython.core.display.HTML object>"
            ]
          },
          "metadata": {},
          "output_type": "display_data"
        },
        {
          "data": {
            "text/html": [
              " View project at <a href='https://wandb.ai/cs22s015/CS6910_Assignment_2_Q2' target=\"_blank\">https://wandb.ai/cs22s015/CS6910_Assignment_2_Q2</a>"
            ],
            "text/plain": [
              "<IPython.core.display.HTML object>"
            ]
          },
          "metadata": {},
          "output_type": "display_data"
        },
        {
          "data": {
            "text/html": [
              " View sweep at <a href='https://wandb.ai/cs22s015/CS6910_Assignment_2_Q2/sweeps/9y3gr37b' target=\"_blank\">https://wandb.ai/cs22s015/CS6910_Assignment_2_Q2/sweeps/9y3gr37b</a>"
            ],
            "text/plain": [
              "<IPython.core.display.HTML object>"
            ]
          },
          "metadata": {},
          "output_type": "display_data"
        },
        {
          "data": {
            "text/html": [
              " View run at <a href='https://wandb.ai/cs22s015/CS6910_Assignment_2_Q2/runs/ek21vk8h' target=\"_blank\">https://wandb.ai/cs22s015/CS6910_Assignment_2_Q2/runs/ek21vk8h</a>"
            ],
            "text/plain": [
              "<IPython.core.display.HTML object>"
            ]
          },
          "metadata": {},
          "output_type": "display_data"
        },
        {
          "name": "stdout",
          "output_type": "stream",
          "text": [
            "7999\n",
            "2000\n",
            "data loaded ====================================================\n",
            "ok pool5\n",
            "r 300\n",
            "r 151\n",
            "r 76\n",
            "r 39\n",
            "r 20\n",
            "ok flatten\n",
            "11\n",
            "model ini==============================================================\n",
            "in opti\n",
            "exit opti\n",
            "done\n",
            "epoch enter\n",
            "epoch enter\n",
            "epoch enter\n",
            "epoch enter\n",
            "epoch enter\n",
            "epoch enter\n",
            "epoch enter\n",
            "epoch enter\n",
            "epoch enter\n",
            "epoch enter\n",
            "epoch enter\n",
            "epoch enter\n",
            "epoch enter\n",
            "epoch enter\n",
            "epoch enter\n"
          ]
        },
        {
          "data": {
            "text/html": [
              "Waiting for W&B process to finish... <strong style=\"color:green\">(success).</strong>"
            ],
            "text/plain": [
              "<IPython.core.display.HTML object>"
            ]
          },
          "metadata": {},
          "output_type": "display_data"
        },
        {
          "data": {
            "application/vnd.jupyter.widget-view+json": {
              "model_id": "a575e8b87072431a8726e36709cdc5f7",
              "version_major": 2,
              "version_minor": 0
            },
            "text/plain": [
              "VBox(children=(Label(value='0.002 MB of 0.006 MB uploaded (0.000 MB deduped)\\r'), FloatProgress(value=0.332515…"
            ]
          },
          "metadata": {},
          "output_type": "display_data"
        },
        {
          "data": {
            "text/html": [
              "<style>\n",
              "    table.wandb td:nth-child(1) { padding: 0 10px; text-align: left ; width: auto;} td:nth-child(2) {text-align: left ; width: 100%}\n",
              "    .wandb-row { display: flex; flex-direction: row; flex-wrap: wrap; justify-content: flex-start; width: 100% }\n",
              "    .wandb-col { display: flex; flex-direction: column; flex-basis: 100%; flex: 1; padding: 10px; }\n",
              "    </style>\n",
              "<div class=\"wandb-row\"><div class=\"wandb-col\"><h3>Run history:</h3><br/><table class=\"wandb\"><tr><td>epoch</td><td>▁▁▂▃▃▃▄▅▅▅▆▇▇▇█</td></tr><tr><td>loss</td><td>█▄▃▅▅▅▃▂▁▇▄▁▄▂▂</td></tr><tr><td>test_acc</td><td>▁▃▄▄▅▆▆▇▇▇█████</td></tr><tr><td>test_loss</td><td>█▆▅▄▃▃▂▂▂▂▂▁▁▁▁</td></tr><tr><td>train_acc</td><td>▁▂▄▄▅▆▆▇▆▇▇▇▇██</td></tr><tr><td>train_loss</td><td>█▄▃▅▅▅▃▂▁▇▄▁▄▂▂</td></tr><tr><td>val_acc</td><td>▁▃▄▅▅▆▆▆▆▆▆▇███</td></tr><tr><td>val_loss</td><td>█▆▅▄▄▃▂▂▃▂▂▂▁▁▁</td></tr></table><br/></div><div class=\"wandb-col\"><h3>Run summary:</h3><br/><table class=\"wandb\"><tr><td>epoch</td><td>15</td></tr><tr><td>loss</td><td>1.71352</td></tr><tr><td>test_acc</td><td>36.55</td></tr><tr><td>test_loss</td><td>1.82346</td></tr><tr><td>train_acc</td><td>39.02988</td></tr><tr><td>train_loss</td><td>1.71352</td></tr><tr><td>val_acc</td><td>35.2</td></tr><tr><td>val_loss</td><td>1.88053</td></tr></table><br/></div></div>"
            ],
            "text/plain": [
              "<IPython.core.display.HTML object>"
            ]
          },
          "metadata": {},
          "output_type": "display_data"
        },
        {
          "data": {
            "text/html": [
              " View run <strong style=\"color:#cdcd00\">nfliter_16op_nadam_ac_LeakyRelu_n_0.0001_bs_128_dp_0_bn_True</strong> at: <a href='https://wandb.ai/cs22s015/CS6910_Assignment_2_Q2/runs/ek21vk8h' target=\"_blank\">https://wandb.ai/cs22s015/CS6910_Assignment_2_Q2/runs/ek21vk8h</a><br/>Synced 5 W&B file(s), 0 media file(s), 0 artifact file(s) and 0 other file(s)"
            ],
            "text/plain": [
              "<IPython.core.display.HTML object>"
            ]
          },
          "metadata": {},
          "output_type": "display_data"
        },
        {
          "data": {
            "text/html": [
              "Find logs at: <code>./wandb/run-20230410_172358-ek21vk8h/logs</code>"
            ],
            "text/plain": [
              "<IPython.core.display.HTML object>"
            ]
          },
          "metadata": {},
          "output_type": "display_data"
        },
        {
          "name": "stderr",
          "output_type": "stream",
          "text": [
            "\u001b[34m\u001b[1mwandb\u001b[0m: Agent Starting Run: rw0b5n9l with config:\n",
            "\u001b[34m\u001b[1mwandb\u001b[0m: \tactivation: Mish\n",
            "\u001b[34m\u001b[1mwandb\u001b[0m: \tbatch_norm: True\n",
            "\u001b[34m\u001b[1mwandb\u001b[0m: \tbatch_size: 64\n",
            "\u001b[34m\u001b[1mwandb\u001b[0m: \tdata_aug: True\n",
            "\u001b[34m\u001b[1mwandb\u001b[0m: \tdropout: 0\n",
            "\u001b[34m\u001b[1mwandb\u001b[0m: \tfc_neurons: 32\n",
            "\u001b[34m\u001b[1mwandb\u001b[0m: \tfilter_multiplier: 1\n",
            "\u001b[34m\u001b[1mwandb\u001b[0m: \tkernel_sizes: [7, 5, 5, 3, 3]\n",
            "\u001b[34m\u001b[1mwandb\u001b[0m: \tlearning_rate: 0.001\n",
            "\u001b[34m\u001b[1mwandb\u001b[0m: \tnum_filters: 8\n",
            "\u001b[34m\u001b[1mwandb\u001b[0m: \toptimizer: adam\n"
          ]
        },
        {
          "data": {
            "text/html": [
              "Tracking run with wandb version 0.14.2"
            ],
            "text/plain": [
              "<IPython.core.display.HTML object>"
            ]
          },
          "metadata": {},
          "output_type": "display_data"
        },
        {
          "data": {
            "text/html": [
              "Run data is saved locally in <code>/home/vplab/Anushka/Dl/wandb/run-20230410_183325-rw0b5n9l</code>"
            ],
            "text/plain": [
              "<IPython.core.display.HTML object>"
            ]
          },
          "metadata": {},
          "output_type": "display_data"
        },
        {
          "data": {
            "text/html": [
              "Syncing run <strong><a href='https://wandb.ai/cs22s015/CS6910_Assignment_2_Q2/runs/rw0b5n9l' target=\"_blank\">ethereal-sweep-2</a></strong> to <a href='https://wandb.ai/cs22s015/CS6910_Assignment_2_Q2' target=\"_blank\">Weights & Biases</a> (<a href='https://wandb.me/run' target=\"_blank\">docs</a>)<br/>Sweep page: <a href='https://wandb.ai/cs22s015/CS6910_Assignment_2_Q2/sweeps/9y3gr37b' target=\"_blank\">https://wandb.ai/cs22s015/CS6910_Assignment_2_Q2/sweeps/9y3gr37b</a>"
            ],
            "text/plain": [
              "<IPython.core.display.HTML object>"
            ]
          },
          "metadata": {},
          "output_type": "display_data"
        },
        {
          "data": {
            "text/html": [
              " View project at <a href='https://wandb.ai/cs22s015/CS6910_Assignment_2_Q2' target=\"_blank\">https://wandb.ai/cs22s015/CS6910_Assignment_2_Q2</a>"
            ],
            "text/plain": [
              "<IPython.core.display.HTML object>"
            ]
          },
          "metadata": {},
          "output_type": "display_data"
        },
        {
          "data": {
            "text/html": [
              " View sweep at <a href='https://wandb.ai/cs22s015/CS6910_Assignment_2_Q2/sweeps/9y3gr37b' target=\"_blank\">https://wandb.ai/cs22s015/CS6910_Assignment_2_Q2/sweeps/9y3gr37b</a>"
            ],
            "text/plain": [
              "<IPython.core.display.HTML object>"
            ]
          },
          "metadata": {},
          "output_type": "display_data"
        },
        {
          "data": {
            "text/html": [
              " View run at <a href='https://wandb.ai/cs22s015/CS6910_Assignment_2_Q2/runs/rw0b5n9l' target=\"_blank\">https://wandb.ai/cs22s015/CS6910_Assignment_2_Q2/runs/rw0b5n9l</a>"
            ],
            "text/plain": [
              "<IPython.core.display.HTML object>"
            ]
          },
          "metadata": {},
          "output_type": "display_data"
        },
        {
          "data": {
            "text/html": [
              "Finishing last run (ID:rw0b5n9l) before initializing another..."
            ],
            "text/plain": [
              "<IPython.core.display.HTML object>"
            ]
          },
          "metadata": {},
          "output_type": "display_data"
        },
        {
          "data": {
            "text/html": [
              "Waiting for W&B process to finish... <strong style=\"color:green\">(success).</strong>"
            ],
            "text/plain": [
              "<IPython.core.display.HTML object>"
            ]
          },
          "metadata": {},
          "output_type": "display_data"
        },
        {
          "data": {
            "application/vnd.jupyter.widget-view+json": {
              "model_id": "88588f4456cd415280de27a04a8854ea",
              "version_major": 2,
              "version_minor": 0
            },
            "text/plain": [
              "VBox(children=(Label(value='0.002 MB of 0.005 MB uploaded (0.000 MB deduped)\\r'), FloatProgress(value=0.373350…"
            ]
          },
          "metadata": {},
          "output_type": "display_data"
        },
        {
          "data": {
            "text/html": [
              " View run <strong style=\"color:#cdcd00\">ethereal-sweep-2</strong> at: <a href='https://wandb.ai/cs22s015/CS6910_Assignment_2_Q2/runs/rw0b5n9l' target=\"_blank\">https://wandb.ai/cs22s015/CS6910_Assignment_2_Q2/runs/rw0b5n9l</a><br/>Synced 4 W&B file(s), 0 media file(s), 0 artifact file(s) and 0 other file(s)"
            ],
            "text/plain": [
              "<IPython.core.display.HTML object>"
            ]
          },
          "metadata": {},
          "output_type": "display_data"
        },
        {
          "data": {
            "text/html": [
              "Find logs at: <code>./wandb/run-20230410_183325-rw0b5n9l/logs</code>"
            ],
            "text/plain": [
              "<IPython.core.display.HTML object>"
            ]
          },
          "metadata": {},
          "output_type": "display_data"
        },
        {
          "data": {
            "text/html": [
              "Successfully finished last run (ID:rw0b5n9l). Initializing new run:<br/>"
            ],
            "text/plain": [
              "<IPython.core.display.HTML object>"
            ]
          },
          "metadata": {},
          "output_type": "display_data"
        },
        {
          "data": {
            "text/html": [
              "Tracking run with wandb version 0.14.2"
            ],
            "text/plain": [
              "<IPython.core.display.HTML object>"
            ]
          },
          "metadata": {},
          "output_type": "display_data"
        },
        {
          "data": {
            "text/html": [
              "Run data is saved locally in <code>/home/vplab/Anushka/Dl/wandb/run-20230410_183326-rw0b5n9l</code>"
            ],
            "text/plain": [
              "<IPython.core.display.HTML object>"
            ]
          },
          "metadata": {},
          "output_type": "display_data"
        },
        {
          "data": {
            "text/html": [
              "Syncing run <strong><a href='https://wandb.ai/cs22s015/CS6910_Assignment_2_Q2/runs/rw0b5n9l' target=\"_blank\">nfliter_8op_adam_ac_Mish_n_0.001_bs_64_dp_0_bn_True</a></strong> to <a href='https://wandb.ai/cs22s015/CS6910_Assignment_2_Q2' target=\"_blank\">Weights & Biases</a> (<a href='https://wandb.me/run' target=\"_blank\">docs</a>)<br/>Sweep page: <a href='https://wandb.ai/cs22s015/CS6910_Assignment_2_Q2/sweeps/9y3gr37b' target=\"_blank\">https://wandb.ai/cs22s015/CS6910_Assignment_2_Q2/sweeps/9y3gr37b</a>"
            ],
            "text/plain": [
              "<IPython.core.display.HTML object>"
            ]
          },
          "metadata": {},
          "output_type": "display_data"
        },
        {
          "data": {
            "text/html": [
              " View project at <a href='https://wandb.ai/cs22s015/CS6910_Assignment_2_Q2' target=\"_blank\">https://wandb.ai/cs22s015/CS6910_Assignment_2_Q2</a>"
            ],
            "text/plain": [
              "<IPython.core.display.HTML object>"
            ]
          },
          "metadata": {},
          "output_type": "display_data"
        },
        {
          "data": {
            "text/html": [
              " View sweep at <a href='https://wandb.ai/cs22s015/CS6910_Assignment_2_Q2/sweeps/9y3gr37b' target=\"_blank\">https://wandb.ai/cs22s015/CS6910_Assignment_2_Q2/sweeps/9y3gr37b</a>"
            ],
            "text/plain": [
              "<IPython.core.display.HTML object>"
            ]
          },
          "metadata": {},
          "output_type": "display_data"
        },
        {
          "data": {
            "text/html": [
              " View run at <a href='https://wandb.ai/cs22s015/CS6910_Assignment_2_Q2/runs/rw0b5n9l' target=\"_blank\">https://wandb.ai/cs22s015/CS6910_Assignment_2_Q2/runs/rw0b5n9l</a>"
            ],
            "text/plain": [
              "<IPython.core.display.HTML object>"
            ]
          },
          "metadata": {},
          "output_type": "display_data"
        },
        {
          "name": "stdout",
          "output_type": "stream",
          "text": [
            "7999\n",
            "2000\n",
            "data loaded ====================================================\n",
            "ok pool5\n",
            "r 300\n",
            "r 149\n",
            "r 74\n",
            "r 37\n",
            "r 19\n",
            "ok flatten\n",
            "10\n",
            "model ini==============================================================\n",
            "in opti\n",
            "exit opti\n",
            "done\n",
            "epoch enter\n",
            "epoch enter\n",
            "epoch enter\n",
            "epoch enter\n",
            "epoch enter\n",
            "epoch enter\n",
            "epoch enter\n",
            "epoch enter\n",
            "epoch enter\n",
            "epoch enter\n",
            "epoch enter\n",
            "epoch enter\n",
            "epoch enter\n",
            "epoch enter\n",
            "epoch enter\n"
          ]
        },
        {
          "data": {
            "text/html": [
              "Waiting for W&B process to finish... <strong style=\"color:green\">(success).</strong>"
            ],
            "text/plain": [
              "<IPython.core.display.HTML object>"
            ]
          },
          "metadata": {},
          "output_type": "display_data"
        },
        {
          "data": {
            "application/vnd.jupyter.widget-view+json": {
              "model_id": "2b093995e24f47f5bca1f4116afa317b",
              "version_major": 2,
              "version_minor": 0
            },
            "text/plain": [
              "VBox(children=(Label(value='0.002 MB of 0.006 MB uploaded (0.000 MB deduped)\\r'), FloatProgress(value=0.333987…"
            ]
          },
          "metadata": {},
          "output_type": "display_data"
        },
        {
          "data": {
            "text/html": [
              "<style>\n",
              "    table.wandb td:nth-child(1) { padding: 0 10px; text-align: left ; width: auto;} td:nth-child(2) {text-align: left ; width: 100%}\n",
              "    .wandb-row { display: flex; flex-direction: row; flex-wrap: wrap; justify-content: flex-start; width: 100% }\n",
              "    .wandb-col { display: flex; flex-direction: column; flex-basis: 100%; flex: 1; padding: 10px; }\n",
              "    </style>\n",
              "<div class=\"wandb-row\"><div class=\"wandb-col\"><h3>Run history:</h3><br/><table class=\"wandb\"><tr><td>epoch</td><td>▁▁▂▃▃▃▄▅▅▅▆▇▇▇█</td></tr><tr><td>loss</td><td>█▆█▅▅▅▆▁▂▅▅▄▄▅▂</td></tr><tr><td>test_acc</td><td>▁▃▃▂▆▆▆▇▇▇▇▇███</td></tr><tr><td>test_loss</td><td>█▅▅▆▃▃▃▂▂▂▂▂▁▂▁</td></tr><tr><td>train_acc</td><td>▁▃▃▃▆▅▆▇▇▇▇▇█▇█</td></tr><tr><td>train_loss</td><td>█▆█▅▅▅▆▁▂▅▅▄▄▅▂</td></tr><tr><td>val_acc</td><td>▁▃▃▂▆▅▆▇█▇▇▆▇▆█</td></tr><tr><td>val_loss</td><td>█▄▅▆▂▃▂▂▂▂▂▂▁▂▁</td></tr></table><br/></div><div class=\"wandb-col\"><h3>Run summary:</h3><br/><table class=\"wandb\"><tr><td>epoch</td><td>15</td></tr><tr><td>loss</td><td>1.73063</td></tr><tr><td>test_acc</td><td>36.0</td></tr><tr><td>test_loss</td><td>1.83001</td></tr><tr><td>train_acc</td><td>38.51731</td></tr><tr><td>train_loss</td><td>1.73063</td></tr><tr><td>val_acc</td><td>35.3</td></tr><tr><td>val_loss</td><td>1.84881</td></tr></table><br/></div></div>"
            ],
            "text/plain": [
              "<IPython.core.display.HTML object>"
            ]
          },
          "metadata": {},
          "output_type": "display_data"
        },
        {
          "data": {
            "text/html": [
              " View run <strong style=\"color:#cdcd00\">nfliter_8op_adam_ac_Mish_n_0.001_bs_64_dp_0_bn_True</strong> at: <a href='https://wandb.ai/cs22s015/CS6910_Assignment_2_Q2/runs/rw0b5n9l' target=\"_blank\">https://wandb.ai/cs22s015/CS6910_Assignment_2_Q2/runs/rw0b5n9l</a><br/>Synced 5 W&B file(s), 0 media file(s), 0 artifact file(s) and 0 other file(s)"
            ],
            "text/plain": [
              "<IPython.core.display.HTML object>"
            ]
          },
          "metadata": {},
          "output_type": "display_data"
        },
        {
          "data": {
            "text/html": [
              "Find logs at: <code>./wandb/run-20230410_183326-rw0b5n9l/logs</code>"
            ],
            "text/plain": [
              "<IPython.core.display.HTML object>"
            ]
          },
          "metadata": {},
          "output_type": "display_data"
        },
        {
          "name": "stderr",
          "output_type": "stream",
          "text": [
            "\u001b[34m\u001b[1mwandb\u001b[0m: Sweep Agent: Waiting for job.\n",
            "\u001b[34m\u001b[1mwandb\u001b[0m: Job received.\n",
            "\u001b[34m\u001b[1mwandb\u001b[0m: Agent Starting Run: cc3voqm4 with config:\n",
            "\u001b[34m\u001b[1mwandb\u001b[0m: \tactivation: Mish\n",
            "\u001b[34m\u001b[1mwandb\u001b[0m: \tbatch_norm: True\n",
            "\u001b[34m\u001b[1mwandb\u001b[0m: \tbatch_size: 32\n",
            "\u001b[34m\u001b[1mwandb\u001b[0m: \tdata_aug: False\n",
            "\u001b[34m\u001b[1mwandb\u001b[0m: \tdropout: 0.2\n",
            "\u001b[34m\u001b[1mwandb\u001b[0m: \tfc_neurons: 64\n",
            "\u001b[34m\u001b[1mwandb\u001b[0m: \tfilter_multiplier: 2\n",
            "\u001b[34m\u001b[1mwandb\u001b[0m: \tkernel_sizes: [7, 5, 5, 3, 3]\n",
            "\u001b[34m\u001b[1mwandb\u001b[0m: \tlearning_rate: 0.0001\n",
            "\u001b[34m\u001b[1mwandb\u001b[0m: \tnum_filters: 16\n",
            "\u001b[34m\u001b[1mwandb\u001b[0m: \toptimizer: nadam\n"
          ]
        },
        {
          "data": {
            "text/html": [
              "Tracking run with wandb version 0.14.2"
            ],
            "text/plain": [
              "<IPython.core.display.HTML object>"
            ]
          },
          "metadata": {},
          "output_type": "display_data"
        },
        {
          "data": {
            "text/html": [
              "Run data is saved locally in <code>/home/vplab/Anushka/Dl/wandb/run-20230410_194329-cc3voqm4</code>"
            ],
            "text/plain": [
              "<IPython.core.display.HTML object>"
            ]
          },
          "metadata": {},
          "output_type": "display_data"
        },
        {
          "data": {
            "text/html": [
              "Syncing run <strong><a href='https://wandb.ai/cs22s015/CS6910_Assignment_2_Q2/runs/cc3voqm4' target=\"_blank\">cool-sweep-3</a></strong> to <a href='https://wandb.ai/cs22s015/CS6910_Assignment_2_Q2' target=\"_blank\">Weights & Biases</a> (<a href='https://wandb.me/run' target=\"_blank\">docs</a>)<br/>Sweep page: <a href='https://wandb.ai/cs22s015/CS6910_Assignment_2_Q2/sweeps/9y3gr37b' target=\"_blank\">https://wandb.ai/cs22s015/CS6910_Assignment_2_Q2/sweeps/9y3gr37b</a>"
            ],
            "text/plain": [
              "<IPython.core.display.HTML object>"
            ]
          },
          "metadata": {},
          "output_type": "display_data"
        },
        {
          "data": {
            "text/html": [
              " View project at <a href='https://wandb.ai/cs22s015/CS6910_Assignment_2_Q2' target=\"_blank\">https://wandb.ai/cs22s015/CS6910_Assignment_2_Q2</a>"
            ],
            "text/plain": [
              "<IPython.core.display.HTML object>"
            ]
          },
          "metadata": {},
          "output_type": "display_data"
        },
        {
          "data": {
            "text/html": [
              " View sweep at <a href='https://wandb.ai/cs22s015/CS6910_Assignment_2_Q2/sweeps/9y3gr37b' target=\"_blank\">https://wandb.ai/cs22s015/CS6910_Assignment_2_Q2/sweeps/9y3gr37b</a>"
            ],
            "text/plain": [
              "<IPython.core.display.HTML object>"
            ]
          },
          "metadata": {},
          "output_type": "display_data"
        },
        {
          "data": {
            "text/html": [
              " View run at <a href='https://wandb.ai/cs22s015/CS6910_Assignment_2_Q2/runs/cc3voqm4' target=\"_blank\">https://wandb.ai/cs22s015/CS6910_Assignment_2_Q2/runs/cc3voqm4</a>"
            ],
            "text/plain": [
              "<IPython.core.display.HTML object>"
            ]
          },
          "metadata": {},
          "output_type": "display_data"
        },
        {
          "data": {
            "text/html": [
              "Finishing last run (ID:cc3voqm4) before initializing another..."
            ],
            "text/plain": [
              "<IPython.core.display.HTML object>"
            ]
          },
          "metadata": {},
          "output_type": "display_data"
        },
        {
          "data": {
            "text/html": [
              "Waiting for W&B process to finish... <strong style=\"color:green\">(success).</strong>"
            ],
            "text/plain": [
              "<IPython.core.display.HTML object>"
            ]
          },
          "metadata": {},
          "output_type": "display_data"
        },
        {
          "data": {
            "application/vnd.jupyter.widget-view+json": {
              "model_id": "d4743985d3cf4512bfb86b303a142b65",
              "version_major": 2,
              "version_minor": 0
            },
            "text/plain": [
              "VBox(children=(Label(value='0.002 MB of 0.005 MB uploaded (0.000 MB deduped)\\r'), FloatProgress(value=0.372778…"
            ]
          },
          "metadata": {},
          "output_type": "display_data"
        },
        {
          "data": {
            "text/html": [
              " View run <strong style=\"color:#cdcd00\">cool-sweep-3</strong> at: <a href='https://wandb.ai/cs22s015/CS6910_Assignment_2_Q2/runs/cc3voqm4' target=\"_blank\">https://wandb.ai/cs22s015/CS6910_Assignment_2_Q2/runs/cc3voqm4</a><br/>Synced 4 W&B file(s), 0 media file(s), 0 artifact file(s) and 0 other file(s)"
            ],
            "text/plain": [
              "<IPython.core.display.HTML object>"
            ]
          },
          "metadata": {},
          "output_type": "display_data"
        },
        {
          "data": {
            "text/html": [
              "Find logs at: <code>./wandb/run-20230410_194329-cc3voqm4/logs</code>"
            ],
            "text/plain": [
              "<IPython.core.display.HTML object>"
            ]
          },
          "metadata": {},
          "output_type": "display_data"
        },
        {
          "data": {
            "text/html": [
              "Successfully finished last run (ID:cc3voqm4). Initializing new run:<br/>"
            ],
            "text/plain": [
              "<IPython.core.display.HTML object>"
            ]
          },
          "metadata": {},
          "output_type": "display_data"
        },
        {
          "data": {
            "text/html": [
              "Tracking run with wandb version 0.14.2"
            ],
            "text/plain": [
              "<IPython.core.display.HTML object>"
            ]
          },
          "metadata": {},
          "output_type": "display_data"
        },
        {
          "data": {
            "text/html": [
              "Run data is saved locally in <code>/home/vplab/Anushka/Dl/wandb/run-20230410_194330-cc3voqm4</code>"
            ],
            "text/plain": [
              "<IPython.core.display.HTML object>"
            ]
          },
          "metadata": {},
          "output_type": "display_data"
        },
        {
          "data": {
            "text/html": [
              "Syncing run <strong><a href='https://wandb.ai/cs22s015/CS6910_Assignment_2_Q2/runs/cc3voqm4' target=\"_blank\">nfliter_16op_nadam_ac_Mish_n_0.0001_bs_32_dp_0.2_bn_True</a></strong> to <a href='https://wandb.ai/cs22s015/CS6910_Assignment_2_Q2' target=\"_blank\">Weights & Biases</a> (<a href='https://wandb.me/run' target=\"_blank\">docs</a>)<br/>Sweep page: <a href='https://wandb.ai/cs22s015/CS6910_Assignment_2_Q2/sweeps/9y3gr37b' target=\"_blank\">https://wandb.ai/cs22s015/CS6910_Assignment_2_Q2/sweeps/9y3gr37b</a>"
            ],
            "text/plain": [
              "<IPython.core.display.HTML object>"
            ]
          },
          "metadata": {},
          "output_type": "display_data"
        },
        {
          "data": {
            "text/html": [
              " View project at <a href='https://wandb.ai/cs22s015/CS6910_Assignment_2_Q2' target=\"_blank\">https://wandb.ai/cs22s015/CS6910_Assignment_2_Q2</a>"
            ],
            "text/plain": [
              "<IPython.core.display.HTML object>"
            ]
          },
          "metadata": {},
          "output_type": "display_data"
        },
        {
          "data": {
            "text/html": [
              " View sweep at <a href='https://wandb.ai/cs22s015/CS6910_Assignment_2_Q2/sweeps/9y3gr37b' target=\"_blank\">https://wandb.ai/cs22s015/CS6910_Assignment_2_Q2/sweeps/9y3gr37b</a>"
            ],
            "text/plain": [
              "<IPython.core.display.HTML object>"
            ]
          },
          "metadata": {},
          "output_type": "display_data"
        },
        {
          "data": {
            "text/html": [
              " View run at <a href='https://wandb.ai/cs22s015/CS6910_Assignment_2_Q2/runs/cc3voqm4' target=\"_blank\">https://wandb.ai/cs22s015/CS6910_Assignment_2_Q2/runs/cc3voqm4</a>"
            ],
            "text/plain": [
              "<IPython.core.display.HTML object>"
            ]
          },
          "metadata": {},
          "output_type": "display_data"
        },
        {
          "name": "stdout",
          "output_type": "stream",
          "text": [
            "7999\n",
            "2000\n",
            "data loaded ====================================================\n",
            "ok pool5\n",
            "r 300\n",
            "r 149\n",
            "r 74\n",
            "r 37\n",
            "r 19\n",
            "ok flatten\n",
            "10\n",
            "model ini==============================================================\n",
            "in opti\n",
            "exit opti\n",
            "done\n",
            "epoch enter\n",
            "epoch enter\n",
            "epoch enter\n",
            "epoch enter\n",
            "epoch enter\n",
            "epoch enter\n",
            "epoch enter\n",
            "epoch enter\n",
            "epoch enter\n",
            "epoch enter\n",
            "epoch enter\n",
            "epoch enter\n",
            "epoch enter\n",
            "epoch enter\n",
            "epoch enter\n"
          ]
        },
        {
          "data": {
            "text/html": [
              "Waiting for W&B process to finish... <strong style=\"color:green\">(success).</strong>"
            ],
            "text/plain": [
              "<IPython.core.display.HTML object>"
            ]
          },
          "metadata": {},
          "output_type": "display_data"
        },
        {
          "data": {
            "application/vnd.jupyter.widget-view+json": {
              "model_id": "59c470379ac84be7b223b8983b561761",
              "version_major": 2,
              "version_minor": 0
            },
            "text/plain": [
              "VBox(children=(Label(value='0.002 MB of 0.002 MB uploaded (0.000 MB deduped)\\r'), FloatProgress(value=1.0, max…"
            ]
          },
          "metadata": {},
          "output_type": "display_data"
        },
        {
          "data": {
            "text/html": [
              "<style>\n",
              "    table.wandb td:nth-child(1) { padding: 0 10px; text-align: left ; width: auto;} td:nth-child(2) {text-align: left ; width: 100%}\n",
              "    .wandb-row { display: flex; flex-direction: row; flex-wrap: wrap; justify-content: flex-start; width: 100% }\n",
              "    .wandb-col { display: flex; flex-direction: column; flex-basis: 100%; flex: 1; padding: 10px; }\n",
              "    </style>\n",
              "<div class=\"wandb-row\"><div class=\"wandb-col\"><h3>Run history:</h3><br/><table class=\"wandb\"><tr><td>epoch</td><td>▁▁▂▃▃▃▄▅▅▅▆▇▇▇█</td></tr><tr><td>loss</td><td>█▆▇█▆▆▆▄▄▃▄▃▄▂▁</td></tr><tr><td>test_acc</td><td>▁▃▅▅▅▇██▇█▇▅█▆█</td></tr><tr><td>test_loss</td><td>█▆▅▄▄▃▂▁▂▁▂▆▃▅▃</td></tr><tr><td>train_acc</td><td>▁▁▂▂▂▃▄▄▅▅▆▅▇▇█</td></tr><tr><td>train_loss</td><td>█▆▇█▆▆▆▄▄▃▄▃▄▂▁</td></tr><tr><td>val_acc</td><td>▁▂▄▄▃▆▆▆▆█▇▄▆▆█</td></tr><tr><td>val_loss</td><td>█▆▅▄▅▂▂▁▂▁▁▇▃▅▂</td></tr></table><br/></div><div class=\"wandb-col\"><h3>Run summary:</h3><br/><table class=\"wandb\"><tr><td>epoch</td><td>15</td></tr><tr><td>loss</td><td>0.86872</td></tr><tr><td>test_acc</td><td>40.3</td></tr><tr><td>test_loss</td><td>1.80726</td></tr><tr><td>train_acc</td><td>86.47331</td></tr><tr><td>train_loss</td><td>0.86872</td></tr><tr><td>val_acc</td><td>39.8</td></tr><tr><td>val_loss</td><td>1.79543</td></tr></table><br/></div></div>"
            ],
            "text/plain": [
              "<IPython.core.display.HTML object>"
            ]
          },
          "metadata": {},
          "output_type": "display_data"
        },
        {
          "data": {
            "text/html": [
              " View run <strong style=\"color:#cdcd00\">nfliter_16op_nadam_ac_Mish_n_0.0001_bs_32_dp_0.2_bn_True</strong> at: <a href='https://wandb.ai/cs22s015/CS6910_Assignment_2_Q2/runs/cc3voqm4' target=\"_blank\">https://wandb.ai/cs22s015/CS6910_Assignment_2_Q2/runs/cc3voqm4</a><br/>Synced 5 W&B file(s), 0 media file(s), 0 artifact file(s) and 0 other file(s)"
            ],
            "text/plain": [
              "<IPython.core.display.HTML object>"
            ]
          },
          "metadata": {},
          "output_type": "display_data"
        },
        {
          "data": {
            "text/html": [
              "Find logs at: <code>./wandb/run-20230410_194330-cc3voqm4/logs</code>"
            ],
            "text/plain": [
              "<IPython.core.display.HTML object>"
            ]
          },
          "metadata": {},
          "output_type": "display_data"
        },
        {
          "name": "stderr",
          "output_type": "stream",
          "text": [
            "\u001b[34m\u001b[1mwandb\u001b[0m: Agent Starting Run: 77cwcf95 with config:\n",
            "\u001b[34m\u001b[1mwandb\u001b[0m: \tactivation: Gelu\n",
            "\u001b[34m\u001b[1mwandb\u001b[0m: \tbatch_norm: True\n",
            "\u001b[34m\u001b[1mwandb\u001b[0m: \tbatch_size: 128\n",
            "\u001b[34m\u001b[1mwandb\u001b[0m: \tdata_aug: False\n",
            "\u001b[34m\u001b[1mwandb\u001b[0m: \tdropout: 0\n",
            "\u001b[34m\u001b[1mwandb\u001b[0m: \tfc_neurons: 32\n",
            "\u001b[34m\u001b[1mwandb\u001b[0m: \tfilter_multiplier: 0.5\n",
            "\u001b[34m\u001b[1mwandb\u001b[0m: \tkernel_sizes: [7, 5, 5, 3, 3]\n",
            "\u001b[34m\u001b[1mwandb\u001b[0m: \tlearning_rate: 0.0005\n",
            "\u001b[34m\u001b[1mwandb\u001b[0m: \tnum_filters: 4\n",
            "\u001b[34m\u001b[1mwandb\u001b[0m: \toptimizer: sgd\n"
          ]
        },
        {
          "data": {
            "text/html": [
              "Tracking run with wandb version 0.14.2"
            ],
            "text/plain": [
              "<IPython.core.display.HTML object>"
            ]
          },
          "metadata": {},
          "output_type": "display_data"
        },
        {
          "data": {
            "text/html": [
              "Run data is saved locally in <code>/home/vplab/Anushka/Dl/wandb/run-20230410_205246-77cwcf95</code>"
            ],
            "text/plain": [
              "<IPython.core.display.HTML object>"
            ]
          },
          "metadata": {},
          "output_type": "display_data"
        },
        {
          "data": {
            "text/html": [
              "Syncing run <strong><a href='https://wandb.ai/cs22s015/CS6910_Assignment_2_Q2/runs/77cwcf95' target=\"_blank\">atomic-sweep-4</a></strong> to <a href='https://wandb.ai/cs22s015/CS6910_Assignment_2_Q2' target=\"_blank\">Weights & Biases</a> (<a href='https://wandb.me/run' target=\"_blank\">docs</a>)<br/>Sweep page: <a href='https://wandb.ai/cs22s015/CS6910_Assignment_2_Q2/sweeps/9y3gr37b' target=\"_blank\">https://wandb.ai/cs22s015/CS6910_Assignment_2_Q2/sweeps/9y3gr37b</a>"
            ],
            "text/plain": [
              "<IPython.core.display.HTML object>"
            ]
          },
          "metadata": {},
          "output_type": "display_data"
        },
        {
          "data": {
            "text/html": [
              " View project at <a href='https://wandb.ai/cs22s015/CS6910_Assignment_2_Q2' target=\"_blank\">https://wandb.ai/cs22s015/CS6910_Assignment_2_Q2</a>"
            ],
            "text/plain": [
              "<IPython.core.display.HTML object>"
            ]
          },
          "metadata": {},
          "output_type": "display_data"
        },
        {
          "data": {
            "text/html": [
              " View sweep at <a href='https://wandb.ai/cs22s015/CS6910_Assignment_2_Q2/sweeps/9y3gr37b' target=\"_blank\">https://wandb.ai/cs22s015/CS6910_Assignment_2_Q2/sweeps/9y3gr37b</a>"
            ],
            "text/plain": [
              "<IPython.core.display.HTML object>"
            ]
          },
          "metadata": {},
          "output_type": "display_data"
        },
        {
          "data": {
            "text/html": [
              " View run at <a href='https://wandb.ai/cs22s015/CS6910_Assignment_2_Q2/runs/77cwcf95' target=\"_blank\">https://wandb.ai/cs22s015/CS6910_Assignment_2_Q2/runs/77cwcf95</a>"
            ],
            "text/plain": [
              "<IPython.core.display.HTML object>"
            ]
          },
          "metadata": {},
          "output_type": "display_data"
        },
        {
          "data": {
            "text/html": [
              "Finishing last run (ID:77cwcf95) before initializing another..."
            ],
            "text/plain": [
              "<IPython.core.display.HTML object>"
            ]
          },
          "metadata": {},
          "output_type": "display_data"
        },
        {
          "data": {
            "text/html": [
              "Waiting for W&B process to finish... <strong style=\"color:green\">(success).</strong>"
            ],
            "text/plain": [
              "<IPython.core.display.HTML object>"
            ]
          },
          "metadata": {},
          "output_type": "display_data"
        },
        {
          "data": {
            "application/vnd.jupyter.widget-view+json": {
              "model_id": "7b153c8a7ac74953a8fab6502e3a7d9a",
              "version_major": 2,
              "version_minor": 0
            },
            "text/plain": [
              "VBox(children=(Label(value='0.002 MB of 0.005 MB uploaded (0.000 MB deduped)\\r'), FloatProgress(value=0.374631…"
            ]
          },
          "metadata": {},
          "output_type": "display_data"
        },
        {
          "data": {
            "text/html": [
              " View run <strong style=\"color:#cdcd00\">atomic-sweep-4</strong> at: <a href='https://wandb.ai/cs22s015/CS6910_Assignment_2_Q2/runs/77cwcf95' target=\"_blank\">https://wandb.ai/cs22s015/CS6910_Assignment_2_Q2/runs/77cwcf95</a><br/>Synced 4 W&B file(s), 0 media file(s), 0 artifact file(s) and 0 other file(s)"
            ],
            "text/plain": [
              "<IPython.core.display.HTML object>"
            ]
          },
          "metadata": {},
          "output_type": "display_data"
        },
        {
          "data": {
            "text/html": [
              "Find logs at: <code>./wandb/run-20230410_205246-77cwcf95/logs</code>"
            ],
            "text/plain": [
              "<IPython.core.display.HTML object>"
            ]
          },
          "metadata": {},
          "output_type": "display_data"
        },
        {
          "data": {
            "text/html": [
              "Successfully finished last run (ID:77cwcf95). Initializing new run:<br/>"
            ],
            "text/plain": [
              "<IPython.core.display.HTML object>"
            ]
          },
          "metadata": {},
          "output_type": "display_data"
        },
        {
          "data": {
            "text/html": [
              "Tracking run with wandb version 0.14.2"
            ],
            "text/plain": [
              "<IPython.core.display.HTML object>"
            ]
          },
          "metadata": {},
          "output_type": "display_data"
        },
        {
          "data": {
            "text/html": [
              "Run data is saved locally in <code>/home/vplab/Anushka/Dl/wandb/run-20230410_205247-77cwcf95</code>"
            ],
            "text/plain": [
              "<IPython.core.display.HTML object>"
            ]
          },
          "metadata": {},
          "output_type": "display_data"
        },
        {
          "data": {
            "text/html": [
              "Syncing run <strong><a href='https://wandb.ai/cs22s015/CS6910_Assignment_2_Q2/runs/77cwcf95' target=\"_blank\">nfliter_4op_sgd_ac_Gelu_n_0.0005_bs_128_dp_0_bn_True</a></strong> to <a href='https://wandb.ai/cs22s015/CS6910_Assignment_2_Q2' target=\"_blank\">Weights & Biases</a> (<a href='https://wandb.me/run' target=\"_blank\">docs</a>)<br/>Sweep page: <a href='https://wandb.ai/cs22s015/CS6910_Assignment_2_Q2/sweeps/9y3gr37b' target=\"_blank\">https://wandb.ai/cs22s015/CS6910_Assignment_2_Q2/sweeps/9y3gr37b</a>"
            ],
            "text/plain": [
              "<IPython.core.display.HTML object>"
            ]
          },
          "metadata": {},
          "output_type": "display_data"
        },
        {
          "data": {
            "text/html": [
              " View project at <a href='https://wandb.ai/cs22s015/CS6910_Assignment_2_Q2' target=\"_blank\">https://wandb.ai/cs22s015/CS6910_Assignment_2_Q2</a>"
            ],
            "text/plain": [
              "<IPython.core.display.HTML object>"
            ]
          },
          "metadata": {},
          "output_type": "display_data"
        },
        {
          "data": {
            "text/html": [
              " View sweep at <a href='https://wandb.ai/cs22s015/CS6910_Assignment_2_Q2/sweeps/9y3gr37b' target=\"_blank\">https://wandb.ai/cs22s015/CS6910_Assignment_2_Q2/sweeps/9y3gr37b</a>"
            ],
            "text/plain": [
              "<IPython.core.display.HTML object>"
            ]
          },
          "metadata": {},
          "output_type": "display_data"
        },
        {
          "data": {
            "text/html": [
              " View run at <a href='https://wandb.ai/cs22s015/CS6910_Assignment_2_Q2/runs/77cwcf95' target=\"_blank\">https://wandb.ai/cs22s015/CS6910_Assignment_2_Q2/runs/77cwcf95</a>"
            ],
            "text/plain": [
              "<IPython.core.display.HTML object>"
            ]
          },
          "metadata": {},
          "output_type": "display_data"
        },
        {
          "name": "stdout",
          "output_type": "stream",
          "text": [
            "7999\n",
            "2000\n",
            "data loaded ====================================================\n"
          ]
        },
        {
          "data": {
            "text/html": [
              "Waiting for W&B process to finish... <strong style=\"color:red\">(failed 1).</strong> Press Control-C to abort syncing."
            ],
            "text/plain": [
              "<IPython.core.display.HTML object>"
            ]
          },
          "metadata": {},
          "output_type": "display_data"
        },
        {
          "data": {
            "text/html": [
              " View run <strong style=\"color:#cdcd00\">nfliter_4op_sgd_ac_Gelu_n_0.0005_bs_128_dp_0_bn_True</strong> at: <a href='https://wandb.ai/cs22s015/CS6910_Assignment_2_Q2/runs/77cwcf95' target=\"_blank\">https://wandb.ai/cs22s015/CS6910_Assignment_2_Q2/runs/77cwcf95</a><br/>Synced 5 W&B file(s), 0 media file(s), 0 artifact file(s) and 0 other file(s)"
            ],
            "text/plain": [
              "<IPython.core.display.HTML object>"
            ]
          },
          "metadata": {},
          "output_type": "display_data"
        },
        {
          "data": {
            "text/html": [
              "Find logs at: <code>./wandb/run-20230410_205247-77cwcf95/logs</code>"
            ],
            "text/plain": [
              "<IPython.core.display.HTML object>"
            ]
          },
          "metadata": {},
          "output_type": "display_data"
        },
        {
          "name": "stderr",
          "output_type": "stream",
          "text": [
            "Run 77cwcf95 errored: TypeError('empty() received an invalid combination of arguments - got (tuple, dtype=NoneType, device=NoneType), but expected one of:\\n * (tuple of ints size, *, tuple of names names, torch.memory_format memory_format, torch.dtype dtype, torch.layout layout, torch.device device, bool pin_memory, bool requires_grad)\\n * (tuple of ints size, *, torch.memory_format memory_format, Tensor out, torch.dtype dtype, torch.layout layout, torch.device device, bool pin_memory, bool requires_grad)\\n')\n",
            "\u001b[34m\u001b[1mwandb\u001b[0m: \u001b[32m\u001b[41mERROR\u001b[0m Run 77cwcf95 errored: TypeError('empty() received an invalid combination of arguments - got (tuple, dtype=NoneType, device=NoneType), but expected one of:\\n * (tuple of ints size, *, tuple of names names, torch.memory_format memory_format, torch.dtype dtype, torch.layout layout, torch.device device, bool pin_memory, bool requires_grad)\\n * (tuple of ints size, *, torch.memory_format memory_format, Tensor out, torch.dtype dtype, torch.layout layout, torch.device device, bool pin_memory, bool requires_grad)\\n')\n",
            "\u001b[34m\u001b[1mwandb\u001b[0m: Agent Starting Run: d8y0rqmk with config:\n",
            "\u001b[34m\u001b[1mwandb\u001b[0m: \tactivation: LeakyRelu\n",
            "\u001b[34m\u001b[1mwandb\u001b[0m: \tbatch_norm: False\n",
            "\u001b[34m\u001b[1mwandb\u001b[0m: \tbatch_size: 64\n",
            "\u001b[34m\u001b[1mwandb\u001b[0m: \tdata_aug: False\n",
            "\u001b[34m\u001b[1mwandb\u001b[0m: \tdropout: 0.3\n",
            "\u001b[34m\u001b[1mwandb\u001b[0m: \tfc_neurons: 64\n",
            "\u001b[34m\u001b[1mwandb\u001b[0m: \tfilter_multiplier: 2\n",
            "\u001b[34m\u001b[1mwandb\u001b[0m: \tkernel_sizes: [7, 5, 5, 3, 3]\n",
            "\u001b[34m\u001b[1mwandb\u001b[0m: \tlearning_rate: 0.0001\n",
            "\u001b[34m\u001b[1mwandb\u001b[0m: \tnum_filters: 16\n",
            "\u001b[34m\u001b[1mwandb\u001b[0m: \toptimizer: nadam\n"
          ]
        },
        {
          "data": {
            "text/html": [
              "Tracking run with wandb version 0.14.2"
            ],
            "text/plain": [
              "<IPython.core.display.HTML object>"
            ]
          },
          "metadata": {},
          "output_type": "display_data"
        },
        {
          "data": {
            "text/html": [
              "Run data is saved locally in <code>/home/vplab/Anushka/Dl/wandb/run-20230410_205308-d8y0rqmk</code>"
            ],
            "text/plain": [
              "<IPython.core.display.HTML object>"
            ]
          },
          "metadata": {},
          "output_type": "display_data"
        },
        {
          "data": {
            "text/html": [
              "Syncing run <strong><a href='https://wandb.ai/cs22s015/CS6910_Assignment_2_Q2/runs/d8y0rqmk' target=\"_blank\">morning-sweep-5</a></strong> to <a href='https://wandb.ai/cs22s015/CS6910_Assignment_2_Q2' target=\"_blank\">Weights & Biases</a> (<a href='https://wandb.me/run' target=\"_blank\">docs</a>)<br/>Sweep page: <a href='https://wandb.ai/cs22s015/CS6910_Assignment_2_Q2/sweeps/9y3gr37b' target=\"_blank\">https://wandb.ai/cs22s015/CS6910_Assignment_2_Q2/sweeps/9y3gr37b</a>"
            ],
            "text/plain": [
              "<IPython.core.display.HTML object>"
            ]
          },
          "metadata": {},
          "output_type": "display_data"
        },
        {
          "data": {
            "text/html": [
              " View project at <a href='https://wandb.ai/cs22s015/CS6910_Assignment_2_Q2' target=\"_blank\">https://wandb.ai/cs22s015/CS6910_Assignment_2_Q2</a>"
            ],
            "text/plain": [
              "<IPython.core.display.HTML object>"
            ]
          },
          "metadata": {},
          "output_type": "display_data"
        },
        {
          "data": {
            "text/html": [
              " View sweep at <a href='https://wandb.ai/cs22s015/CS6910_Assignment_2_Q2/sweeps/9y3gr37b' target=\"_blank\">https://wandb.ai/cs22s015/CS6910_Assignment_2_Q2/sweeps/9y3gr37b</a>"
            ],
            "text/plain": [
              "<IPython.core.display.HTML object>"
            ]
          },
          "metadata": {},
          "output_type": "display_data"
        },
        {
          "data": {
            "text/html": [
              " View run at <a href='https://wandb.ai/cs22s015/CS6910_Assignment_2_Q2/runs/d8y0rqmk' target=\"_blank\">https://wandb.ai/cs22s015/CS6910_Assignment_2_Q2/runs/d8y0rqmk</a>"
            ],
            "text/plain": [
              "<IPython.core.display.HTML object>"
            ]
          },
          "metadata": {},
          "output_type": "display_data"
        },
        {
          "data": {
            "text/html": [
              "Finishing last run (ID:d8y0rqmk) before initializing another..."
            ],
            "text/plain": [
              "<IPython.core.display.HTML object>"
            ]
          },
          "metadata": {},
          "output_type": "display_data"
        },
        {
          "data": {
            "text/html": [
              "Waiting for W&B process to finish... <strong style=\"color:green\">(success).</strong>"
            ],
            "text/plain": [
              "<IPython.core.display.HTML object>"
            ]
          },
          "metadata": {},
          "output_type": "display_data"
        },
        {
          "data": {
            "application/vnd.jupyter.widget-view+json": {
              "model_id": "316b2a9d048649a19e886c1943632389",
              "version_major": 2,
              "version_minor": 0
            },
            "text/plain": [
              "VBox(children=(Label(value='0.002 MB of 0.005 MB uploaded (0.000 MB deduped)\\r'), FloatProgress(value=0.373447…"
            ]
          },
          "metadata": {},
          "output_type": "display_data"
        },
        {
          "data": {
            "text/html": [
              " View run <strong style=\"color:#cdcd00\">morning-sweep-5</strong> at: <a href='https://wandb.ai/cs22s015/CS6910_Assignment_2_Q2/runs/d8y0rqmk' target=\"_blank\">https://wandb.ai/cs22s015/CS6910_Assignment_2_Q2/runs/d8y0rqmk</a><br/>Synced 4 W&B file(s), 0 media file(s), 0 artifact file(s) and 0 other file(s)"
            ],
            "text/plain": [
              "<IPython.core.display.HTML object>"
            ]
          },
          "metadata": {},
          "output_type": "display_data"
        },
        {
          "data": {
            "text/html": [
              "Find logs at: <code>./wandb/run-20230410_205308-d8y0rqmk/logs</code>"
            ],
            "text/plain": [
              "<IPython.core.display.HTML object>"
            ]
          },
          "metadata": {},
          "output_type": "display_data"
        },
        {
          "data": {
            "text/html": [
              "Successfully finished last run (ID:d8y0rqmk). Initializing new run:<br/>"
            ],
            "text/plain": [
              "<IPython.core.display.HTML object>"
            ]
          },
          "metadata": {},
          "output_type": "display_data"
        },
        {
          "data": {
            "text/html": [
              "Tracking run with wandb version 0.14.2"
            ],
            "text/plain": [
              "<IPython.core.display.HTML object>"
            ]
          },
          "metadata": {},
          "output_type": "display_data"
        },
        {
          "data": {
            "text/html": [
              "Run data is saved locally in <code>/home/vplab/Anushka/Dl/wandb/run-20230410_205309-d8y0rqmk</code>"
            ],
            "text/plain": [
              "<IPython.core.display.HTML object>"
            ]
          },
          "metadata": {},
          "output_type": "display_data"
        },
        {
          "data": {
            "text/html": [
              "Syncing run <strong><a href='https://wandb.ai/cs22s015/CS6910_Assignment_2_Q2/runs/d8y0rqmk' target=\"_blank\">nfliter_16op_nadam_ac_LeakyRelu_n_0.0001_bs_64_dp_0.3_bn_False</a></strong> to <a href='https://wandb.ai/cs22s015/CS6910_Assignment_2_Q2' target=\"_blank\">Weights & Biases</a> (<a href='https://wandb.me/run' target=\"_blank\">docs</a>)<br/>Sweep page: <a href='https://wandb.ai/cs22s015/CS6910_Assignment_2_Q2/sweeps/9y3gr37b' target=\"_blank\">https://wandb.ai/cs22s015/CS6910_Assignment_2_Q2/sweeps/9y3gr37b</a>"
            ],
            "text/plain": [
              "<IPython.core.display.HTML object>"
            ]
          },
          "metadata": {},
          "output_type": "display_data"
        },
        {
          "data": {
            "text/html": [
              " View project at <a href='https://wandb.ai/cs22s015/CS6910_Assignment_2_Q2' target=\"_blank\">https://wandb.ai/cs22s015/CS6910_Assignment_2_Q2</a>"
            ],
            "text/plain": [
              "<IPython.core.display.HTML object>"
            ]
          },
          "metadata": {},
          "output_type": "display_data"
        },
        {
          "data": {
            "text/html": [
              " View sweep at <a href='https://wandb.ai/cs22s015/CS6910_Assignment_2_Q2/sweeps/9y3gr37b' target=\"_blank\">https://wandb.ai/cs22s015/CS6910_Assignment_2_Q2/sweeps/9y3gr37b</a>"
            ],
            "text/plain": [
              "<IPython.core.display.HTML object>"
            ]
          },
          "metadata": {},
          "output_type": "display_data"
        },
        {
          "data": {
            "text/html": [
              " View run at <a href='https://wandb.ai/cs22s015/CS6910_Assignment_2_Q2/runs/d8y0rqmk' target=\"_blank\">https://wandb.ai/cs22s015/CS6910_Assignment_2_Q2/runs/d8y0rqmk</a>"
            ],
            "text/plain": [
              "<IPython.core.display.HTML object>"
            ]
          },
          "metadata": {},
          "output_type": "display_data"
        },
        {
          "name": "stdout",
          "output_type": "stream",
          "text": [
            "7999\n",
            "2000\n",
            "data loaded ====================================================\n",
            "ok pool5\n",
            "r 300\n",
            "r 149\n",
            "r 74\n",
            "r 37\n",
            "r 19\n",
            "ok flatten\n",
            "10\n",
            "model ini==============================================================\n",
            "in opti\n",
            "exit opti\n",
            "done\n",
            "epoch enter\n",
            "epoch enter\n",
            "epoch enter\n",
            "epoch enter\n",
            "epoch enter\n",
            "epoch enter\n",
            "epoch enter\n",
            "epoch enter\n",
            "epoch enter\n",
            "epoch enter\n",
            "epoch enter\n",
            "epoch enter\n",
            "epoch enter\n",
            "epoch enter\n",
            "epoch enter\n"
          ]
        },
        {
          "data": {
            "text/html": [
              "Waiting for W&B process to finish... <strong style=\"color:green\">(success).</strong>"
            ],
            "text/plain": [
              "<IPython.core.display.HTML object>"
            ]
          },
          "metadata": {},
          "output_type": "display_data"
        },
        {
          "data": {
            "text/html": [
              "<style>\n",
              "    table.wandb td:nth-child(1) { padding: 0 10px; text-align: left ; width: auto;} td:nth-child(2) {text-align: left ; width: 100%}\n",
              "    .wandb-row { display: flex; flex-direction: row; flex-wrap: wrap; justify-content: flex-start; width: 100% }\n",
              "    .wandb-col { display: flex; flex-direction: column; flex-basis: 100%; flex: 1; padding: 10px; }\n",
              "    </style>\n",
              "<div class=\"wandb-row\"><div class=\"wandb-col\"><h3>Run history:</h3><br/><table class=\"wandb\"><tr><td>epoch</td><td>▁▁▂▃▃▃▄▅▅▅▆▇▇▇█</td></tr><tr><td>loss</td><td>▇█▅▅▆▇▅▄▃▁▃▄▃▁▁</td></tr><tr><td>test_acc</td><td>▁▄▅▇▇▆▇▇▇▇▇▇███</td></tr><tr><td>test_loss</td><td>█▆▄▄▃▃▂▂▂▂▂▂▁▂▂</td></tr><tr><td>train_acc</td><td>▁▂▃▄▄▄▅▅▅▅▆▆▇▇█</td></tr><tr><td>train_loss</td><td>▇█▅▅▆▇▅▄▃▁▃▄▃▁▁</td></tr><tr><td>val_acc</td><td>▁▃▅▆▅▆▇▇▇▇▇████</td></tr><tr><td>val_loss</td><td>█▆▄▄▃▃▂▂▂▂▂▁▁▂▁</td></tr></table><br/></div><div class=\"wandb-col\"><h3>Run summary:</h3><br/><table class=\"wandb\"><tr><td>epoch</td><td>15</td></tr><tr><td>loss</td><td>1.63135</td></tr><tr><td>test_acc</td><td>35.6</td></tr><tr><td>test_loss</td><td>1.84872</td></tr><tr><td>train_acc</td><td>51.50644</td></tr><tr><td>train_loss</td><td>1.63135</td></tr><tr><td>val_acc</td><td>36.05</td></tr><tr><td>val_loss</td><td>1.84113</td></tr></table><br/></div></div>"
            ],
            "text/plain": [
              "<IPython.core.display.HTML object>"
            ]
          },
          "metadata": {},
          "output_type": "display_data"
        },
        {
          "data": {
            "text/html": [
              " View run <strong style=\"color:#cdcd00\">nfliter_16op_nadam_ac_LeakyRelu_n_0.0001_bs_64_dp_0.3_bn_False</strong> at: <a href='https://wandb.ai/cs22s015/CS6910_Assignment_2_Q2/runs/d8y0rqmk' target=\"_blank\">https://wandb.ai/cs22s015/CS6910_Assignment_2_Q2/runs/d8y0rqmk</a><br/>Synced 5 W&B file(s), 0 media file(s), 0 artifact file(s) and 0 other file(s)"
            ],
            "text/plain": [
              "<IPython.core.display.HTML object>"
            ]
          },
          "metadata": {},
          "output_type": "display_data"
        },
        {
          "data": {
            "text/html": [
              "Find logs at: <code>./wandb/run-20230410_205309-d8y0rqmk/logs</code>"
            ],
            "text/plain": [
              "<IPython.core.display.HTML object>"
            ]
          },
          "metadata": {},
          "output_type": "display_data"
        }
      ],
      "source": [
        "\n",
        "# Initialize the WandB sweep\n",
        "sweep_id = wandb.sweep(sweep_config, project='CS6910_Assignment_2_Q2')\n",
        "wandb.agent(sweep_id, function=train,count=5)\n"
      ]
    },
    {
      "cell_type": "code",
      "execution_count": null,
      "id": "25641c79",
      "metadata": {
        "papermill": {
          "duration": 0.084995,
          "end_time": "2023-04-07T17:11:27.931145",
          "exception": false,
          "start_time": "2023-04-07T17:11:27.846150",
          "status": "completed"
        },
        "tags": [],
        "colab": {
          "referenced_widgets": [
            "81c58069f6f7463bb1a69a6c2e798f02",
            "683e7b7df79f47bcac0f1a95b80b72b6",
            "ec8be3932d1d42eaaf11b44f1d997613"
          ]
        },
        "id": "25641c79",
        "outputId": "beb4aee3-f455-4827-ee83-2c7a219de61a"
      },
      "outputs": [
        {
          "name": "stdout",
          "output_type": "stream",
          "text": [
            "Create sweep with ID: o095cvvz\n",
            "Sweep URL: https://wandb.ai/cs22s015/CS6910_Assignment_2_Q2/sweeps/o095cvvz\n"
          ]
        },
        {
          "name": "stderr",
          "output_type": "stream",
          "text": [
            "\u001b[34m\u001b[1mwandb\u001b[0m: Agent Starting Run: xksdas72 with config:\n",
            "\u001b[34m\u001b[1mwandb\u001b[0m: \tactivation: Mish\n",
            "\u001b[34m\u001b[1mwandb\u001b[0m: \tbatch_norm: True\n",
            "\u001b[34m\u001b[1mwandb\u001b[0m: \tbatch_size: 32\n",
            "\u001b[34m\u001b[1mwandb\u001b[0m: \tdata_aug: False\n",
            "\u001b[34m\u001b[1mwandb\u001b[0m: \tdropout: 0\n",
            "\u001b[34m\u001b[1mwandb\u001b[0m: \tfc_neurons: 128\n",
            "\u001b[34m\u001b[1mwandb\u001b[0m: \tfilter_multiplier: 1\n",
            "\u001b[34m\u001b[1mwandb\u001b[0m: \tkernel_sizes: [5, 5, 5, 5, 5]\n",
            "\u001b[34m\u001b[1mwandb\u001b[0m: \tlearning_rate: 0.001\n",
            "\u001b[34m\u001b[1mwandb\u001b[0m: \tnum_filters: 16\n",
            "\u001b[34m\u001b[1mwandb\u001b[0m: \toptimizer: adam\n"
          ]
        },
        {
          "data": {
            "text/html": [
              "Tracking run with wandb version 0.14.2"
            ],
            "text/plain": [
              "<IPython.core.display.HTML object>"
            ]
          },
          "metadata": {},
          "output_type": "display_data"
        },
        {
          "data": {
            "text/html": [
              "Run data is saved locally in <code>/home/vplab/Anushka/Dl/wandb/run-20230410_220154-xksdas72</code>"
            ],
            "text/plain": [
              "<IPython.core.display.HTML object>"
            ]
          },
          "metadata": {},
          "output_type": "display_data"
        },
        {
          "data": {
            "text/html": [
              "Syncing run <strong><a href='https://wandb.ai/cs22s015/CS6910_Assignment_2_Q2/runs/xksdas72' target=\"_blank\">unique-sweep-1</a></strong> to <a href='https://wandb.ai/cs22s015/CS6910_Assignment_2_Q2' target=\"_blank\">Weights & Biases</a> (<a href='https://wandb.me/run' target=\"_blank\">docs</a>)<br/>Sweep page: <a href='https://wandb.ai/cs22s015/CS6910_Assignment_2_Q2/sweeps/o095cvvz' target=\"_blank\">https://wandb.ai/cs22s015/CS6910_Assignment_2_Q2/sweeps/o095cvvz</a>"
            ],
            "text/plain": [
              "<IPython.core.display.HTML object>"
            ]
          },
          "metadata": {},
          "output_type": "display_data"
        },
        {
          "data": {
            "text/html": [
              " View project at <a href='https://wandb.ai/cs22s015/CS6910_Assignment_2_Q2' target=\"_blank\">https://wandb.ai/cs22s015/CS6910_Assignment_2_Q2</a>"
            ],
            "text/plain": [
              "<IPython.core.display.HTML object>"
            ]
          },
          "metadata": {},
          "output_type": "display_data"
        },
        {
          "data": {
            "text/html": [
              " View sweep at <a href='https://wandb.ai/cs22s015/CS6910_Assignment_2_Q2/sweeps/o095cvvz' target=\"_blank\">https://wandb.ai/cs22s015/CS6910_Assignment_2_Q2/sweeps/o095cvvz</a>"
            ],
            "text/plain": [
              "<IPython.core.display.HTML object>"
            ]
          },
          "metadata": {},
          "output_type": "display_data"
        },
        {
          "data": {
            "text/html": [
              " View run at <a href='https://wandb.ai/cs22s015/CS6910_Assignment_2_Q2/runs/xksdas72' target=\"_blank\">https://wandb.ai/cs22s015/CS6910_Assignment_2_Q2/runs/xksdas72</a>"
            ],
            "text/plain": [
              "<IPython.core.display.HTML object>"
            ]
          },
          "metadata": {},
          "output_type": "display_data"
        },
        {
          "data": {
            "text/html": [
              "Finishing last run (ID:xksdas72) before initializing another..."
            ],
            "text/plain": [
              "<IPython.core.display.HTML object>"
            ]
          },
          "metadata": {},
          "output_type": "display_data"
        },
        {
          "data": {
            "text/html": [
              "Waiting for W&B process to finish... <strong style=\"color:green\">(success).</strong>"
            ],
            "text/plain": [
              "<IPython.core.display.HTML object>"
            ]
          },
          "metadata": {},
          "output_type": "display_data"
        },
        {
          "data": {
            "application/vnd.jupyter.widget-view+json": {
              "model_id": "81c58069f6f7463bb1a69a6c2e798f02",
              "version_major": 2,
              "version_minor": 0
            },
            "text/plain": [
              "VBox(children=(Label(value='0.002 MB of 0.005 MB uploaded (0.000 MB deduped)\\r'), FloatProgress(value=0.374062…"
            ]
          },
          "metadata": {},
          "output_type": "display_data"
        },
        {
          "data": {
            "text/html": [
              " View run <strong style=\"color:#cdcd00\">unique-sweep-1</strong> at: <a href='https://wandb.ai/cs22s015/CS6910_Assignment_2_Q2/runs/xksdas72' target=\"_blank\">https://wandb.ai/cs22s015/CS6910_Assignment_2_Q2/runs/xksdas72</a><br/>Synced 4 W&B file(s), 0 media file(s), 0 artifact file(s) and 0 other file(s)"
            ],
            "text/plain": [
              "<IPython.core.display.HTML object>"
            ]
          },
          "metadata": {},
          "output_type": "display_data"
        },
        {
          "data": {
            "text/html": [
              "Find logs at: <code>./wandb/run-20230410_220154-xksdas72/logs</code>"
            ],
            "text/plain": [
              "<IPython.core.display.HTML object>"
            ]
          },
          "metadata": {},
          "output_type": "display_data"
        },
        {
          "data": {
            "text/html": [
              "Successfully finished last run (ID:xksdas72). Initializing new run:<br/>"
            ],
            "text/plain": [
              "<IPython.core.display.HTML object>"
            ]
          },
          "metadata": {},
          "output_type": "display_data"
        },
        {
          "data": {
            "text/html": [
              "Tracking run with wandb version 0.14.2"
            ],
            "text/plain": [
              "<IPython.core.display.HTML object>"
            ]
          },
          "metadata": {},
          "output_type": "display_data"
        },
        {
          "data": {
            "text/html": [
              "Run data is saved locally in <code>/home/vplab/Anushka/Dl/wandb/run-20230410_220155-xksdas72</code>"
            ],
            "text/plain": [
              "<IPython.core.display.HTML object>"
            ]
          },
          "metadata": {},
          "output_type": "display_data"
        },
        {
          "data": {
            "text/html": [
              "Syncing run <strong><a href='https://wandb.ai/cs22s015/CS6910_Assignment_2_Q2/runs/xksdas72' target=\"_blank\">nfliter_16op_adam_ac_Mish_n_0.001_bs_32_dp_0_bn_True</a></strong> to <a href='https://wandb.ai/cs22s015/CS6910_Assignment_2_Q2' target=\"_blank\">Weights & Biases</a> (<a href='https://wandb.me/run' target=\"_blank\">docs</a>)<br/>Sweep page: <a href='https://wandb.ai/cs22s015/CS6910_Assignment_2_Q2/sweeps/o095cvvz' target=\"_blank\">https://wandb.ai/cs22s015/CS6910_Assignment_2_Q2/sweeps/o095cvvz</a>"
            ],
            "text/plain": [
              "<IPython.core.display.HTML object>"
            ]
          },
          "metadata": {},
          "output_type": "display_data"
        },
        {
          "data": {
            "text/html": [
              " View project at <a href='https://wandb.ai/cs22s015/CS6910_Assignment_2_Q2' target=\"_blank\">https://wandb.ai/cs22s015/CS6910_Assignment_2_Q2</a>"
            ],
            "text/plain": [
              "<IPython.core.display.HTML object>"
            ]
          },
          "metadata": {},
          "output_type": "display_data"
        },
        {
          "data": {
            "text/html": [
              " View sweep at <a href='https://wandb.ai/cs22s015/CS6910_Assignment_2_Q2/sweeps/o095cvvz' target=\"_blank\">https://wandb.ai/cs22s015/CS6910_Assignment_2_Q2/sweeps/o095cvvz</a>"
            ],
            "text/plain": [
              "<IPython.core.display.HTML object>"
            ]
          },
          "metadata": {},
          "output_type": "display_data"
        },
        {
          "data": {
            "text/html": [
              " View run at <a href='https://wandb.ai/cs22s015/CS6910_Assignment_2_Q2/runs/xksdas72' target=\"_blank\">https://wandb.ai/cs22s015/CS6910_Assignment_2_Q2/runs/xksdas72</a>"
            ],
            "text/plain": [
              "<IPython.core.display.HTML object>"
            ]
          },
          "metadata": {},
          "output_type": "display_data"
        },
        {
          "name": "stdout",
          "output_type": "stream",
          "text": [
            "7999\n",
            "2000\n",
            "data loaded ====================================================\n",
            "ok pool5\n",
            "r 300\n",
            "r 150\n",
            "r 75\n",
            "r 37\n",
            "r 18\n",
            "ok flatten\n",
            "9\n",
            "model ini==============================================================\n",
            "in opti\n",
            "exit opti\n",
            "done\n",
            "epoch enter\n",
            "epoch enter\n",
            "epoch enter\n",
            "epoch enter\n",
            "epoch enter\n",
            "epoch enter\n",
            "epoch enter\n",
            "epoch enter\n",
            "epoch enter\n",
            "epoch enter\n",
            "epoch enter\n",
            "epoch enter\n",
            "epoch enter\n",
            "epoch enter\n",
            "epoch enter\n"
          ]
        },
        {
          "data": {
            "text/html": [
              "Waiting for W&B process to finish... <strong style=\"color:green\">(success).</strong>"
            ],
            "text/plain": [
              "<IPython.core.display.HTML object>"
            ]
          },
          "metadata": {},
          "output_type": "display_data"
        },
        {
          "data": {
            "text/html": [
              "<style>\n",
              "    table.wandb td:nth-child(1) { padding: 0 10px; text-align: left ; width: auto;} td:nth-child(2) {text-align: left ; width: 100%}\n",
              "    .wandb-row { display: flex; flex-direction: row; flex-wrap: wrap; justify-content: flex-start; width: 100% }\n",
              "    .wandb-col { display: flex; flex-direction: column; flex-basis: 100%; flex: 1; padding: 10px; }\n",
              "    </style>\n",
              "<div class=\"wandb-row\"><div class=\"wandb-col\"><h3>Run history:</h3><br/><table class=\"wandb\"><tr><td>epoch</td><td>▁▁▂▃▃▃▄▅▅▅▆▇▇▇█</td></tr><tr><td>loss</td><td>█▆▅▅▄▄▄▆▃▂▅▃▂▂▁</td></tr><tr><td>test_acc</td><td>▁▄▃▃▆▇▇▇███▇▇▆▆</td></tr><tr><td>test_loss</td><td>█▅▇▅▂▂▁▁▁▁▂▆▄▆▆</td></tr><tr><td>train_acc</td><td>▁▂▂▂▃▄▄▄▅▆▆▆▇▇█</td></tr><tr><td>train_loss</td><td>█▆▅▅▄▄▄▆▃▂▅▃▂▂▁</td></tr><tr><td>val_acc</td><td>▁▃▄▃▆▆▇▇▇██▇▇▇▆</td></tr><tr><td>val_loss</td><td>▇▅█▄▂▂▁▁▂▂▂▅▆▇█</td></tr></table><br/></div><div class=\"wandb-col\"><h3>Run summary:</h3><br/><table class=\"wandb\"><tr><td>epoch</td><td>15</td></tr><tr><td>loss</td><td>1.12455</td></tr><tr><td>test_acc</td><td>33.2</td></tr><tr><td>test_loss</td><td>2.05244</td></tr><tr><td>train_acc</td><td>63.30791</td></tr><tr><td>train_loss</td><td>1.12455</td></tr><tr><td>val_acc</td><td>31.7</td></tr><tr><td>val_loss</td><td>2.14155</td></tr></table><br/></div></div>"
            ],
            "text/plain": [
              "<IPython.core.display.HTML object>"
            ]
          },
          "metadata": {},
          "output_type": "display_data"
        },
        {
          "data": {
            "text/html": [
              " View run <strong style=\"color:#cdcd00\">nfliter_16op_adam_ac_Mish_n_0.001_bs_32_dp_0_bn_True</strong> at: <a href='https://wandb.ai/cs22s015/CS6910_Assignment_2_Q2/runs/xksdas72' target=\"_blank\">https://wandb.ai/cs22s015/CS6910_Assignment_2_Q2/runs/xksdas72</a><br/>Synced 5 W&B file(s), 0 media file(s), 0 artifact file(s) and 0 other file(s)"
            ],
            "text/plain": [
              "<IPython.core.display.HTML object>"
            ]
          },
          "metadata": {},
          "output_type": "display_data"
        },
        {
          "data": {
            "text/html": [
              "Find logs at: <code>./wandb/run-20230410_220155-xksdas72/logs</code>"
            ],
            "text/plain": [
              "<IPython.core.display.HTML object>"
            ]
          },
          "metadata": {},
          "output_type": "display_data"
        },
        {
          "name": "stderr",
          "output_type": "stream",
          "text": [
            "\u001b[34m\u001b[1mwandb\u001b[0m: Sweep Agent: Waiting for job.\n",
            "\u001b[34m\u001b[1mwandb\u001b[0m: Job received.\n",
            "\u001b[34m\u001b[1mwandb\u001b[0m: Agent Starting Run: 2kmc4vff with config:\n",
            "\u001b[34m\u001b[1mwandb\u001b[0m: \tactivation: Gelu\n",
            "\u001b[34m\u001b[1mwandb\u001b[0m: \tbatch_norm: True\n",
            "\u001b[34m\u001b[1mwandb\u001b[0m: \tbatch_size: 128\n",
            "\u001b[34m\u001b[1mwandb\u001b[0m: \tdata_aug: False\n",
            "\u001b[34m\u001b[1mwandb\u001b[0m: \tdropout: 0.2\n",
            "\u001b[34m\u001b[1mwandb\u001b[0m: \tfc_neurons: 128\n",
            "\u001b[34m\u001b[1mwandb\u001b[0m: \tfilter_multiplier: 0.5\n",
            "\u001b[34m\u001b[1mwandb\u001b[0m: \tkernel_sizes: [7, 5, 5, 3, 3]\n",
            "\u001b[34m\u001b[1mwandb\u001b[0m: \tlearning_rate: 0.0005\n",
            "\u001b[34m\u001b[1mwandb\u001b[0m: \tnum_filters: 16\n",
            "\u001b[34m\u001b[1mwandb\u001b[0m: \toptimizer: adam\n"
          ]
        },
        {
          "data": {
            "text/html": [
              "Tracking run with wandb version 0.14.2"
            ],
            "text/plain": [
              "<IPython.core.display.HTML object>"
            ]
          },
          "metadata": {},
          "output_type": "display_data"
        },
        {
          "data": {
            "text/html": [
              "Run data is saved locally in <code>/home/vplab/Anushka/Dl/wandb/run-20230410_231145-2kmc4vff</code>"
            ],
            "text/plain": [
              "<IPython.core.display.HTML object>"
            ]
          },
          "metadata": {},
          "output_type": "display_data"
        },
        {
          "data": {
            "text/html": [
              "Syncing run <strong><a href='https://wandb.ai/cs22s015/CS6910_Assignment_2_Q2/runs/2kmc4vff' target=\"_blank\">drawn-sweep-2</a></strong> to <a href='https://wandb.ai/cs22s015/CS6910_Assignment_2_Q2' target=\"_blank\">Weights & Biases</a> (<a href='https://wandb.me/run' target=\"_blank\">docs</a>)<br/>Sweep page: <a href='https://wandb.ai/cs22s015/CS6910_Assignment_2_Q2/sweeps/o095cvvz' target=\"_blank\">https://wandb.ai/cs22s015/CS6910_Assignment_2_Q2/sweeps/o095cvvz</a>"
            ],
            "text/plain": [
              "<IPython.core.display.HTML object>"
            ]
          },
          "metadata": {},
          "output_type": "display_data"
        },
        {
          "data": {
            "text/html": [
              " View project at <a href='https://wandb.ai/cs22s015/CS6910_Assignment_2_Q2' target=\"_blank\">https://wandb.ai/cs22s015/CS6910_Assignment_2_Q2</a>"
            ],
            "text/plain": [
              "<IPython.core.display.HTML object>"
            ]
          },
          "metadata": {},
          "output_type": "display_data"
        },
        {
          "data": {
            "text/html": [
              " View sweep at <a href='https://wandb.ai/cs22s015/CS6910_Assignment_2_Q2/sweeps/o095cvvz' target=\"_blank\">https://wandb.ai/cs22s015/CS6910_Assignment_2_Q2/sweeps/o095cvvz</a>"
            ],
            "text/plain": [
              "<IPython.core.display.HTML object>"
            ]
          },
          "metadata": {},
          "output_type": "display_data"
        },
        {
          "data": {
            "text/html": [
              " View run at <a href='https://wandb.ai/cs22s015/CS6910_Assignment_2_Q2/runs/2kmc4vff' target=\"_blank\">https://wandb.ai/cs22s015/CS6910_Assignment_2_Q2/runs/2kmc4vff</a>"
            ],
            "text/plain": [
              "<IPython.core.display.HTML object>"
            ]
          },
          "metadata": {},
          "output_type": "display_data"
        },
        {
          "data": {
            "text/html": [
              "Finishing last run (ID:2kmc4vff) before initializing another..."
            ],
            "text/plain": [
              "<IPython.core.display.HTML object>"
            ]
          },
          "metadata": {},
          "output_type": "display_data"
        },
        {
          "data": {
            "text/html": [
              "Waiting for W&B process to finish... <strong style=\"color:green\">(success).</strong>"
            ],
            "text/plain": [
              "<IPython.core.display.HTML object>"
            ]
          },
          "metadata": {},
          "output_type": "display_data"
        },
        {
          "data": {
            "application/vnd.jupyter.widget-view+json": {
              "model_id": "683e7b7df79f47bcac0f1a95b80b72b6",
              "version_major": 2,
              "version_minor": 0
            },
            "text/plain": [
              "VBox(children=(Label(value='0.002 MB of 0.005 MB uploaded (0.000 MB deduped)\\r'), FloatProgress(value=0.372620…"
            ]
          },
          "metadata": {},
          "output_type": "display_data"
        },
        {
          "data": {
            "text/html": [
              " View run <strong style=\"color:#cdcd00\">drawn-sweep-2</strong> at: <a href='https://wandb.ai/cs22s015/CS6910_Assignment_2_Q2/runs/2kmc4vff' target=\"_blank\">https://wandb.ai/cs22s015/CS6910_Assignment_2_Q2/runs/2kmc4vff</a><br/>Synced 4 W&B file(s), 0 media file(s), 0 artifact file(s) and 0 other file(s)"
            ],
            "text/plain": [
              "<IPython.core.display.HTML object>"
            ]
          },
          "metadata": {},
          "output_type": "display_data"
        },
        {
          "data": {
            "text/html": [
              "Find logs at: <code>./wandb/run-20230410_231145-2kmc4vff/logs</code>"
            ],
            "text/plain": [
              "<IPython.core.display.HTML object>"
            ]
          },
          "metadata": {},
          "output_type": "display_data"
        },
        {
          "data": {
            "text/html": [
              "Successfully finished last run (ID:2kmc4vff). Initializing new run:<br/>"
            ],
            "text/plain": [
              "<IPython.core.display.HTML object>"
            ]
          },
          "metadata": {},
          "output_type": "display_data"
        },
        {
          "data": {
            "application/vnd.jupyter.widget-view+json": {
              "model_id": "ec8be3932d1d42eaaf11b44f1d997613",
              "version_major": 2,
              "version_minor": 0
            },
            "text/plain": [
              "VBox(children=(Label(value='Waiting for wandb.init()...\\r'), FloatProgress(value=0.016669156566664848, max=1.0…"
            ]
          },
          "metadata": {},
          "output_type": "display_data"
        },
        {
          "name": "stderr",
          "output_type": "stream",
          "text": [
            "Thread WriterThread:\n",
            "Traceback (most recent call last):\n",
            "  File \"/home/vplab/Anushka/Dl/lib/python3.8/site-packages/wandb/sdk/internal/internal_util.py\", line 49, in run\n",
            "    self._run()\n",
            "  File \"/home/vplab/Anushka/Dl/lib/python3.8/site-packages/wandb/sdk/internal/internal_util.py\", line 100, in _run\n",
            "    self._process(record)\n",
            "  File \"/home/vplab/Anushka/Dl/lib/python3.8/site-packages/wandb/sdk/internal/internal.py\", line 380, in _process\n",
            "    self._wm.write(record)\n",
            "  File \"/home/vplab/Anushka/Dl/lib/python3.8/site-packages/wandb/sdk/internal/writer.py\", line 154, in write\n",
            "    write_handler(record)\n",
            "  File \"/home/vplab/Anushka/Dl/lib/python3.8/site-packages/wandb/sdk/internal/writer.py\", line 131, in _write\n",
            "    self.open()\n",
            "  File \"/home/vplab/Anushka/Dl/lib/python3.8/site-packages/wandb/sdk/internal/writer.py\", line 71, in open\n",
            "    self._ds.open_for_write(self._settings.sync_file)\n",
            "  File \"/home/vplab/Anushka/Dl/lib/python3.8/site-packages/wandb/sdk/internal/datastore.py\", line 87, in open_for_write\n",
            "    self._fp = open(fname, open_flags)\n",
            "FileExistsError: [Errno 17] File exists: '/home/vplab/Anushka/Dl/wandb/run-20230410_231145-2kmc4vff/run-2kmc4vff.wandb'\n",
            "wandb: ERROR Internal wandb error: file data was not synced\n"
          ]
        }
      ],
      "source": [
        "\n",
        "# Initialize the WandB sweep\n",
        "sweep_id = wandb.sweep(sweep_config, project='CS6910_Assignment_2_Q2')\n",
        "wandb.agent(sweep_id, function=train,count=5)\n"
      ]
    },
    {
      "cell_type": "code",
      "execution_count": null,
      "id": "77dac26f",
      "metadata": {
        "id": "77dac26f"
      },
      "outputs": [],
      "source": [
        "\n",
        "# Initialize the WandB sweep\n",
        "sweep_id = wandb.sweep(sweep_config, project='CS6910_Assignment_2_Q2')\n",
        "wandb.agent(sweep_id, function=train,count=5)\n"
      ]
    },
    {
      "cell_type": "code",
      "execution_count": null,
      "id": "7393ba6e",
      "metadata": {
        "id": "7393ba6e"
      },
      "outputs": [],
      "source": [
        "\n",
        "# Initialize the WandB sweep\n",
        "sweep_id = wandb.sweep(sweep_config, project='CS6910_Assignment_2_Q2')\n",
        "wandb.agent(sweep_id, function=train,count=5)\n"
      ]
    },
    {
      "cell_type": "code",
      "execution_count": null,
      "id": "d2a699f0",
      "metadata": {
        "id": "d2a699f0"
      },
      "outputs": [],
      "source": []
    }
  ],
  "metadata": {
    "kernelspec": {
      "display_name": "Python 3",
      "name": "python3"
    },
    "language_info": {
      "name": "python"
    },
    "papermill": {
      "default_parameters": {},
      "duration": 21165.436974,
      "end_time": "2023-04-07T17:11:30.816189",
      "environment_variables": {},
      "exception": null,
      "input_path": "__notebook__.ipynb",
      "output_path": "__notebook__.ipynb",
      "parameters": {},
      "start_time": "2023-04-07T11:18:45.379215",
      "version": "2.4.0"
    },
    "widgets": {
      "application/vnd.jupyter.widget-state+json": {}
    },
    "colab": {
      "provenance": [],
      "include_colab_link": true
    },
    "accelerator": "GPU",
    "gpuClass": "standard"
  },
  "nbformat": 4,
  "nbformat_minor": 5
}